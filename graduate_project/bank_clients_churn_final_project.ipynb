{
 "cells": [
  {
   "cell_type": "markdown",
   "metadata": {},
   "source": [
    "# Банки — Сегментация пользователей по потреблению"
   ]
  },
  {
   "cell_type": "markdown",
   "metadata": {},
   "source": [
    "# Цель проекта"
   ]
  },
  {
   "cell_type": "markdown",
   "metadata": {},
   "source": [
    "Последнее время в банке сильно вырос отток клиентов. Для отдела маркетинга нужен анализ клиентов банка, разделение их на сегменты по продуктам банка и другим признакам в контексте оттока. Нужно составить рекомендации по приоритетным сегментам."
   ]
  },
  {
   "cell_type": "markdown",
   "metadata": {},
   "source": [
    "# Этапы исследования"
   ]
  },
  {
   "cell_type": "markdown",
   "metadata": {},
   "source": [
    "1. Загрузка данных и подготовка к исследованию.\n",
    "\n",
    "- Переименование колонок\n",
    "- Работа с пропусками\n",
    "- Поиск дубликатов\n",
    "- Кодировка категориальных признаков 'gender', 'city'\n",
    "\n",
    " *Результат:* данные, готовые к дальнейшему исследованию. "
   ]
  },
  {
   "cell_type": "markdown",
   "metadata": {},
   "source": [
    "2. Исследовательский анализ данных.\n",
    "\n",
    "- сравнение портретов клиентов. Сравнение оттока клиентов по городу, гендеру, возрасту, зарплате, балансу.\n",
    "- распределение непрерывных данных по разрезам. Построение гистограмм с нормализацией.\n",
    "- относительные значения по категориям. \n",
    "- построение phik корреляции"
   ]
  },
  {
   "cell_type": "markdown",
   "metadata": {},
   "source": [
    "3. Проверка статистических гипотез. \n",
    "\n",
    "- Формирование выборок и выбор стат теста с обоснованием. Сравнение отточных и оставшихся клиентов по ключевому признаку.\n",
    "- Проверка гипотезы о влиянии количества продуктов на отток клиентов банка.\n",
    "- Проверка гипотезы о различии среднего возраста у отточных и лояльных клиентов.\n",
    "- Проверка гипотезы о различии среднего кредитного рейтинга у отточных и лояльных клиентов.\n",
    "- Проверка гипотезы о различии среднего возраста у клиентов с 1 продуктом и 2 продуктами."
   ]
  },
  {
   "cell_type": "markdown",
   "metadata": {},
   "source": [
    "4. Промежуточный итог. Выбор показателей, по которым строить сегменты.\n",
    "- Получить усечённый список признаков, около 5. \n",
    "- Поиск диапазонов, влияющих на отток."
   ]
  },
  {
   "cell_type": "markdown",
   "metadata": {},
   "source": [
    "5. Сегментация на основе выделенных показателей.\n",
    "  *Результат:*\n",
    "- Выделить не более 3 сегментов по 300-1000 клиентов, стремиться к 300.\n",
    "- Описание каждого сегмента: уровень оттока, признаки клиента, характерные особенности"
   ]
  },
  {
   "cell_type": "markdown",
   "metadata": {},
   "source": [
    "6. Выводы и рекомендации для заказчика. *Результат:*\n",
    "\n",
    "- Презентация для отдела маркетинга.\n",
    "- Описание сегментов клиентов и параметров, которые влияют на их отток. "
   ]
  },
  {
   "cell_type": "markdown",
   "metadata": {},
   "source": [
    "# Описание данных"
   ]
  },
  {
   "cell_type": "markdown",
   "metadata": {},
   "source": [
    "Датасет содержит данные о клиентах банка «Метанпром». Банк располагается в Ярославле и областных городах: Ростов Великий и Рыбинск.\n",
    "Колонки:\n",
    "+ userid — идентификатор пользователя,\n",
    "+ score — баллы кредитного скоринга,\n",
    "+ City — город,\n",
    "+ Gender — пол,\n",
    "+ Age — возраст,\n",
    "+ Objects/equity — количество объектов в собственности,\n",
    "+ Balance — баланс на счёте,\n",
    "+ Products — количество продуктов, которыми пользуется клиент,\n",
    "+ CreditCard — есть ли кредитная карта,\n",
    "+ Loyalty — активный клиент,\n",
    "+ estimated_salary — заработная плата клиента,\n",
    "+ Churn — ушёл или нет.   "
   ]
  },
  {
   "cell_type": "markdown",
   "metadata": {},
   "source": [
    "# Загрузка данных"
   ]
  },
  {
   "cell_type": "code",
   "execution_count": 1,
   "metadata": {},
   "outputs": [],
   "source": [
    "#импортируем бибилиотеки\n",
    "import pandas as pd\n",
    "import numpy as np\n",
    "import matplotlib.pyplot as plt\n",
    "import datetime as dt\n",
    "import scipy.stats as stats\n",
    "from scipy.stats import ttest_ind\n",
    "from scipy.stats import chi2_contingency\n",
    "import math\n",
    "\n",
    "\n",
    "import seaborn as sns\n",
    "import plotly.express as px \n",
    "from plotly import graph_objects as go\n",
    "\n",
    "import phik\n",
    "from phik import resources, report"
   ]
  },
  {
   "cell_type": "code",
   "execution_count": 2,
   "metadata": {},
   "outputs": [],
   "source": [
    "df=pd.read_csv('bank_scrooge.csv')"
   ]
  },
  {
   "cell_type": "code",
   "execution_count": 3,
   "metadata": {},
   "outputs": [
    {
     "data": {
      "text/html": [
       "<div>\n",
       "<style scoped>\n",
       "    .dataframe tbody tr th:only-of-type {\n",
       "        vertical-align: middle;\n",
       "    }\n",
       "\n",
       "    .dataframe tbody tr th {\n",
       "        vertical-align: top;\n",
       "    }\n",
       "\n",
       "    .dataframe thead th {\n",
       "        text-align: right;\n",
       "    }\n",
       "</style>\n",
       "<table border=\"1\" class=\"dataframe\">\n",
       "  <thead>\n",
       "    <tr style=\"text-align: right;\">\n",
       "      <th></th>\n",
       "      <th>USERID</th>\n",
       "      <th>score</th>\n",
       "      <th>city</th>\n",
       "      <th>gender</th>\n",
       "      <th>age</th>\n",
       "      <th>equity</th>\n",
       "      <th>balance</th>\n",
       "      <th>products</th>\n",
       "      <th>credit_card</th>\n",
       "      <th>last_activity</th>\n",
       "      <th>EST_SALARY</th>\n",
       "      <th>churn</th>\n",
       "    </tr>\n",
       "  </thead>\n",
       "  <tbody>\n",
       "    <tr>\n",
       "      <th>0</th>\n",
       "      <td>183012</td>\n",
       "      <td>850.0</td>\n",
       "      <td>Рыбинск</td>\n",
       "      <td>Ж</td>\n",
       "      <td>25.0</td>\n",
       "      <td>1</td>\n",
       "      <td>59214.82</td>\n",
       "      <td>2</td>\n",
       "      <td>0</td>\n",
       "      <td>1</td>\n",
       "      <td>75719.14</td>\n",
       "      <td>1</td>\n",
       "    </tr>\n",
       "    <tr>\n",
       "      <th>1</th>\n",
       "      <td>146556</td>\n",
       "      <td>861.0</td>\n",
       "      <td>Рыбинск</td>\n",
       "      <td>Ж</td>\n",
       "      <td>37.0</td>\n",
       "      <td>5</td>\n",
       "      <td>850594.33</td>\n",
       "      <td>3</td>\n",
       "      <td>1</td>\n",
       "      <td>0</td>\n",
       "      <td>86621.77</td>\n",
       "      <td>0</td>\n",
       "    </tr>\n",
       "    <tr>\n",
       "      <th>2</th>\n",
       "      <td>120722</td>\n",
       "      <td>892.0</td>\n",
       "      <td>Рыбинск</td>\n",
       "      <td>Ж</td>\n",
       "      <td>30.0</td>\n",
       "      <td>0</td>\n",
       "      <td>NaN</td>\n",
       "      <td>1</td>\n",
       "      <td>1</td>\n",
       "      <td>1</td>\n",
       "      <td>107683.34</td>\n",
       "      <td>0</td>\n",
       "    </tr>\n",
       "    <tr>\n",
       "      <th>3</th>\n",
       "      <td>225363</td>\n",
       "      <td>866.0</td>\n",
       "      <td>Ярославль</td>\n",
       "      <td>Ж</td>\n",
       "      <td>51.0</td>\n",
       "      <td>5</td>\n",
       "      <td>1524746.26</td>\n",
       "      <td>2</td>\n",
       "      <td>0</td>\n",
       "      <td>1</td>\n",
       "      <td>174423.53</td>\n",
       "      <td>1</td>\n",
       "    </tr>\n",
       "    <tr>\n",
       "      <th>4</th>\n",
       "      <td>157978</td>\n",
       "      <td>730.0</td>\n",
       "      <td>Ярославль</td>\n",
       "      <td>М</td>\n",
       "      <td>34.0</td>\n",
       "      <td>5</td>\n",
       "      <td>174.00</td>\n",
       "      <td>1</td>\n",
       "      <td>1</td>\n",
       "      <td>0</td>\n",
       "      <td>67353.16</td>\n",
       "      <td>1</td>\n",
       "    </tr>\n",
       "    <tr>\n",
       "      <th>...</th>\n",
       "      <td>...</td>\n",
       "      <td>...</td>\n",
       "      <td>...</td>\n",
       "      <td>...</td>\n",
       "      <td>...</td>\n",
       "      <td>...</td>\n",
       "      <td>...</td>\n",
       "      <td>...</td>\n",
       "      <td>...</td>\n",
       "      <td>...</td>\n",
       "      <td>...</td>\n",
       "      <td>...</td>\n",
       "    </tr>\n",
       "    <tr>\n",
       "      <th>9995</th>\n",
       "      <td>120553</td>\n",
       "      <td>814.0</td>\n",
       "      <td>Рыбинск</td>\n",
       "      <td>М</td>\n",
       "      <td>27.0</td>\n",
       "      <td>1</td>\n",
       "      <td>78144.65</td>\n",
       "      <td>1</td>\n",
       "      <td>0</td>\n",
       "      <td>1</td>\n",
       "      <td>18943.64</td>\n",
       "      <td>0</td>\n",
       "    </tr>\n",
       "    <tr>\n",
       "      <th>9996</th>\n",
       "      <td>139170</td>\n",
       "      <td>894.0</td>\n",
       "      <td>Ярославль</td>\n",
       "      <td>М</td>\n",
       "      <td>46.0</td>\n",
       "      <td>0</td>\n",
       "      <td>NaN</td>\n",
       "      <td>1</td>\n",
       "      <td>1</td>\n",
       "      <td>0</td>\n",
       "      <td>196898.29</td>\n",
       "      <td>0</td>\n",
       "    </tr>\n",
       "    <tr>\n",
       "      <th>9997</th>\n",
       "      <td>115639</td>\n",
       "      <td>903.0</td>\n",
       "      <td>Ярославль</td>\n",
       "      <td>М</td>\n",
       "      <td>24.0</td>\n",
       "      <td>0</td>\n",
       "      <td>NaN</td>\n",
       "      <td>2</td>\n",
       "      <td>1</td>\n",
       "      <td>1</td>\n",
       "      <td>108905.09</td>\n",
       "      <td>0</td>\n",
       "    </tr>\n",
       "    <tr>\n",
       "      <th>9998</th>\n",
       "      <td>148700</td>\n",
       "      <td>777.0</td>\n",
       "      <td>Ярославль</td>\n",
       "      <td>Ж</td>\n",
       "      <td>68.0</td>\n",
       "      <td>3</td>\n",
       "      <td>865457.97</td>\n",
       "      <td>3</td>\n",
       "      <td>0</td>\n",
       "      <td>1</td>\n",
       "      <td>86874.90</td>\n",
       "      <td>0</td>\n",
       "    </tr>\n",
       "    <tr>\n",
       "      <th>9999</th>\n",
       "      <td>96267</td>\n",
       "      <td>828.0</td>\n",
       "      <td>Рыбинск</td>\n",
       "      <td>Ж</td>\n",
       "      <td>58.0</td>\n",
       "      <td>3</td>\n",
       "      <td>1180886.70</td>\n",
       "      <td>4</td>\n",
       "      <td>0</td>\n",
       "      <td>1</td>\n",
       "      <td>21422.37</td>\n",
       "      <td>0</td>\n",
       "    </tr>\n",
       "  </tbody>\n",
       "</table>\n",
       "<p>10000 rows × 12 columns</p>\n",
       "</div>"
      ],
      "text/plain": [
       "      USERID  score       city gender   age  equity     balance  products  \\\n",
       "0     183012  850.0    Рыбинск      Ж  25.0       1    59214.82         2   \n",
       "1     146556  861.0    Рыбинск      Ж  37.0       5   850594.33         3   \n",
       "2     120722  892.0    Рыбинск      Ж  30.0       0         NaN         1   \n",
       "3     225363  866.0  Ярославль      Ж  51.0       5  1524746.26         2   \n",
       "4     157978  730.0  Ярославль      М  34.0       5      174.00         1   \n",
       "...      ...    ...        ...    ...   ...     ...         ...       ...   \n",
       "9995  120553  814.0    Рыбинск      М  27.0       1    78144.65         1   \n",
       "9996  139170  894.0  Ярославль      М  46.0       0         NaN         1   \n",
       "9997  115639  903.0  Ярославль      М  24.0       0         NaN         2   \n",
       "9998  148700  777.0  Ярославль      Ж  68.0       3   865457.97         3   \n",
       "9999   96267  828.0    Рыбинск      Ж  58.0       3  1180886.70         4   \n",
       "\n",
       "      credit_card  last_activity  EST_SALARY  churn  \n",
       "0               0              1    75719.14      1  \n",
       "1               1              0    86621.77      0  \n",
       "2               1              1   107683.34      0  \n",
       "3               0              1   174423.53      1  \n",
       "4               1              0    67353.16      1  \n",
       "...           ...            ...         ...    ...  \n",
       "9995            0              1    18943.64      0  \n",
       "9996            1              0   196898.29      0  \n",
       "9997            1              1   108905.09      0  \n",
       "9998            0              1    86874.90      0  \n",
       "9999            0              1    21422.37      0  \n",
       "\n",
       "[10000 rows x 12 columns]"
      ]
     },
     "metadata": {},
     "output_type": "display_data"
    }
   ],
   "source": [
    "display(df)"
   ]
  },
  {
   "cell_type": "code",
   "execution_count": 4,
   "metadata": {},
   "outputs": [
    {
     "name": "stdout",
     "output_type": "stream",
     "text": [
      "<class 'pandas.core.frame.DataFrame'>\n",
      "RangeIndex: 10000 entries, 0 to 9999\n",
      "Data columns (total 12 columns):\n",
      " #   Column         Non-Null Count  Dtype  \n",
      "---  ------         --------------  -----  \n",
      " 0   USERID         10000 non-null  int64  \n",
      " 1   score          10000 non-null  float64\n",
      " 2   city           10000 non-null  object \n",
      " 3   gender         10000 non-null  object \n",
      " 4   age            9974 non-null   float64\n",
      " 5   equity         10000 non-null  int64  \n",
      " 6   balance        7705 non-null   float64\n",
      " 7   products       10000 non-null  int64  \n",
      " 8   credit_card    10000 non-null  int64  \n",
      " 9   last_activity  10000 non-null  int64  \n",
      " 10  EST_SALARY     10000 non-null  float64\n",
      " 11  churn          10000 non-null  int64  \n",
      "dtypes: float64(4), int64(6), object(2)\n",
      "memory usage: 937.6+ KB\n"
     ]
    }
   ],
   "source": [
    "df.info()"
   ]
  },
  {
   "cell_type": "code",
   "execution_count": 5,
   "metadata": {},
   "outputs": [
    {
     "data": {
      "text/html": [
       "<div>\n",
       "<style scoped>\n",
       "    .dataframe tbody tr th:only-of-type {\n",
       "        vertical-align: middle;\n",
       "    }\n",
       "\n",
       "    .dataframe tbody tr th {\n",
       "        vertical-align: top;\n",
       "    }\n",
       "\n",
       "    .dataframe thead th {\n",
       "        text-align: right;\n",
       "    }\n",
       "</style>\n",
       "<table border=\"1\" class=\"dataframe\">\n",
       "  <thead>\n",
       "    <tr style=\"text-align: right;\">\n",
       "      <th></th>\n",
       "      <th>USERID</th>\n",
       "      <th>score</th>\n",
       "      <th>age</th>\n",
       "      <th>equity</th>\n",
       "      <th>balance</th>\n",
       "      <th>products</th>\n",
       "      <th>credit_card</th>\n",
       "      <th>last_activity</th>\n",
       "      <th>EST_SALARY</th>\n",
       "      <th>churn</th>\n",
       "    </tr>\n",
       "  </thead>\n",
       "  <tbody>\n",
       "    <tr>\n",
       "      <th>count</th>\n",
       "      <td>10000.00000</td>\n",
       "      <td>10000.000000</td>\n",
       "      <td>9974.000000</td>\n",
       "      <td>10000.000000</td>\n",
       "      <td>7.705000e+03</td>\n",
       "      <td>10000.000000</td>\n",
       "      <td>10000.000000</td>\n",
       "      <td>10000.000000</td>\n",
       "      <td>1.000000e+04</td>\n",
       "      <td>10000.000000</td>\n",
       "    </tr>\n",
       "    <tr>\n",
       "      <th>mean</th>\n",
       "      <td>171814.71260</td>\n",
       "      <td>848.699400</td>\n",
       "      <td>42.734409</td>\n",
       "      <td>2.627600</td>\n",
       "      <td>8.277943e+05</td>\n",
       "      <td>1.870100</td>\n",
       "      <td>0.680400</td>\n",
       "      <td>0.523500</td>\n",
       "      <td>1.478669e+05</td>\n",
       "      <td>0.182000</td>\n",
       "    </tr>\n",
       "    <tr>\n",
       "      <th>std</th>\n",
       "      <td>33708.23812</td>\n",
       "      <td>65.448519</td>\n",
       "      <td>12.179971</td>\n",
       "      <td>1.980836</td>\n",
       "      <td>1.980614e+06</td>\n",
       "      <td>0.792647</td>\n",
       "      <td>0.466345</td>\n",
       "      <td>0.499472</td>\n",
       "      <td>1.393885e+05</td>\n",
       "      <td>0.385864</td>\n",
       "    </tr>\n",
       "    <tr>\n",
       "      <th>min</th>\n",
       "      <td>94561.00000</td>\n",
       "      <td>642.000000</td>\n",
       "      <td>18.000000</td>\n",
       "      <td>0.000000</td>\n",
       "      <td>0.000000e+00</td>\n",
       "      <td>0.000000</td>\n",
       "      <td>0.000000</td>\n",
       "      <td>0.000000</td>\n",
       "      <td>2.546300e+03</td>\n",
       "      <td>0.000000</td>\n",
       "    </tr>\n",
       "    <tr>\n",
       "      <th>25%</th>\n",
       "      <td>142810.25000</td>\n",
       "      <td>802.000000</td>\n",
       "      <td>33.000000</td>\n",
       "      <td>0.000000</td>\n",
       "      <td>2.955542e+05</td>\n",
       "      <td>1.000000</td>\n",
       "      <td>0.000000</td>\n",
       "      <td>0.000000</td>\n",
       "      <td>7.525190e+04</td>\n",
       "      <td>0.000000</td>\n",
       "    </tr>\n",
       "    <tr>\n",
       "      <th>50%</th>\n",
       "      <td>172728.00000</td>\n",
       "      <td>853.000000</td>\n",
       "      <td>40.000000</td>\n",
       "      <td>3.000000</td>\n",
       "      <td>5.242722e+05</td>\n",
       "      <td>2.000000</td>\n",
       "      <td>1.000000</td>\n",
       "      <td>1.000000</td>\n",
       "      <td>1.196581e+05</td>\n",
       "      <td>0.000000</td>\n",
       "    </tr>\n",
       "    <tr>\n",
       "      <th>75%</th>\n",
       "      <td>201261.75000</td>\n",
       "      <td>900.000000</td>\n",
       "      <td>51.000000</td>\n",
       "      <td>4.000000</td>\n",
       "      <td>9.807058e+05</td>\n",
       "      <td>2.000000</td>\n",
       "      <td>1.000000</td>\n",
       "      <td>1.000000</td>\n",
       "      <td>1.745005e+05</td>\n",
       "      <td>0.000000</td>\n",
       "    </tr>\n",
       "    <tr>\n",
       "      <th>max</th>\n",
       "      <td>229145.00000</td>\n",
       "      <td>1000.000000</td>\n",
       "      <td>86.000000</td>\n",
       "      <td>9.000000</td>\n",
       "      <td>1.191136e+08</td>\n",
       "      <td>5.000000</td>\n",
       "      <td>1.000000</td>\n",
       "      <td>1.000000</td>\n",
       "      <td>1.395064e+06</td>\n",
       "      <td>1.000000</td>\n",
       "    </tr>\n",
       "  </tbody>\n",
       "</table>\n",
       "</div>"
      ],
      "text/plain": [
       "             USERID         score          age        equity       balance  \\\n",
       "count   10000.00000  10000.000000  9974.000000  10000.000000  7.705000e+03   \n",
       "mean   171814.71260    848.699400    42.734409      2.627600  8.277943e+05   \n",
       "std     33708.23812     65.448519    12.179971      1.980836  1.980614e+06   \n",
       "min     94561.00000    642.000000    18.000000      0.000000  0.000000e+00   \n",
       "25%    142810.25000    802.000000    33.000000      0.000000  2.955542e+05   \n",
       "50%    172728.00000    853.000000    40.000000      3.000000  5.242722e+05   \n",
       "75%    201261.75000    900.000000    51.000000      4.000000  9.807058e+05   \n",
       "max    229145.00000   1000.000000    86.000000      9.000000  1.191136e+08   \n",
       "\n",
       "           products   credit_card  last_activity    EST_SALARY         churn  \n",
       "count  10000.000000  10000.000000   10000.000000  1.000000e+04  10000.000000  \n",
       "mean       1.870100      0.680400       0.523500  1.478669e+05      0.182000  \n",
       "std        0.792647      0.466345       0.499472  1.393885e+05      0.385864  \n",
       "min        0.000000      0.000000       0.000000  2.546300e+03      0.000000  \n",
       "25%        1.000000      0.000000       0.000000  7.525190e+04      0.000000  \n",
       "50%        2.000000      1.000000       1.000000  1.196581e+05      0.000000  \n",
       "75%        2.000000      1.000000       1.000000  1.745005e+05      0.000000  \n",
       "max        5.000000      1.000000       1.000000  1.395064e+06      1.000000  "
      ]
     },
     "metadata": {},
     "output_type": "display_data"
    }
   ],
   "source": [
    "display(df.describe())"
   ]
  },
  {
   "cell_type": "markdown",
   "metadata": {},
   "source": [
    "*У нас есть датафрейм с 10000 строк и 12 колонками. Данные представлены 3 типами: float64(4), int64(6), object(2).*"
   ]
  },
  {
   "cell_type": "markdown",
   "metadata": {},
   "source": [
    "# 1. Предобработка данных"
   ]
  },
  {
   "cell_type": "markdown",
   "metadata": {},
   "source": [
    "**1. Переименование колонок**"
   ]
  },
  {
   "cell_type": "markdown",
   "metadata": {},
   "source": [
    "*Названия колонок нужно привести к нижнему регистру. Некоторые названия можно сократить*"
   ]
  },
  {
   "cell_type": "code",
   "execution_count": 6,
   "metadata": {},
   "outputs": [
    {
     "name": "stdout",
     "output_type": "stream",
     "text": [
      "['user', 'score', 'city', 'gender', 'age', 'equity', 'balance', 'products', 'credit_card', 'last_activity', 'salary', 'churn']\n"
     ]
    }
   ],
   "source": [
    "#приведём названия к нижнему регистру\n",
    "df.columns = df.columns.str.lower()\n",
    "\n",
    "#сократим названия и добавим подчерк, где нужно\n",
    "#заменим название quity на objects, согласно ТЗ\n",
    "df = df.rename(columns={'userid' : 'user','creditcard': 'credit_card','est_salary': 'salary'})\n",
    "\n",
    "# Проверка названий колонок\n",
    "print(list(df))"
   ]
  },
  {
   "cell_type": "markdown",
   "metadata": {},
   "source": [
    "**2. Пропуски**"
   ]
  },
  {
   "cell_type": "code",
   "execution_count": 7,
   "metadata": {},
   "outputs": [
    {
     "name": "stdout",
     "output_type": "stream",
     "text": [
      "balance          2295\n",
      "age                26\n",
      "user                0\n",
      "score               0\n",
      "city                0\n",
      "gender              0\n",
      "equity              0\n",
      "products            0\n",
      "credit_card         0\n",
      "last_activity       0\n",
      "salary              0\n",
      "churn               0\n",
      "dtype: int64\n"
     ]
    }
   ],
   "source": [
    "print(df.isna().sum().sort_values(ascending=False))"
   ]
  },
  {
   "cell_type": "markdown",
   "metadata": {},
   "source": [
    "*Есть пропуски в колонке balance и age*"
   ]
  },
  {
   "cell_type": "code",
   "execution_count": 8,
   "metadata": {},
   "outputs": [
    {
     "name": "stdout",
     "output_type": "stream",
     "text": [
      "Количество пропущенных значений \n",
      " balance          22.95\n",
      "age               0.26\n",
      "user              0.00\n",
      "score             0.00\n",
      "city              0.00\n",
      "gender            0.00\n",
      "equity            0.00\n",
      "products          0.00\n",
      "credit_card       0.00\n",
      "last_activity     0.00\n",
      "salary            0.00\n",
      "churn             0.00\n",
      "dtype: float64\n"
     ]
    }
   ],
   "source": [
    "# Узнаем % пропущенных значений\n",
    "missing = df.isnull().sum().sort_values(ascending=False) / df.shape[0] * 100\n",
    "print('Количество пропущенных значений \\n', round(missing, 2))"
   ]
  },
  {
   "cell_type": "markdown",
   "metadata": {},
   "source": [
    "*Пропуски в колонке balance составляют почти 23%, их оставляем без изменений, потому что пропусков слишком много, чтобы удалять В колонке age пропуски 0,26% их можно удалить. Пропуски обособим в отдельную колонку balance_nan*"
   ]
  },
  {
   "cell_type": "code",
   "execution_count": 9,
   "metadata": {},
   "outputs": [],
   "source": [
    "# Пропуски в колонке age можно удалить\n",
    "df.dropna(subset=['age'],inplace=True)"
   ]
  },
  {
   "cell_type": "code",
   "execution_count": 10,
   "metadata": {},
   "outputs": [
    {
     "data": {
      "text/html": [
       "<div>\n",
       "<style scoped>\n",
       "    .dataframe tbody tr th:only-of-type {\n",
       "        vertical-align: middle;\n",
       "    }\n",
       "\n",
       "    .dataframe tbody tr th {\n",
       "        vertical-align: top;\n",
       "    }\n",
       "\n",
       "    .dataframe thead th {\n",
       "        text-align: right;\n",
       "    }\n",
       "</style>\n",
       "<table border=\"1\" class=\"dataframe\">\n",
       "  <thead>\n",
       "    <tr style=\"text-align: right;\">\n",
       "      <th></th>\n",
       "      <th>user</th>\n",
       "      <th>score</th>\n",
       "      <th>city</th>\n",
       "      <th>gender</th>\n",
       "      <th>age</th>\n",
       "      <th>equity</th>\n",
       "      <th>balance</th>\n",
       "      <th>products</th>\n",
       "      <th>credit_card</th>\n",
       "      <th>last_activity</th>\n",
       "      <th>salary</th>\n",
       "      <th>churn</th>\n",
       "      <th>balance_nan</th>\n",
       "    </tr>\n",
       "  </thead>\n",
       "  <tbody>\n",
       "    <tr>\n",
       "      <th>0</th>\n",
       "      <td>183012</td>\n",
       "      <td>850.0</td>\n",
       "      <td>Рыбинск</td>\n",
       "      <td>Ж</td>\n",
       "      <td>25.0</td>\n",
       "      <td>1</td>\n",
       "      <td>59214.82</td>\n",
       "      <td>2</td>\n",
       "      <td>0</td>\n",
       "      <td>1</td>\n",
       "      <td>75719.14</td>\n",
       "      <td>1</td>\n",
       "      <td>False</td>\n",
       "    </tr>\n",
       "    <tr>\n",
       "      <th>1</th>\n",
       "      <td>146556</td>\n",
       "      <td>861.0</td>\n",
       "      <td>Рыбинск</td>\n",
       "      <td>Ж</td>\n",
       "      <td>37.0</td>\n",
       "      <td>5</td>\n",
       "      <td>850594.33</td>\n",
       "      <td>3</td>\n",
       "      <td>1</td>\n",
       "      <td>0</td>\n",
       "      <td>86621.77</td>\n",
       "      <td>0</td>\n",
       "      <td>False</td>\n",
       "    </tr>\n",
       "    <tr>\n",
       "      <th>2</th>\n",
       "      <td>120722</td>\n",
       "      <td>892.0</td>\n",
       "      <td>Рыбинск</td>\n",
       "      <td>Ж</td>\n",
       "      <td>30.0</td>\n",
       "      <td>0</td>\n",
       "      <td>NaN</td>\n",
       "      <td>1</td>\n",
       "      <td>1</td>\n",
       "      <td>1</td>\n",
       "      <td>107683.34</td>\n",
       "      <td>0</td>\n",
       "      <td>True</td>\n",
       "    </tr>\n",
       "    <tr>\n",
       "      <th>3</th>\n",
       "      <td>225363</td>\n",
       "      <td>866.0</td>\n",
       "      <td>Ярославль</td>\n",
       "      <td>Ж</td>\n",
       "      <td>51.0</td>\n",
       "      <td>5</td>\n",
       "      <td>1524746.26</td>\n",
       "      <td>2</td>\n",
       "      <td>0</td>\n",
       "      <td>1</td>\n",
       "      <td>174423.53</td>\n",
       "      <td>1</td>\n",
       "      <td>False</td>\n",
       "    </tr>\n",
       "    <tr>\n",
       "      <th>4</th>\n",
       "      <td>157978</td>\n",
       "      <td>730.0</td>\n",
       "      <td>Ярославль</td>\n",
       "      <td>М</td>\n",
       "      <td>34.0</td>\n",
       "      <td>5</td>\n",
       "      <td>174.00</td>\n",
       "      <td>1</td>\n",
       "      <td>1</td>\n",
       "      <td>0</td>\n",
       "      <td>67353.16</td>\n",
       "      <td>1</td>\n",
       "      <td>False</td>\n",
       "    </tr>\n",
       "  </tbody>\n",
       "</table>\n",
       "</div>"
      ],
      "text/plain": [
       "     user  score       city gender   age  equity     balance  products  \\\n",
       "0  183012  850.0    Рыбинск      Ж  25.0       1    59214.82         2   \n",
       "1  146556  861.0    Рыбинск      Ж  37.0       5   850594.33         3   \n",
       "2  120722  892.0    Рыбинск      Ж  30.0       0         NaN         1   \n",
       "3  225363  866.0  Ярославль      Ж  51.0       5  1524746.26         2   \n",
       "4  157978  730.0  Ярославль      М  34.0       5      174.00         1   \n",
       "\n",
       "   credit_card  last_activity     salary  churn  balance_nan  \n",
       "0            0              1   75719.14      1        False  \n",
       "1            1              0   86621.77      0        False  \n",
       "2            1              1  107683.34      0         True  \n",
       "3            0              1  174423.53      1        False  \n",
       "4            1              0   67353.16      1        False  "
      ]
     },
     "execution_count": 10,
     "metadata": {},
     "output_type": "execute_result"
    }
   ],
   "source": [
    "df['balance_nan'] = df['balance'].isna()\n",
    "df.head()"
   ]
  },
  {
   "cell_type": "code",
   "execution_count": 11,
   "metadata": {},
   "outputs": [
    {
     "name": "stdout",
     "output_type": "stream",
     "text": [
      "balance          2279\n",
      "user                0\n",
      "score               0\n",
      "city                0\n",
      "gender              0\n",
      "age                 0\n",
      "equity              0\n",
      "products            0\n",
      "credit_card         0\n",
      "last_activity       0\n",
      "salary              0\n",
      "churn               0\n",
      "balance_nan         0\n",
      "dtype: int64\n"
     ]
    }
   ],
   "source": [
    "print(df.isna().sum().sort_values(ascending=False))"
   ]
  },
  {
   "cell_type": "markdown",
   "metadata": {},
   "source": [
    "**3. Дубликаты**"
   ]
  },
  {
   "cell_type": "code",
   "execution_count": 12,
   "metadata": {},
   "outputs": [
    {
     "data": {
      "text/plain": [
       "0"
      ]
     },
     "execution_count": 12,
     "metadata": {},
     "output_type": "execute_result"
    }
   ],
   "source": [
    "#поиск явных дубликатов\n",
    "df.duplicated().sum()"
   ]
  },
  {
   "cell_type": "code",
   "execution_count": 13,
   "metadata": {},
   "outputs": [
    {
     "data": {
      "text/plain": [
       "50"
      ]
     },
     "execution_count": 13,
     "metadata": {},
     "output_type": "execute_result"
    }
   ],
   "source": [
    "#поиск неявных дубликатов\n",
    "df.duplicated(subset=['user']).sum()"
   ]
  },
  {
   "cell_type": "markdown",
   "metadata": {},
   "source": [
    "*Рассмотрим дубликаты среди userid*"
   ]
  },
  {
   "cell_type": "code",
   "execution_count": 14,
   "metadata": {},
   "outputs": [
    {
     "data": {
      "text/html": [
       "<div>\n",
       "<style scoped>\n",
       "    .dataframe tbody tr th:only-of-type {\n",
       "        vertical-align: middle;\n",
       "    }\n",
       "\n",
       "    .dataframe tbody tr th {\n",
       "        vertical-align: top;\n",
       "    }\n",
       "\n",
       "    .dataframe thead th {\n",
       "        text-align: right;\n",
       "    }\n",
       "</style>\n",
       "<table border=\"1\" class=\"dataframe\">\n",
       "  <thead>\n",
       "    <tr style=\"text-align: right;\">\n",
       "      <th></th>\n",
       "      <th>user</th>\n",
       "      <th>score</th>\n",
       "      <th>city</th>\n",
       "      <th>gender</th>\n",
       "      <th>age</th>\n",
       "      <th>equity</th>\n",
       "      <th>balance</th>\n",
       "      <th>products</th>\n",
       "      <th>credit_card</th>\n",
       "      <th>last_activity</th>\n",
       "      <th>salary</th>\n",
       "      <th>churn</th>\n",
       "      <th>balance_nan</th>\n",
       "    </tr>\n",
       "  </thead>\n",
       "  <tbody>\n",
       "    <tr>\n",
       "      <th>7694</th>\n",
       "      <td>116540</td>\n",
       "      <td>887.0</td>\n",
       "      <td>Ярославль</td>\n",
       "      <td>Ж</td>\n",
       "      <td>38.0</td>\n",
       "      <td>0</td>\n",
       "      <td>NaN</td>\n",
       "      <td>1</td>\n",
       "      <td>0</td>\n",
       "      <td>1</td>\n",
       "      <td>119247.61</td>\n",
       "      <td>0</td>\n",
       "      <td>True</td>\n",
       "    </tr>\n",
       "    <tr>\n",
       "      <th>7542</th>\n",
       "      <td>117943</td>\n",
       "      <td>880.0</td>\n",
       "      <td>Ярославль</td>\n",
       "      <td>Ж</td>\n",
       "      <td>40.0</td>\n",
       "      <td>0</td>\n",
       "      <td>NaN</td>\n",
       "      <td>1</td>\n",
       "      <td>1</td>\n",
       "      <td>0</td>\n",
       "      <td>137718.93</td>\n",
       "      <td>0</td>\n",
       "      <td>True</td>\n",
       "    </tr>\n",
       "    <tr>\n",
       "      <th>5896</th>\n",
       "      <td>120258</td>\n",
       "      <td>905.0</td>\n",
       "      <td>Ярославль</td>\n",
       "      <td>М</td>\n",
       "      <td>30.0</td>\n",
       "      <td>0</td>\n",
       "      <td>NaN</td>\n",
       "      <td>1</td>\n",
       "      <td>1</td>\n",
       "      <td>1</td>\n",
       "      <td>146427.96</td>\n",
       "      <td>0</td>\n",
       "      <td>True</td>\n",
       "    </tr>\n",
       "    <tr>\n",
       "      <th>8638</th>\n",
       "      <td>123461</td>\n",
       "      <td>934.0</td>\n",
       "      <td>Рыбинск</td>\n",
       "      <td>М</td>\n",
       "      <td>34.0</td>\n",
       "      <td>0</td>\n",
       "      <td>NaN</td>\n",
       "      <td>2</td>\n",
       "      <td>1</td>\n",
       "      <td>0</td>\n",
       "      <td>291619.27</td>\n",
       "      <td>0</td>\n",
       "      <td>True</td>\n",
       "    </tr>\n",
       "    <tr>\n",
       "      <th>9775</th>\n",
       "      <td>124450</td>\n",
       "      <td>758.0</td>\n",
       "      <td>Рыбинск</td>\n",
       "      <td>Ж</td>\n",
       "      <td>36.0</td>\n",
       "      <td>0</td>\n",
       "      <td>73574.07</td>\n",
       "      <td>2</td>\n",
       "      <td>0</td>\n",
       "      <td>1</td>\n",
       "      <td>79963.59</td>\n",
       "      <td>0</td>\n",
       "      <td>False</td>\n",
       "    </tr>\n",
       "  </tbody>\n",
       "</table>\n",
       "</div>"
      ],
      "text/plain": [
       "        user  score       city gender   age  equity   balance  products  \\\n",
       "7694  116540  887.0  Ярославль      Ж  38.0       0       NaN         1   \n",
       "7542  117943  880.0  Ярославль      Ж  40.0       0       NaN         1   \n",
       "5896  120258  905.0  Ярославль      М  30.0       0       NaN         1   \n",
       "8638  123461  934.0    Рыбинск      М  34.0       0       NaN         2   \n",
       "9775  124450  758.0    Рыбинск      Ж  36.0       0  73574.07         2   \n",
       "\n",
       "      credit_card  last_activity     salary  churn  balance_nan  \n",
       "7694            0              1  119247.61      0         True  \n",
       "7542            1              0  137718.93      0         True  \n",
       "5896            1              1  146427.96      0         True  \n",
       "8638            1              0  291619.27      0         True  \n",
       "9775            0              1   79963.59      0        False  "
      ]
     },
     "execution_count": 14,
     "metadata": {},
     "output_type": "execute_result"
    }
   ],
   "source": [
    "duplicates = df[df.duplicated(subset=['user']) == True].sort_values(by='user')\n",
    "duplicates.head()"
   ]
  },
  {
   "cell_type": "code",
   "execution_count": 15,
   "metadata": {},
   "outputs": [
    {
     "data": {
      "text/html": [
       "<div>\n",
       "<style scoped>\n",
       "    .dataframe tbody tr th:only-of-type {\n",
       "        vertical-align: middle;\n",
       "    }\n",
       "\n",
       "    .dataframe tbody tr th {\n",
       "        vertical-align: top;\n",
       "    }\n",
       "\n",
       "    .dataframe thead th {\n",
       "        text-align: right;\n",
       "    }\n",
       "</style>\n",
       "<table border=\"1\" class=\"dataframe\">\n",
       "  <thead>\n",
       "    <tr style=\"text-align: right;\">\n",
       "      <th></th>\n",
       "      <th>user</th>\n",
       "      <th>score</th>\n",
       "      <th>city</th>\n",
       "      <th>gender</th>\n",
       "      <th>age</th>\n",
       "      <th>equity</th>\n",
       "      <th>balance</th>\n",
       "      <th>products</th>\n",
       "      <th>credit_card</th>\n",
       "      <th>last_activity</th>\n",
       "      <th>salary</th>\n",
       "      <th>churn</th>\n",
       "      <th>balance_nan</th>\n",
       "    </tr>\n",
       "  </thead>\n",
       "  <tbody>\n",
       "    <tr>\n",
       "      <th>1893</th>\n",
       "      <td>116540</td>\n",
       "      <td>883.0</td>\n",
       "      <td>Рыбинск</td>\n",
       "      <td>Ж</td>\n",
       "      <td>55.0</td>\n",
       "      <td>1</td>\n",
       "      <td>362756.49</td>\n",
       "      <td>3</td>\n",
       "      <td>0</td>\n",
       "      <td>1</td>\n",
       "      <td>175920.48</td>\n",
       "      <td>1</td>\n",
       "      <td>False</td>\n",
       "    </tr>\n",
       "    <tr>\n",
       "      <th>7694</th>\n",
       "      <td>116540</td>\n",
       "      <td>887.0</td>\n",
       "      <td>Ярославль</td>\n",
       "      <td>Ж</td>\n",
       "      <td>38.0</td>\n",
       "      <td>0</td>\n",
       "      <td>NaN</td>\n",
       "      <td>1</td>\n",
       "      <td>0</td>\n",
       "      <td>1</td>\n",
       "      <td>119247.61</td>\n",
       "      <td>0</td>\n",
       "      <td>True</td>\n",
       "    </tr>\n",
       "    <tr>\n",
       "      <th>4866</th>\n",
       "      <td>117943</td>\n",
       "      <td>855.0</td>\n",
       "      <td>Рыбинск</td>\n",
       "      <td>Ж</td>\n",
       "      <td>32.0</td>\n",
       "      <td>6</td>\n",
       "      <td>1036832.93</td>\n",
       "      <td>4</td>\n",
       "      <td>1</td>\n",
       "      <td>1</td>\n",
       "      <td>107792.71</td>\n",
       "      <td>1</td>\n",
       "      <td>False</td>\n",
       "    </tr>\n",
       "    <tr>\n",
       "      <th>7542</th>\n",
       "      <td>117943</td>\n",
       "      <td>880.0</td>\n",
       "      <td>Ярославль</td>\n",
       "      <td>Ж</td>\n",
       "      <td>40.0</td>\n",
       "      <td>0</td>\n",
       "      <td>NaN</td>\n",
       "      <td>1</td>\n",
       "      <td>1</td>\n",
       "      <td>0</td>\n",
       "      <td>137718.93</td>\n",
       "      <td>0</td>\n",
       "      <td>True</td>\n",
       "    </tr>\n",
       "    <tr>\n",
       "      <th>5863</th>\n",
       "      <td>120258</td>\n",
       "      <td>908.0</td>\n",
       "      <td>Рыбинск</td>\n",
       "      <td>Ж</td>\n",
       "      <td>38.0</td>\n",
       "      <td>4</td>\n",
       "      <td>2213581.63</td>\n",
       "      <td>2</td>\n",
       "      <td>0</td>\n",
       "      <td>1</td>\n",
       "      <td>160327.77</td>\n",
       "      <td>1</td>\n",
       "      <td>False</td>\n",
       "    </tr>\n",
       "    <tr>\n",
       "      <th>5896</th>\n",
       "      <td>120258</td>\n",
       "      <td>905.0</td>\n",
       "      <td>Ярославль</td>\n",
       "      <td>М</td>\n",
       "      <td>30.0</td>\n",
       "      <td>0</td>\n",
       "      <td>NaN</td>\n",
       "      <td>1</td>\n",
       "      <td>1</td>\n",
       "      <td>1</td>\n",
       "      <td>146427.96</td>\n",
       "      <td>0</td>\n",
       "      <td>True</td>\n",
       "    </tr>\n",
       "    <tr>\n",
       "      <th>1411</th>\n",
       "      <td>123461</td>\n",
       "      <td>829.0</td>\n",
       "      <td>Ярославль</td>\n",
       "      <td>Ж</td>\n",
       "      <td>59.0</td>\n",
       "      <td>0</td>\n",
       "      <td>96222.44</td>\n",
       "      <td>2</td>\n",
       "      <td>0</td>\n",
       "      <td>1</td>\n",
       "      <td>102771.55</td>\n",
       "      <td>1</td>\n",
       "      <td>False</td>\n",
       "    </tr>\n",
       "    <tr>\n",
       "      <th>8638</th>\n",
       "      <td>123461</td>\n",
       "      <td>934.0</td>\n",
       "      <td>Рыбинск</td>\n",
       "      <td>М</td>\n",
       "      <td>34.0</td>\n",
       "      <td>0</td>\n",
       "      <td>NaN</td>\n",
       "      <td>2</td>\n",
       "      <td>1</td>\n",
       "      <td>0</td>\n",
       "      <td>291619.27</td>\n",
       "      <td>0</td>\n",
       "      <td>True</td>\n",
       "    </tr>\n",
       "    <tr>\n",
       "      <th>9775</th>\n",
       "      <td>124450</td>\n",
       "      <td>758.0</td>\n",
       "      <td>Рыбинск</td>\n",
       "      <td>Ж</td>\n",
       "      <td>36.0</td>\n",
       "      <td>0</td>\n",
       "      <td>73574.07</td>\n",
       "      <td>2</td>\n",
       "      <td>0</td>\n",
       "      <td>1</td>\n",
       "      <td>79963.59</td>\n",
       "      <td>0</td>\n",
       "      <td>False</td>\n",
       "    </tr>\n",
       "    <tr>\n",
       "      <th>8164</th>\n",
       "      <td>124450</td>\n",
       "      <td>859.0</td>\n",
       "      <td>Ярославль</td>\n",
       "      <td>Ж</td>\n",
       "      <td>38.0</td>\n",
       "      <td>6</td>\n",
       "      <td>516811.20</td>\n",
       "      <td>1</td>\n",
       "      <td>1</td>\n",
       "      <td>1</td>\n",
       "      <td>95144.63</td>\n",
       "      <td>1</td>\n",
       "      <td>False</td>\n",
       "    </tr>\n",
       "  </tbody>\n",
       "</table>\n",
       "</div>"
      ],
      "text/plain": [
       "        user  score       city gender   age  equity     balance  products  \\\n",
       "1893  116540  883.0    Рыбинск      Ж  55.0       1   362756.49         3   \n",
       "7694  116540  887.0  Ярославль      Ж  38.0       0         NaN         1   \n",
       "4866  117943  855.0    Рыбинск      Ж  32.0       6  1036832.93         4   \n",
       "7542  117943  880.0  Ярославль      Ж  40.0       0         NaN         1   \n",
       "5863  120258  908.0    Рыбинск      Ж  38.0       4  2213581.63         2   \n",
       "5896  120258  905.0  Ярославль      М  30.0       0         NaN         1   \n",
       "1411  123461  829.0  Ярославль      Ж  59.0       0    96222.44         2   \n",
       "8638  123461  934.0    Рыбинск      М  34.0       0         NaN         2   \n",
       "9775  124450  758.0    Рыбинск      Ж  36.0       0    73574.07         2   \n",
       "8164  124450  859.0  Ярославль      Ж  38.0       6   516811.20         1   \n",
       "\n",
       "      credit_card  last_activity     salary  churn  balance_nan  \n",
       "1893            0              1  175920.48      1        False  \n",
       "7694            0              1  119247.61      0         True  \n",
       "4866            1              1  107792.71      1        False  \n",
       "7542            1              0  137718.93      0         True  \n",
       "5863            0              1  160327.77      1        False  \n",
       "5896            1              1  146427.96      0         True  \n",
       "1411            0              1  102771.55      1        False  \n",
       "8638            1              0  291619.27      0         True  \n",
       "9775            0              1   79963.59      0        False  \n",
       "8164            1              1   95144.63      1        False  "
      ]
     },
     "execution_count": 15,
     "metadata": {},
     "output_type": "execute_result"
    }
   ],
   "source": [
    "dup_rows = df[df['user'].isin(duplicates['user'])].sort_values(by='user')\n",
    "dup_rows.head(10)"
   ]
  },
  {
   "cell_type": "markdown",
   "metadata": {},
   "source": [
    "*Есть повторяющиеся user_id, но они отличаются городами*"
   ]
  },
  {
   "cell_type": "code",
   "execution_count": 16,
   "metadata": {},
   "outputs": [
    {
     "data": {
      "text/plain": [
       "0"
      ]
     },
     "execution_count": 16,
     "metadata": {},
     "output_type": "execute_result"
    }
   ],
   "source": [
    "#поиск дубликатов для 'user'и'city'\n",
    "df.duplicated(subset=['user','city']).sum()"
   ]
  },
  {
   "cell_type": "markdown",
   "metadata": {},
   "source": [
    "**Уникальные значения в дискретных переменных**"
   ]
  },
  {
   "cell_type": "code",
   "execution_count": 17,
   "metadata": {},
   "outputs": [
    {
     "data": {
      "text/html": [
       "<div>\n",
       "<style scoped>\n",
       "    .dataframe tbody tr th:only-of-type {\n",
       "        vertical-align: middle;\n",
       "    }\n",
       "\n",
       "    .dataframe tbody tr th {\n",
       "        vertical-align: top;\n",
       "    }\n",
       "\n",
       "    .dataframe thead th {\n",
       "        text-align: right;\n",
       "    }\n",
       "</style>\n",
       "<table border=\"1\" class=\"dataframe\">\n",
       "  <thead>\n",
       "    <tr style=\"text-align: right;\">\n",
       "      <th></th>\n",
       "      <th>city</th>\n",
       "      <th>gender</th>\n",
       "      <th>equity</th>\n",
       "      <th>products</th>\n",
       "      <th>credit_card</th>\n",
       "      <th>last_activity</th>\n",
       "      <th>churn</th>\n",
       "    </tr>\n",
       "  </thead>\n",
       "  <tbody>\n",
       "    <tr>\n",
       "      <th>0</th>\n",
       "      <td>NaN</td>\n",
       "      <td>NaN</td>\n",
       "      <td>2576.0</td>\n",
       "      <td>1.0</td>\n",
       "      <td>3190.0</td>\n",
       "      <td>4759.0</td>\n",
       "      <td>8155.0</td>\n",
       "    </tr>\n",
       "    <tr>\n",
       "      <th>1</th>\n",
       "      <td>NaN</td>\n",
       "      <td>NaN</td>\n",
       "      <td>773.0</td>\n",
       "      <td>3323.0</td>\n",
       "      <td>6784.0</td>\n",
       "      <td>5215.0</td>\n",
       "      <td>1819.0</td>\n",
       "    </tr>\n",
       "    <tr>\n",
       "      <th>2</th>\n",
       "      <td>NaN</td>\n",
       "      <td>NaN</td>\n",
       "      <td>1051.0</td>\n",
       "      <td>5119.0</td>\n",
       "      <td>NaN</td>\n",
       "      <td>NaN</td>\n",
       "      <td>NaN</td>\n",
       "    </tr>\n",
       "    <tr>\n",
       "      <th>3</th>\n",
       "      <td>NaN</td>\n",
       "      <td>NaN</td>\n",
       "      <td>1541.0</td>\n",
       "      <td>1038.0</td>\n",
       "      <td>NaN</td>\n",
       "      <td>NaN</td>\n",
       "      <td>NaN</td>\n",
       "    </tr>\n",
       "    <tr>\n",
       "      <th>4</th>\n",
       "      <td>NaN</td>\n",
       "      <td>NaN</td>\n",
       "      <td>1847.0</td>\n",
       "      <td>474.0</td>\n",
       "      <td>NaN</td>\n",
       "      <td>NaN</td>\n",
       "      <td>NaN</td>\n",
       "    </tr>\n",
       "    <tr>\n",
       "      <th>5</th>\n",
       "      <td>NaN</td>\n",
       "      <td>NaN</td>\n",
       "      <td>1915.0</td>\n",
       "      <td>19.0</td>\n",
       "      <td>NaN</td>\n",
       "      <td>NaN</td>\n",
       "      <td>NaN</td>\n",
       "    </tr>\n",
       "    <tr>\n",
       "      <th>6</th>\n",
       "      <td>NaN</td>\n",
       "      <td>NaN</td>\n",
       "      <td>161.0</td>\n",
       "      <td>NaN</td>\n",
       "      <td>NaN</td>\n",
       "      <td>NaN</td>\n",
       "      <td>NaN</td>\n",
       "    </tr>\n",
       "    <tr>\n",
       "      <th>7</th>\n",
       "      <td>NaN</td>\n",
       "      <td>NaN</td>\n",
       "      <td>80.0</td>\n",
       "      <td>NaN</td>\n",
       "      <td>NaN</td>\n",
       "      <td>NaN</td>\n",
       "      <td>NaN</td>\n",
       "    </tr>\n",
       "    <tr>\n",
       "      <th>8</th>\n",
       "      <td>NaN</td>\n",
       "      <td>NaN</td>\n",
       "      <td>17.0</td>\n",
       "      <td>NaN</td>\n",
       "      <td>NaN</td>\n",
       "      <td>NaN</td>\n",
       "      <td>NaN</td>\n",
       "    </tr>\n",
       "    <tr>\n",
       "      <th>9</th>\n",
       "      <td>NaN</td>\n",
       "      <td>NaN</td>\n",
       "      <td>13.0</td>\n",
       "      <td>NaN</td>\n",
       "      <td>NaN</td>\n",
       "      <td>NaN</td>\n",
       "      <td>NaN</td>\n",
       "    </tr>\n",
       "    <tr>\n",
       "      <th>Ж</th>\n",
       "      <td>NaN</td>\n",
       "      <td>4983.0</td>\n",
       "      <td>NaN</td>\n",
       "      <td>NaN</td>\n",
       "      <td>NaN</td>\n",
       "      <td>NaN</td>\n",
       "      <td>NaN</td>\n",
       "    </tr>\n",
       "    <tr>\n",
       "      <th>М</th>\n",
       "      <td>NaN</td>\n",
       "      <td>4991.0</td>\n",
       "      <td>NaN</td>\n",
       "      <td>NaN</td>\n",
       "      <td>NaN</td>\n",
       "      <td>NaN</td>\n",
       "      <td>NaN</td>\n",
       "    </tr>\n",
       "    <tr>\n",
       "      <th>Ростов</th>\n",
       "      <td>1416.0</td>\n",
       "      <td>NaN</td>\n",
       "      <td>NaN</td>\n",
       "      <td>NaN</td>\n",
       "      <td>NaN</td>\n",
       "      <td>NaN</td>\n",
       "      <td>NaN</td>\n",
       "    </tr>\n",
       "    <tr>\n",
       "      <th>Рыбинск</th>\n",
       "      <td>2683.0</td>\n",
       "      <td>NaN</td>\n",
       "      <td>NaN</td>\n",
       "      <td>NaN</td>\n",
       "      <td>NaN</td>\n",
       "      <td>NaN</td>\n",
       "      <td>NaN</td>\n",
       "    </tr>\n",
       "    <tr>\n",
       "      <th>Ярославль</th>\n",
       "      <td>5875.0</td>\n",
       "      <td>NaN</td>\n",
       "      <td>NaN</td>\n",
       "      <td>NaN</td>\n",
       "      <td>NaN</td>\n",
       "      <td>NaN</td>\n",
       "      <td>NaN</td>\n",
       "    </tr>\n",
       "  </tbody>\n",
       "</table>\n",
       "</div>"
      ],
      "text/plain": [
       "             city  gender  equity  products  credit_card  last_activity  \\\n",
       "0             NaN     NaN  2576.0       1.0       3190.0         4759.0   \n",
       "1             NaN     NaN   773.0    3323.0       6784.0         5215.0   \n",
       "2             NaN     NaN  1051.0    5119.0          NaN            NaN   \n",
       "3             NaN     NaN  1541.0    1038.0          NaN            NaN   \n",
       "4             NaN     NaN  1847.0     474.0          NaN            NaN   \n",
       "5             NaN     NaN  1915.0      19.0          NaN            NaN   \n",
       "6             NaN     NaN   161.0       NaN          NaN            NaN   \n",
       "7             NaN     NaN    80.0       NaN          NaN            NaN   \n",
       "8             NaN     NaN    17.0       NaN          NaN            NaN   \n",
       "9             NaN     NaN    13.0       NaN          NaN            NaN   \n",
       "Ж             NaN  4983.0     NaN       NaN          NaN            NaN   \n",
       "М             NaN  4991.0     NaN       NaN          NaN            NaN   \n",
       "Ростов     1416.0     NaN     NaN       NaN          NaN            NaN   \n",
       "Рыбинск    2683.0     NaN     NaN       NaN          NaN            NaN   \n",
       "Ярославль  5875.0     NaN     NaN       NaN          NaN            NaN   \n",
       "\n",
       "            churn  \n",
       "0          8155.0  \n",
       "1          1819.0  \n",
       "2             NaN  \n",
       "3             NaN  \n",
       "4             NaN  \n",
       "5             NaN  \n",
       "6             NaN  \n",
       "7             NaN  \n",
       "8             NaN  \n",
       "9             NaN  \n",
       "Ж             NaN  \n",
       "М             NaN  \n",
       "Ростов        NaN  \n",
       "Рыбинск       NaN  \n",
       "Ярославль     NaN  "
      ]
     },
     "execution_count": 17,
     "metadata": {},
     "output_type": "execute_result"
    }
   ],
   "source": [
    "df[['city','gender','equity','products','credit_card','last_activity','churn']].apply(pd.Series.value_counts)"
   ]
  },
  {
   "cell_type": "code",
   "execution_count": 18,
   "metadata": {},
   "outputs": [
    {
     "data": {
      "text/html": [
       "<div>\n",
       "<style scoped>\n",
       "    .dataframe tbody tr th:only-of-type {\n",
       "        vertical-align: middle;\n",
       "    }\n",
       "\n",
       "    .dataframe tbody tr th {\n",
       "        vertical-align: top;\n",
       "    }\n",
       "\n",
       "    .dataframe thead th {\n",
       "        text-align: right;\n",
       "    }\n",
       "</style>\n",
       "<table border=\"1\" class=\"dataframe\">\n",
       "  <thead>\n",
       "    <tr style=\"text-align: right;\">\n",
       "      <th></th>\n",
       "      <th>equity</th>\n",
       "      <th>products</th>\n",
       "      <th>credit_card</th>\n",
       "      <th>last_activity</th>\n",
       "      <th>churn</th>\n",
       "    </tr>\n",
       "  </thead>\n",
       "  <tbody>\n",
       "    <tr>\n",
       "      <th>count</th>\n",
       "      <td>9974.000000</td>\n",
       "      <td>9974.000000</td>\n",
       "      <td>9974.000000</td>\n",
       "      <td>9974.000000</td>\n",
       "      <td>9974.000000</td>\n",
       "    </tr>\n",
       "    <tr>\n",
       "      <th>mean</th>\n",
       "      <td>2.630840</td>\n",
       "      <td>1.871466</td>\n",
       "      <td>0.680168</td>\n",
       "      <td>0.522859</td>\n",
       "      <td>0.182374</td>\n",
       "    </tr>\n",
       "    <tr>\n",
       "      <th>std</th>\n",
       "      <td>1.979965</td>\n",
       "      <td>0.792729</td>\n",
       "      <td>0.466435</td>\n",
       "      <td>0.499502</td>\n",
       "      <td>0.386172</td>\n",
       "    </tr>\n",
       "    <tr>\n",
       "      <th>min</th>\n",
       "      <td>0.000000</td>\n",
       "      <td>0.000000</td>\n",
       "      <td>0.000000</td>\n",
       "      <td>0.000000</td>\n",
       "      <td>0.000000</td>\n",
       "    </tr>\n",
       "    <tr>\n",
       "      <th>25%</th>\n",
       "      <td>0.000000</td>\n",
       "      <td>1.000000</td>\n",
       "      <td>0.000000</td>\n",
       "      <td>0.000000</td>\n",
       "      <td>0.000000</td>\n",
       "    </tr>\n",
       "    <tr>\n",
       "      <th>50%</th>\n",
       "      <td>3.000000</td>\n",
       "      <td>2.000000</td>\n",
       "      <td>1.000000</td>\n",
       "      <td>1.000000</td>\n",
       "      <td>0.000000</td>\n",
       "    </tr>\n",
       "    <tr>\n",
       "      <th>75%</th>\n",
       "      <td>4.000000</td>\n",
       "      <td>2.000000</td>\n",
       "      <td>1.000000</td>\n",
       "      <td>1.000000</td>\n",
       "      <td>0.000000</td>\n",
       "    </tr>\n",
       "    <tr>\n",
       "      <th>max</th>\n",
       "      <td>9.000000</td>\n",
       "      <td>5.000000</td>\n",
       "      <td>1.000000</td>\n",
       "      <td>1.000000</td>\n",
       "      <td>1.000000</td>\n",
       "    </tr>\n",
       "  </tbody>\n",
       "</table>\n",
       "</div>"
      ],
      "text/plain": [
       "            equity     products  credit_card  last_activity        churn\n",
       "count  9974.000000  9974.000000  9974.000000    9974.000000  9974.000000\n",
       "mean      2.630840     1.871466     0.680168       0.522859     0.182374\n",
       "std       1.979965     0.792729     0.466435       0.499502     0.386172\n",
       "min       0.000000     0.000000     0.000000       0.000000     0.000000\n",
       "25%       0.000000     1.000000     0.000000       0.000000     0.000000\n",
       "50%       3.000000     2.000000     1.000000       1.000000     0.000000\n",
       "75%       4.000000     2.000000     1.000000       1.000000     0.000000\n",
       "max       9.000000     5.000000     1.000000       1.000000     1.000000"
      ]
     },
     "execution_count": 18,
     "metadata": {},
     "output_type": "execute_result"
    }
   ],
   "source": [
    "df[['city','gender','equity','products','credit_card','last_activity','churn']].describe()"
   ]
  },
  {
   "cell_type": "markdown",
   "metadata": {},
   "source": [
    "- **city**- Половина клиентов находится в Ярославле 5875. Затем идёт Рыбинск 2683 и Ярославль 1416.\n",
    "- **gender**- мужчины и женщины распределены равномерно;\n",
    "- **equity**- распределены от 0 до 9;\n",
    "- **products**- продукты распределены от 0 до 5. Ноль, возможно аномалия;\n",
    "- **credit_card**- кредитная карта есть у большинства, у 3190 нет кредитной карты;\n",
    "- **last_activity**- активность клиентов распределена равномерно между активными и неактивными;\n",
    "- **churn**- отток составляет около 18%;"
   ]
  },
  {
   "cell_type": "markdown",
   "metadata": {},
   "source": [
    "*Удалим аномалии в products*"
   ]
  },
  {
   "cell_type": "code",
   "execution_count": 19,
   "metadata": {},
   "outputs": [
    {
     "name": "stdout",
     "output_type": "stream",
     "text": [
      "9973\n"
     ]
    }
   ],
   "source": [
    "# удалим нулевое значение\n",
    "df=(df.query('products != 0')).reset_index(drop=True)\n",
    "print(len(df))"
   ]
  },
  {
   "cell_type": "markdown",
   "metadata": {},
   "source": [
    "**4. Кодировка категориальных признаков 'gender', 'city'**"
   ]
  },
  {
   "cell_type": "code",
   "execution_count": 20,
   "metadata": {},
   "outputs": [
    {
     "data": {
      "text/html": [
       "<div>\n",
       "<style scoped>\n",
       "    .dataframe tbody tr th:only-of-type {\n",
       "        vertical-align: middle;\n",
       "    }\n",
       "\n",
       "    .dataframe tbody tr th {\n",
       "        vertical-align: top;\n",
       "    }\n",
       "\n",
       "    .dataframe thead th {\n",
       "        text-align: right;\n",
       "    }\n",
       "</style>\n",
       "<table border=\"1\" class=\"dataframe\">\n",
       "  <thead>\n",
       "    <tr style=\"text-align: right;\">\n",
       "      <th></th>\n",
       "      <th>user</th>\n",
       "      <th>score</th>\n",
       "      <th>age</th>\n",
       "      <th>equity</th>\n",
       "      <th>balance</th>\n",
       "      <th>products</th>\n",
       "      <th>credit_card</th>\n",
       "      <th>last_activity</th>\n",
       "      <th>salary</th>\n",
       "      <th>churn</th>\n",
       "      <th>balance_nan</th>\n",
       "      <th>женщины</th>\n",
       "      <th>мужчины</th>\n",
       "      <th>Ростов</th>\n",
       "      <th>Рыбинск</th>\n",
       "      <th>Ярославль</th>\n",
       "      <th>city</th>\n",
       "      <th>gender</th>\n",
       "    </tr>\n",
       "  </thead>\n",
       "  <tbody>\n",
       "    <tr>\n",
       "      <th>0</th>\n",
       "      <td>183012</td>\n",
       "      <td>850.0</td>\n",
       "      <td>25.0</td>\n",
       "      <td>1</td>\n",
       "      <td>59214.82</td>\n",
       "      <td>2</td>\n",
       "      <td>0</td>\n",
       "      <td>1</td>\n",
       "      <td>75719.14</td>\n",
       "      <td>1</td>\n",
       "      <td>False</td>\n",
       "      <td>1</td>\n",
       "      <td>0</td>\n",
       "      <td>0</td>\n",
       "      <td>1</td>\n",
       "      <td>0</td>\n",
       "      <td>Рыбинск</td>\n",
       "      <td>Ж</td>\n",
       "    </tr>\n",
       "    <tr>\n",
       "      <th>1</th>\n",
       "      <td>146556</td>\n",
       "      <td>861.0</td>\n",
       "      <td>37.0</td>\n",
       "      <td>5</td>\n",
       "      <td>850594.33</td>\n",
       "      <td>3</td>\n",
       "      <td>1</td>\n",
       "      <td>0</td>\n",
       "      <td>86621.77</td>\n",
       "      <td>0</td>\n",
       "      <td>False</td>\n",
       "      <td>1</td>\n",
       "      <td>0</td>\n",
       "      <td>0</td>\n",
       "      <td>1</td>\n",
       "      <td>0</td>\n",
       "      <td>Рыбинск</td>\n",
       "      <td>Ж</td>\n",
       "    </tr>\n",
       "    <tr>\n",
       "      <th>2</th>\n",
       "      <td>120722</td>\n",
       "      <td>892.0</td>\n",
       "      <td>30.0</td>\n",
       "      <td>0</td>\n",
       "      <td>NaN</td>\n",
       "      <td>1</td>\n",
       "      <td>1</td>\n",
       "      <td>1</td>\n",
       "      <td>107683.34</td>\n",
       "      <td>0</td>\n",
       "      <td>True</td>\n",
       "      <td>1</td>\n",
       "      <td>0</td>\n",
       "      <td>0</td>\n",
       "      <td>1</td>\n",
       "      <td>0</td>\n",
       "      <td>Рыбинск</td>\n",
       "      <td>Ж</td>\n",
       "    </tr>\n",
       "    <tr>\n",
       "      <th>3</th>\n",
       "      <td>225363</td>\n",
       "      <td>866.0</td>\n",
       "      <td>51.0</td>\n",
       "      <td>5</td>\n",
       "      <td>1524746.26</td>\n",
       "      <td>2</td>\n",
       "      <td>0</td>\n",
       "      <td>1</td>\n",
       "      <td>174423.53</td>\n",
       "      <td>1</td>\n",
       "      <td>False</td>\n",
       "      <td>1</td>\n",
       "      <td>0</td>\n",
       "      <td>0</td>\n",
       "      <td>0</td>\n",
       "      <td>1</td>\n",
       "      <td>Ярославль</td>\n",
       "      <td>Ж</td>\n",
       "    </tr>\n",
       "    <tr>\n",
       "      <th>4</th>\n",
       "      <td>157978</td>\n",
       "      <td>730.0</td>\n",
       "      <td>34.0</td>\n",
       "      <td>5</td>\n",
       "      <td>174.00</td>\n",
       "      <td>1</td>\n",
       "      <td>1</td>\n",
       "      <td>0</td>\n",
       "      <td>67353.16</td>\n",
       "      <td>1</td>\n",
       "      <td>False</td>\n",
       "      <td>0</td>\n",
       "      <td>1</td>\n",
       "      <td>0</td>\n",
       "      <td>0</td>\n",
       "      <td>1</td>\n",
       "      <td>Ярославль</td>\n",
       "      <td>М</td>\n",
       "    </tr>\n",
       "  </tbody>\n",
       "</table>\n",
       "</div>"
      ],
      "text/plain": [
       "     user  score   age  equity     balance  products  credit_card  \\\n",
       "0  183012  850.0  25.0       1    59214.82         2            0   \n",
       "1  146556  861.0  37.0       5   850594.33         3            1   \n",
       "2  120722  892.0  30.0       0         NaN         1            1   \n",
       "3  225363  866.0  51.0       5  1524746.26         2            0   \n",
       "4  157978  730.0  34.0       5      174.00         1            1   \n",
       "\n",
       "   last_activity     salary  churn  balance_nan  женщины  мужчины  Ростов  \\\n",
       "0              1   75719.14      1        False        1        0       0   \n",
       "1              0   86621.77      0        False        1        0       0   \n",
       "2              1  107683.34      0         True        1        0       0   \n",
       "3              1  174423.53      1        False        1        0       0   \n",
       "4              0   67353.16      1        False        0        1       0   \n",
       "\n",
       "   Рыбинск  Ярославль       city gender  \n",
       "0        1          0    Рыбинск      Ж  \n",
       "1        1          0    Рыбинск      Ж  \n",
       "2        1          0    Рыбинск      Ж  \n",
       "3        0          1  Ярославль      Ж  \n",
       "4        0          1  Ярославль      М  "
      ]
     },
     "metadata": {},
     "output_type": "display_data"
    }
   ],
   "source": [
    "df_copy = df.copy() \n",
    "df = pd.get_dummies(df, dummy_na=False, columns=['gender', 'city']) \n",
    "df['city'] = df_copy['city'] \n",
    "df['gender'] = df_copy['gender'] \n",
    "# переименуем колонки\n",
    "df = df.rename (\n",
    "    columns = ({\n",
    "        'city_Ростов':'Ростов', 'city_Рыбинск':'Рыбинск','city_Ярославль':'Ярославль', \n",
    "        'gender_Ж':'женщины', 'gender_М':'мужчины'}))\n",
    "display(df.head())"
   ]
  },
  {
   "cell_type": "markdown",
   "metadata": {},
   "source": [
    "**5. Выбросы в количественных переменных**"
   ]
  },
  {
   "cell_type": "code",
   "execution_count": 21,
   "metadata": {},
   "outputs": [
    {
     "data": {
      "text/html": [
       "<div>\n",
       "<style scoped>\n",
       "    .dataframe tbody tr th:only-of-type {\n",
       "        vertical-align: middle;\n",
       "    }\n",
       "\n",
       "    .dataframe tbody tr th {\n",
       "        vertical-align: top;\n",
       "    }\n",
       "\n",
       "    .dataframe thead th {\n",
       "        text-align: right;\n",
       "    }\n",
       "</style>\n",
       "<table border=\"1\" class=\"dataframe\">\n",
       "  <thead>\n",
       "    <tr style=\"text-align: right;\">\n",
       "      <th></th>\n",
       "      <th>score</th>\n",
       "      <th>age</th>\n",
       "      <th>balance</th>\n",
       "      <th>salary</th>\n",
       "    </tr>\n",
       "  </thead>\n",
       "  <tbody>\n",
       "    <tr>\n",
       "      <th>count</th>\n",
       "      <td>9973.00</td>\n",
       "      <td>9973.00</td>\n",
       "      <td>7.695000e+03</td>\n",
       "      <td>9973.00</td>\n",
       "    </tr>\n",
       "    <tr>\n",
       "      <th>mean</th>\n",
       "      <td>848.67</td>\n",
       "      <td>42.73</td>\n",
       "      <td>8.272456e+05</td>\n",
       "      <td>147799.12</td>\n",
       "    </tr>\n",
       "    <tr>\n",
       "      <th>std</th>\n",
       "      <td>65.39</td>\n",
       "      <td>12.18</td>\n",
       "      <td>1.980327e+06</td>\n",
       "      <td>139287.08</td>\n",
       "    </tr>\n",
       "    <tr>\n",
       "      <th>min</th>\n",
       "      <td>642.00</td>\n",
       "      <td>18.00</td>\n",
       "      <td>0.000000e+00</td>\n",
       "      <td>2546.30</td>\n",
       "    </tr>\n",
       "    <tr>\n",
       "      <th>25%</th>\n",
       "      <td>802.00</td>\n",
       "      <td>33.00</td>\n",
       "      <td>2.956987e+05</td>\n",
       "      <td>75252.02</td>\n",
       "    </tr>\n",
       "    <tr>\n",
       "      <th>50%</th>\n",
       "      <td>853.00</td>\n",
       "      <td>40.00</td>\n",
       "      <td>5.242953e+05</td>\n",
       "      <td>119643.06</td>\n",
       "    </tr>\n",
       "    <tr>\n",
       "      <th>75%</th>\n",
       "      <td>900.00</td>\n",
       "      <td>51.00</td>\n",
       "      <td>9.800512e+05</td>\n",
       "      <td>174499.96</td>\n",
       "    </tr>\n",
       "    <tr>\n",
       "      <th>max</th>\n",
       "      <td>1000.00</td>\n",
       "      <td>86.00</td>\n",
       "      <td>1.191136e+08</td>\n",
       "      <td>1395064.45</td>\n",
       "    </tr>\n",
       "  </tbody>\n",
       "</table>\n",
       "</div>"
      ],
      "text/plain": [
       "         score      age       balance      salary\n",
       "count  9973.00  9973.00  7.695000e+03     9973.00\n",
       "mean    848.67    42.73  8.272456e+05   147799.12\n",
       "std      65.39    12.18  1.980327e+06   139287.08\n",
       "min     642.00    18.00  0.000000e+00     2546.30\n",
       "25%     802.00    33.00  2.956987e+05    75252.02\n",
       "50%     853.00    40.00  5.242953e+05   119643.06\n",
       "75%     900.00    51.00  9.800512e+05   174499.96\n",
       "max    1000.00    86.00  1.191136e+08  1395064.45"
      ]
     },
     "execution_count": 21,
     "metadata": {},
     "output_type": "execute_result"
    }
   ],
   "source": [
    "df[['score','age','balance','salary',]].describe().round(2)"
   ]
  },
  {
   "cell_type": "markdown",
   "metadata": {},
   "source": [
    "- **score** минимальное значение 642, максимальное 1000, среднее 848.7. Выбросов не обнаружено;\n",
    "- **age** минимальное значение 18, максимальное 86, среднее 42.7. Выбросов не обнаружено;\n",
    "- **balance** минимальное значение 0, максимальное 119 млн, среднее 82.7 тыс. Ноль и 119 млн похожи на аномалии;\n",
    "- **salary** минимальное значение 2546, максимальное 1,39 млн, среднее 147.7 тыс. 1,39 млн похоже на аномалию;"
   ]
  },
  {
   "cell_type": "markdown",
   "metadata": {},
   "source": [
    "**Аномалии в balance**"
   ]
  },
  {
   "cell_type": "code",
   "execution_count": 22,
   "metadata": {},
   "outputs": [
    {
     "data": {
      "text/plain": [
       "2"
      ]
     },
     "execution_count": 22,
     "metadata": {},
     "output_type": "execute_result"
    }
   ],
   "source": [
    "# смотрим количество нулевых значения\n",
    "df.query('balance==0').shape[0]"
   ]
  },
  {
   "cell_type": "code",
   "execution_count": 23,
   "metadata": {},
   "outputs": [
    {
     "name": "stdout",
     "output_type": "stream",
     "text": [
      "9971\n"
     ]
    }
   ],
   "source": [
    "# удаляем нулевые значения, так как их немного - 2\n",
    "df=(df.query('balance != 0')).reset_index(drop=True)\n",
    "print(len(df))"
   ]
  },
  {
   "cell_type": "markdown",
   "metadata": {},
   "source": [
    "Построим диаграмму размаха"
   ]
  },
  {
   "cell_type": "code",
   "execution_count": 24,
   "metadata": {},
   "outputs": [
    {
     "data": {
      "image/png": "[encoded data removed]",
      "text/plain": [
       "<Figure size 1000x500 with 1 Axes>"
      ]
     },
     "metadata": {},
     "output_type": "display_data"
    }
   ],
   "source": [
    "# Построим диаграмму размаха\n",
    "plt.figure(figsize=(10, 5))\n",
    "\n",
    "plt.title('Распределение баланса клиентов', fontsize = 14)\n",
    "sns.boxplot(data = df, x ='balance', y ='churn', orient='h')\n",
    "plt.ylabel('Отточные клиенты              Лояльные клиенты', fontsize = 10)\n",
    "plt.xlabel('Баланс', fontsize = 10)\n",
    "\n",
    "plt.grid(True)"
   ]
  },
  {
   "cell_type": "markdown",
   "metadata": {},
   "source": [
    "*Из диаграммы размаха видно, что есть очень много аномально больших значений.\n",
    "Отфильтруем данные баланса по перцентилям. \n",
    "Из диаграммы размаха видно, что при значении 90% полностью исчезают выбросы в категории отточных клиентов*"
   ]
  },
  {
   "cell_type": "code",
   "execution_count": 25,
   "metadata": {},
   "outputs": [
    {
     "data": {
      "image/png": "[encoded data removed]",
      "text/plain": [
       "<Figure size 800x500 with 1 Axes>"
      ]
     },
     "metadata": {},
     "output_type": "display_data"
    }
   ],
   "source": [
    "# Построим диаграмму размаха\n",
    "plt.figure(figsize=(8, 5))\n",
    "\n",
    "\n",
    "plt.title('Распределение баланса без выбросов', fontsize = 14)\n",
    "sns.boxplot(x ='balance', \n",
    "            y ='churn', \n",
    "            data = df,\n",
    "            showfliers=False,\n",
    "            orient='h'\n",
    "            )\n",
    "plt.ylabel('Отточные клиенты              Лояльные клиенты', fontsize = 10)\n",
    "plt.xlabel('Баланс', fontsize = 10)\n",
    "\n",
    "plt.grid(True);"
   ]
  },
  {
   "cell_type": "markdown",
   "metadata": {},
   "source": [
    "**10% - это большое количество данных, поэтому оставляем баланс без изменений**"
   ]
  },
  {
   "cell_type": "markdown",
   "metadata": {},
   "source": [
    "**Аномалии в зарплате**"
   ]
  },
  {
   "cell_type": "code",
   "execution_count": 26,
   "metadata": {},
   "outputs": [
    {
     "data": {
      "image/png": "[encoded data removed]",
      "text/plain": [
       "<Figure size 800x500 with 1 Axes>"
      ]
     },
     "metadata": {},
     "output_type": "display_data"
    }
   ],
   "source": [
    "# Построим диаграмму размаха\n",
    "plt.figure(figsize=(8, 5))\n",
    "\n",
    "plt.title('Распределение зарплаты всех клиентов', fontsize = 14)\n",
    "sns.boxplot(x ='salary', y ='churn', data = df, orient='h')\n",
    "plt.ylabel('Категория', fontsize = 10)\n",
    "plt.xlabel('Зарплата', fontsize = 10)\n",
    "plt.ylabel('Отточные клиенты              Лояльные клиенты', fontsize = 10)\n",
    "\n",
    "plt.grid(True);"
   ]
  },
  {
   "cell_type": "markdown",
   "metadata": {},
   "source": [
    "*Отфильтруем данные зарплат по перцентилям. \n",
    "Из диаграммы размаха видно, что при значении 94% полностью исчезают выбросы в обеих категориях клиентов*"
   ]
  },
  {
   "cell_type": "code",
   "execution_count": 27,
   "metadata": {},
   "outputs": [
    {
     "data": {
      "image/png": "[encoded data removed]",
      "text/plain": [
       "<Figure size 800x500 with 1 Axes>"
      ]
     },
     "metadata": {},
     "output_type": "display_data"
    }
   ],
   "source": [
    "#уберём экстремальные значения\n",
    "border = np.percentile(df[df['salary']>0]['salary'], 94)\n",
    "salary_cut =df.query(\"salary < @border\")\n",
    "\n",
    "# Построим диаграмму размаха\n",
    "plt.figure(figsize=(8, 5))\n",
    "\n",
    "plt.title('Распределение зарплаты клиентов без выбросов', fontsize = 14)\n",
    "sns.boxplot(x ='salary', y ='churn', data = salary_cut, orient='h')\n",
    "plt.ylabel('Отточные клиенты              Лояльные клиенты', fontsize = 10)\n",
    "plt.xlabel('Зарплата', fontsize = 10)\n",
    "\n",
    "plt.grid(True);"
   ]
  },
  {
   "cell_type": "markdown",
   "metadata": {},
   "source": [
    "**6% - это большое количество данных, поэтому оставляем данные без изменений**"
   ]
  },
  {
   "cell_type": "markdown",
   "metadata": {},
   "source": [
    "# 2. Исследовательский анализ данных"
   ]
  },
  {
   "cell_type": "markdown",
   "metadata": {},
   "source": [
    "**Разрез отточных клиентов для непрерывных данных**"
   ]
  },
  {
   "cell_type": "markdown",
   "metadata": {},
   "source": [
    "**Возраст**"
   ]
  },
  {
   "cell_type": "code",
   "execution_count": 28,
   "metadata": {},
   "outputs": [
    {
     "data": {
      "image/png": "[encoded data removed]",
      "text/plain": [
       "<Figure size 1000x600 with 1 Axes>"
      ]
     },
     "metadata": {},
     "output_type": "display_data"
    }
   ],
   "source": [
    "# назначаем стиль для графика с помощью matplotlib\n",
    "plt.style.use('seaborn-white')\n",
    "# указываем размер графика\n",
    "plt.figure(figsize=(10,6))\n",
    "# строим гистограмму \n",
    "sns.histplot(x='age'\n",
    "             ,data=df\n",
    "             ,hue = 'churn'\n",
    "             ,alpha = 0.7\n",
    "             ,kde=True\n",
    "             ,common_norm=False\n",
    "             ,stat='density'\n",
    "             ,bins=68       \n",
    "             )\n",
    "# ограничиваем ось X \n",
    "plt.xlim(18, 86)\n",
    "\n",
    "# указываем заголовок графика и подписи осей \n",
    "plt.title('Распределение клиентов по возрасту')\n",
    "plt.xlabel('Возраст')\n",
    "plt.ylabel('Частота')\n",
    "plt.legend(['Ушли', 'Остались'])\n",
    "# отображаем график на экране\n",
    "plt.show()"
   ]
  },
  {
   "cell_type": "markdown",
   "metadata": {},
   "source": [
    "- *Наблюдается увеличения оттока для групп в возрасте 25-35 лет, а также 50-60 лет.*\n",
    "- *Лояльные клиенты находятся в группах 18-21, 36-50, а также 61+*"
   ]
  },
  {
   "cell_type": "markdown",
   "metadata": {},
   "source": [
    "**Кредитный рейтинг**"
   ]
  },
  {
   "cell_type": "code",
   "execution_count": 29,
   "metadata": {},
   "outputs": [
    {
     "data": {
      "image/png": "[encoded data removed]",
      "text/plain": [
       "<Figure size 1000x600 with 1 Axes>"
      ]
     },
     "metadata": {},
     "output_type": "display_data"
    }
   ],
   "source": [
    "# назначаем стиль для графика с помощью matplotlib\n",
    "plt.style.use('seaborn-white')\n",
    "plt.figure(figsize=(10,6))\n",
    "# строим гистограмму \n",
    "sns.histplot(x='score'\n",
    "             ,data=df\n",
    "             ,hue = 'churn'\n",
    "             ,alpha = 0.7\n",
    "             ,kde=True\n",
    "             ,common_norm=False\n",
    "             ,bins=36 \n",
    "             ,stat='density')\n",
    "# ограничиваем ось X для наглядности\n",
    "plt.xlim(642, 1000)\n",
    "# указываем заголовок графика и подписи осей средствами matplotlib\n",
    "plt.title('Распределение кредитного рейтинга')\n",
    "plt.xlabel('Значение')\n",
    "plt.ylabel('Частота')\n",
    "plt.legend(['Ушли', 'Остались'])\n",
    "# отображаем график на экране\n",
    "plt.show()"
   ]
  },
  {
   "cell_type": "markdown",
   "metadata": {},
   "source": [
    "- *Наблюдается увеличение оттока у клиентов с кредитным рейтингом от 820 до 940. Есть пик в районе 860-870.*\n",
    "- *У лояльных клиентов рейтинг от 600 до 820, а также 940 до 1000*"
   ]
  },
  {
   "cell_type": "markdown",
   "metadata": {},
   "source": [
    "**Баланс**"
   ]
  },
  {
   "cell_type": "markdown",
   "metadata": {},
   "source": [
    "*Так как баланс распределён неравномерно, то применим логарифмическую шкалу, чтобы охватить весь диапазон*"
   ]
  },
  {
   "cell_type": "code",
   "execution_count": 30,
   "metadata": {},
   "outputs": [
    {
     "data": {
      "image/png": "[encoded data removed]",
      "text/plain": [
       "<Figure size 1500x800 with 1 Axes>"
      ]
     },
     "metadata": {},
     "output_type": "display_data"
    }
   ],
   "source": [
    "# назначаем классический стиль для графика с помощью matplotlib\n",
    "plt.style.use('seaborn-white')\n",
    "plt.figure(figsize=(15,8))\n",
    "# строим гистограмму для столбца, добавив график кривой KDE\n",
    "sns.histplot(data=df.query(\"balance > 0\")\n",
    "             ,x='balance'\n",
    "             ,hue = 'churn'\n",
    "             ,alpha = 0.7\n",
    "             ,kde=True\n",
    "             ,log_scale=True #добавим логарифмическое отображение\n",
    "             ,common_norm=False\n",
    "             ,stat='density')\n",
    "# ограничиваем ось X для наглядности\n",
    "#plt.xlim(0, 1000)\n",
    "# указываем заголовок графика и подписи осей средствами matplotlib\n",
    "plt.title('Распределение логарифма баланса')\n",
    "plt.xlabel('Значение')\n",
    "plt.ylabel('Частота')\n",
    "plt.legend(['Ушли', 'Остались'])\n",
    "# отображаем график на экране\n",
    "plt.show()"
   ]
  },
  {
   "cell_type": "markdown",
   "metadata": {},
   "source": [
    "*Видно увеличение оттока у клиентов с высоким балансом, начиная с 500 тыс.*"
   ]
  },
  {
   "cell_type": "markdown",
   "metadata": {},
   "source": [
    "**Зарплата/поступления на счёт**"
   ]
  },
  {
   "cell_type": "markdown",
   "metadata": {},
   "source": [
    "*Так как зарплата распределена неравномерно, то применим логарифмическую шкалу, чтобы охватить весь диапазон*"
   ]
  },
  {
   "cell_type": "code",
   "execution_count": 31,
   "metadata": {},
   "outputs": [
    {
     "data": {
      "image/png": "[encoded data removed]",
      "text/plain": [
       "<Figure size 1500x800 with 1 Axes>"
      ]
     },
     "metadata": {},
     "output_type": "display_data"
    }
   ],
   "source": [
    "# назначаем классический стиль для графика с помощью matplotlib\n",
    "plt.style.use('seaborn-white')\n",
    "plt.figure(figsize=(15,8))\n",
    "# строим гистограмму для столбца, добавив график кривой KDE\n",
    "sns.histplot(data=df.query(\"salary > 0\")\n",
    "             ,x='salary'\n",
    "             ,hue = 'churn'\n",
    "             ,alpha = 0.7\n",
    "             ,kde=True\n",
    "             ,log_scale=True #добавим логарифмическое отображение\n",
    "             ,common_norm=False\n",
    "             ,stat='density')\n",
    "# ограничиваем ось X для наглядности\n",
    "\n",
    "# указываем заголовок графика и подписи осей средствами matplotlib\n",
    "plt.title('Распределение логарифма зарплат')\n",
    "plt.xlabel('Значение')\n",
    "plt.ylabel('Частота')\n",
    "plt.legend(['Ушли', 'Остались'])\n",
    "# отображаем график на экране\n",
    "plt.show()"
   ]
  },
  {
   "cell_type": "markdown",
   "metadata": {},
   "source": [
    "*Видно, увеличение оттока клиентов начиная с зарплаты около 100 тыс. Рассмотрим этот диапазон подробнее в нормальной шкале. Сделаем срез по 95% перцентили*"
   ]
  },
  {
   "cell_type": "code",
   "execution_count": 32,
   "metadata": {},
   "outputs": [
    {
     "data": {
      "image/png": "[encoded data removed]",
      "text/plain": [
       "<Figure size 1500x800 with 1 Axes>"
      ]
     },
     "metadata": {},
     "output_type": "display_data"
    }
   ],
   "source": [
    "border = np.percentile(df[df['salary']>0]['salary'], 95)\n",
    "salary_95 =df.query(\"salary < @border\")\n",
    "\n",
    "# назначаем классический стиль для графика с помощью matplotlib\n",
    "plt.style.use('seaborn-white')\n",
    "plt.figure(figsize=(15,8))\n",
    "# строим гистограмму для столбца, добавив график кривой KDE\n",
    "sns.histplot(data=salary_95 # задаём срез \n",
    "             ,x='salary'\n",
    "             ,hue = 'churn'\n",
    "             ,alpha = 0.7\n",
    "             ,kde=True\n",
    "             \n",
    "             ,common_norm=False\n",
    "             ,stat='density'\n",
    "             ,bins=150)\n",
    "# ограничиваем ось X для наглядности\n",
    "#plt.xlim(0, 1000)\n",
    "# указываем заголовок графика и подписи осей средствами matplotlib\n",
    "plt.title('Распределение зарплат 95% клиентов')\n",
    "plt.xlabel('Зарплата')\n",
    "plt.ylabel('Частота')\n",
    "plt.legend(['Ушли', 'Остались'])\n",
    "# отображаем график на экране\n",
    "plt.show()"
   ]
  },
  {
   "cell_type": "markdown",
   "metadata": {},
   "source": [
    "- *После уточнения видно, увеличение оттока клиентов начиная с зарплаты около 75 тыс.*\n",
    "- *Лояльные клиенты находятся в диапазоне до 75 тыс.*"
   ]
  },
  {
   "cell_type": "markdown",
   "metadata": {},
   "source": [
    "**Категориальные признаки у отточных и лояльных клиентов**"
   ]
  },
  {
   "cell_type": "code",
   "execution_count": 33,
   "metadata": {},
   "outputs": [
    {
     "data": {
      "text/html": [
       "<div>\n",
       "<style scoped>\n",
       "    .dataframe tbody tr th:only-of-type {\n",
       "        vertical-align: middle;\n",
       "    }\n",
       "\n",
       "    .dataframe tbody tr th {\n",
       "        vertical-align: top;\n",
       "    }\n",
       "\n",
       "    .dataframe thead th {\n",
       "        text-align: right;\n",
       "    }\n",
       "</style>\n",
       "<table border=\"1\" class=\"dataframe\">\n",
       "  <thead>\n",
       "    <tr style=\"text-align: right;\">\n",
       "      <th></th>\n",
       "      <th>sum</th>\n",
       "      <th>count</th>\n",
       "      <th>churn %</th>\n",
       "    </tr>\n",
       "    <tr>\n",
       "      <th>city</th>\n",
       "      <th></th>\n",
       "      <th></th>\n",
       "      <th></th>\n",
       "    </tr>\n",
       "  </thead>\n",
       "  <tbody>\n",
       "    <tr>\n",
       "      <th>Ярославль</th>\n",
       "      <td>1117</td>\n",
       "      <td>5873</td>\n",
       "      <td>19.0</td>\n",
       "    </tr>\n",
       "    <tr>\n",
       "      <th>Ростов</th>\n",
       "      <td>265</td>\n",
       "      <td>1416</td>\n",
       "      <td>18.7</td>\n",
       "    </tr>\n",
       "    <tr>\n",
       "      <th>Рыбинск</th>\n",
       "      <td>436</td>\n",
       "      <td>2682</td>\n",
       "      <td>16.3</td>\n",
       "    </tr>\n",
       "  </tbody>\n",
       "</table>\n",
       "</div>"
      ],
      "text/plain": [
       "            sum  count  churn %\n",
       "city                           \n",
       "Ярославль  1117   5873     19.0\n",
       "Ростов      265   1416     18.7\n",
       "Рыбинск     436   2682     16.3"
      ]
     },
     "metadata": {},
     "output_type": "display_data"
    },
    {
     "data": {
      "text/html": [
       "<div>\n",
       "<style scoped>\n",
       "    .dataframe tbody tr th:only-of-type {\n",
       "        vertical-align: middle;\n",
       "    }\n",
       "\n",
       "    .dataframe tbody tr th {\n",
       "        vertical-align: top;\n",
       "    }\n",
       "\n",
       "    .dataframe thead th {\n",
       "        text-align: right;\n",
       "    }\n",
       "</style>\n",
       "<table border=\"1\" class=\"dataframe\">\n",
       "  <thead>\n",
       "    <tr style=\"text-align: right;\">\n",
       "      <th></th>\n",
       "      <th>sum</th>\n",
       "      <th>count</th>\n",
       "      <th>churn %</th>\n",
       "    </tr>\n",
       "    <tr>\n",
       "      <th>gender</th>\n",
       "      <th></th>\n",
       "      <th></th>\n",
       "      <th></th>\n",
       "    </tr>\n",
       "  </thead>\n",
       "  <tbody>\n",
       "    <tr>\n",
       "      <th>М</th>\n",
       "      <td>1183</td>\n",
       "      <td>4989</td>\n",
       "      <td>23.7</td>\n",
       "    </tr>\n",
       "    <tr>\n",
       "      <th>Ж</th>\n",
       "      <td>635</td>\n",
       "      <td>4982</td>\n",
       "      <td>12.7</td>\n",
       "    </tr>\n",
       "  </tbody>\n",
       "</table>\n",
       "</div>"
      ],
      "text/plain": [
       "         sum  count  churn %\n",
       "gender                      \n",
       "М       1183   4989     23.7\n",
       "Ж        635   4982     12.7"
      ]
     },
     "metadata": {},
     "output_type": "display_data"
    },
    {
     "data": {
      "text/html": [
       "<div>\n",
       "<style scoped>\n",
       "    .dataframe tbody tr th:only-of-type {\n",
       "        vertical-align: middle;\n",
       "    }\n",
       "\n",
       "    .dataframe tbody tr th {\n",
       "        vertical-align: top;\n",
       "    }\n",
       "\n",
       "    .dataframe thead th {\n",
       "        text-align: right;\n",
       "    }\n",
       "</style>\n",
       "<table border=\"1\" class=\"dataframe\">\n",
       "  <thead>\n",
       "    <tr style=\"text-align: right;\">\n",
       "      <th></th>\n",
       "      <th>sum</th>\n",
       "      <th>count</th>\n",
       "      <th>churn %</th>\n",
       "    </tr>\n",
       "    <tr>\n",
       "      <th>equity</th>\n",
       "      <th></th>\n",
       "      <th></th>\n",
       "      <th></th>\n",
       "    </tr>\n",
       "  </thead>\n",
       "  <tbody>\n",
       "    <tr>\n",
       "      <th>9</th>\n",
       "      <td>7</td>\n",
       "      <td>13</td>\n",
       "      <td>53.8</td>\n",
       "    </tr>\n",
       "    <tr>\n",
       "      <th>7</th>\n",
       "      <td>37</td>\n",
       "      <td>80</td>\n",
       "      <td>46.2</td>\n",
       "    </tr>\n",
       "    <tr>\n",
       "      <th>6</th>\n",
       "      <td>58</td>\n",
       "      <td>161</td>\n",
       "      <td>36.0</td>\n",
       "    </tr>\n",
       "    <tr>\n",
       "      <th>8</th>\n",
       "      <td>6</td>\n",
       "      <td>17</td>\n",
       "      <td>35.3</td>\n",
       "    </tr>\n",
       "    <tr>\n",
       "      <th>5</th>\n",
       "      <td>576</td>\n",
       "      <td>1915</td>\n",
       "      <td>30.1</td>\n",
       "    </tr>\n",
       "    <tr>\n",
       "      <th>4</th>\n",
       "      <td>464</td>\n",
       "      <td>1847</td>\n",
       "      <td>25.1</td>\n",
       "    </tr>\n",
       "    <tr>\n",
       "      <th>3</th>\n",
       "      <td>321</td>\n",
       "      <td>1540</td>\n",
       "      <td>20.8</td>\n",
       "    </tr>\n",
       "    <tr>\n",
       "      <th>2</th>\n",
       "      <td>166</td>\n",
       "      <td>1050</td>\n",
       "      <td>15.8</td>\n",
       "    </tr>\n",
       "    <tr>\n",
       "      <th>1</th>\n",
       "      <td>93</td>\n",
       "      <td>773</td>\n",
       "      <td>12.0</td>\n",
       "    </tr>\n",
       "    <tr>\n",
       "      <th>0</th>\n",
       "      <td>90</td>\n",
       "      <td>2575</td>\n",
       "      <td>3.5</td>\n",
       "    </tr>\n",
       "  </tbody>\n",
       "</table>\n",
       "</div>"
      ],
      "text/plain": [
       "        sum  count  churn %\n",
       "equity                     \n",
       "9         7     13     53.8\n",
       "7        37     80     46.2\n",
       "6        58    161     36.0\n",
       "8         6     17     35.3\n",
       "5       576   1915     30.1\n",
       "4       464   1847     25.1\n",
       "3       321   1540     20.8\n",
       "2       166   1050     15.8\n",
       "1        93    773     12.0\n",
       "0        90   2575      3.5"
      ]
     },
     "metadata": {},
     "output_type": "display_data"
    },
    {
     "data": {
      "text/html": [
       "<div>\n",
       "<style scoped>\n",
       "    .dataframe tbody tr th:only-of-type {\n",
       "        vertical-align: middle;\n",
       "    }\n",
       "\n",
       "    .dataframe tbody tr th {\n",
       "        vertical-align: top;\n",
       "    }\n",
       "\n",
       "    .dataframe thead th {\n",
       "        text-align: right;\n",
       "    }\n",
       "</style>\n",
       "<table border=\"1\" class=\"dataframe\">\n",
       "  <thead>\n",
       "    <tr style=\"text-align: right;\">\n",
       "      <th></th>\n",
       "      <th>sum</th>\n",
       "      <th>count</th>\n",
       "      <th>churn %</th>\n",
       "    </tr>\n",
       "    <tr>\n",
       "      <th>products</th>\n",
       "      <th></th>\n",
       "      <th></th>\n",
       "      <th></th>\n",
       "    </tr>\n",
       "  </thead>\n",
       "  <tbody>\n",
       "    <tr>\n",
       "      <th>4</th>\n",
       "      <td>300</td>\n",
       "      <td>474</td>\n",
       "      <td>63.3</td>\n",
       "    </tr>\n",
       "    <tr>\n",
       "      <th>5</th>\n",
       "      <td>8</td>\n",
       "      <td>19</td>\n",
       "      <td>42.1</td>\n",
       "    </tr>\n",
       "    <tr>\n",
       "      <th>3</th>\n",
       "      <td>297</td>\n",
       "      <td>1038</td>\n",
       "      <td>28.6</td>\n",
       "    </tr>\n",
       "    <tr>\n",
       "      <th>2</th>\n",
       "      <td>978</td>\n",
       "      <td>5117</td>\n",
       "      <td>19.1</td>\n",
       "    </tr>\n",
       "    <tr>\n",
       "      <th>1</th>\n",
       "      <td>235</td>\n",
       "      <td>3323</td>\n",
       "      <td>7.1</td>\n",
       "    </tr>\n",
       "  </tbody>\n",
       "</table>\n",
       "</div>"
      ],
      "text/plain": [
       "          sum  count  churn %\n",
       "products                     \n",
       "4         300    474     63.3\n",
       "5           8     19     42.1\n",
       "3         297   1038     28.6\n",
       "2         978   5117     19.1\n",
       "1         235   3323      7.1"
      ]
     },
     "metadata": {},
     "output_type": "display_data"
    },
    {
     "data": {
      "text/html": [
       "<div>\n",
       "<style scoped>\n",
       "    .dataframe tbody tr th:only-of-type {\n",
       "        vertical-align: middle;\n",
       "    }\n",
       "\n",
       "    .dataframe tbody tr th {\n",
       "        vertical-align: top;\n",
       "    }\n",
       "\n",
       "    .dataframe thead th {\n",
       "        text-align: right;\n",
       "    }\n",
       "</style>\n",
       "<table border=\"1\" class=\"dataframe\">\n",
       "  <thead>\n",
       "    <tr style=\"text-align: right;\">\n",
       "      <th></th>\n",
       "      <th>sum</th>\n",
       "      <th>count</th>\n",
       "      <th>churn %</th>\n",
       "    </tr>\n",
       "    <tr>\n",
       "      <th>credit_card</th>\n",
       "      <th></th>\n",
       "      <th></th>\n",
       "      <th></th>\n",
       "    </tr>\n",
       "  </thead>\n",
       "  <tbody>\n",
       "    <tr>\n",
       "      <th>0</th>\n",
       "      <td>815</td>\n",
       "      <td>3189</td>\n",
       "      <td>25.6</td>\n",
       "    </tr>\n",
       "    <tr>\n",
       "      <th>1</th>\n",
       "      <td>1003</td>\n",
       "      <td>6782</td>\n",
       "      <td>14.8</td>\n",
       "    </tr>\n",
       "  </tbody>\n",
       "</table>\n",
       "</div>"
      ],
      "text/plain": [
       "              sum  count  churn %\n",
       "credit_card                      \n",
       "0             815   3189     25.6\n",
       "1            1003   6782     14.8"
      ]
     },
     "metadata": {},
     "output_type": "display_data"
    },
    {
     "data": {
      "text/html": [
       "<div>\n",
       "<style scoped>\n",
       "    .dataframe tbody tr th:only-of-type {\n",
       "        vertical-align: middle;\n",
       "    }\n",
       "\n",
       "    .dataframe tbody tr th {\n",
       "        vertical-align: top;\n",
       "    }\n",
       "\n",
       "    .dataframe thead th {\n",
       "        text-align: right;\n",
       "    }\n",
       "</style>\n",
       "<table border=\"1\" class=\"dataframe\">\n",
       "  <thead>\n",
       "    <tr style=\"text-align: right;\">\n",
       "      <th></th>\n",
       "      <th>sum</th>\n",
       "      <th>count</th>\n",
       "      <th>churn %</th>\n",
       "    </tr>\n",
       "    <tr>\n",
       "      <th>last_activity</th>\n",
       "      <th></th>\n",
       "      <th></th>\n",
       "      <th></th>\n",
       "    </tr>\n",
       "  </thead>\n",
       "  <tbody>\n",
       "    <tr>\n",
       "      <th>1</th>\n",
       "      <td>1277</td>\n",
       "      <td>5214</td>\n",
       "      <td>24.5</td>\n",
       "    </tr>\n",
       "    <tr>\n",
       "      <th>0</th>\n",
       "      <td>541</td>\n",
       "      <td>4757</td>\n",
       "      <td>11.4</td>\n",
       "    </tr>\n",
       "  </tbody>\n",
       "</table>\n",
       "</div>"
      ],
      "text/plain": [
       "                sum  count  churn %\n",
       "last_activity                      \n",
       "1              1277   5214     24.5\n",
       "0               541   4757     11.4"
      ]
     },
     "metadata": {},
     "output_type": "display_data"
    }
   ],
   "source": [
    "# выделим категории в отдельный список\n",
    "categories = ['city','gender','equity','products','credit_card','last_activity']\n",
    "\n",
    "# пройдёмся по каждому элементу и создадим сводную таблицу, где index-переменная списка\n",
    "for item in categories:\n",
    "    churn = df.pivot_table(index = item, values = 'churn', aggfunc = ['sum','count'])\n",
    "    #дропнем лишние названия колонок\n",
    "    churn.columns = churn.columns.droplevel(level=1)\n",
    "    #переведём доли в проценты\n",
    "    churn['churn %'] = 100*(churn['sum']/churn['count']).round(3)\n",
    "    \n",
    "    #отсортируем по убыванию\n",
    "    churn=churn.sort_values(by='churn %', ascending=False)\n",
    "    display(churn)"
   ]
  },
  {
   "cell_type": "markdown",
   "metadata": {},
   "source": [
    "**Вывод:**\n",
    "\n",
    "+ **city** - Самый большой отток наблюдается в Ярославле 19%, затем идёт Ростов 18,7%. Меньше всего отток в Рыбинске 16,3%.\n",
    "+ **gender** - Доля отточных мужчин почти в 2 раза больше женщин и равна 23.7%.\n",
    "+ **equity** - Репрезентативной выборкой можно считать количество объектов 0-5, т.к клиентов с продуктами 6 - 9 очень мало в каждой категории, меньше 60. Отток клиентов увеличивается с ростом количества объектов. Наибольший отток у клиентов с 5 объектами.\n",
    "+ **products** - Наибольший отток наблюдается у клиентов с 4 продуктами 63,3% и уменьшается по мере уменьшения количества продуктов.\n",
    "+ **credit_card** - Отток клиентов без кредитной карты почти в 2 раза выше, чем с кредиткой, и составляет 25,6%.\n",
    "+ **last_activity** - Наибольший отток наблюдается у клиентов, кто проявлял активность в последний месяц 24,5%.\n"
   ]
  },
  {
   "cell_type": "markdown",
   "metadata": {},
   "source": [
    "**Портреты отточных клиентов и лояльных клиентов**"
   ]
  },
  {
   "cell_type": "markdown",
   "metadata": {},
   "source": [
    "*Выделим признаки, которые более характерны для лояльных и отточных клиентов*"
   ]
  },
  {
   "cell_type": "code",
   "execution_count": 34,
   "metadata": {},
   "outputs": [
    {
     "data": {
      "text/html": [
       "<div>\n",
       "<style scoped>\n",
       "    .dataframe tbody tr th:only-of-type {\n",
       "        vertical-align: middle;\n",
       "    }\n",
       "\n",
       "    .dataframe tbody tr th {\n",
       "        vertical-align: top;\n",
       "    }\n",
       "\n",
       "    .dataframe thead th {\n",
       "        text-align: right;\n",
       "    }\n",
       "</style>\n",
       "<table border=\"1\" class=\"dataframe\">\n",
       "  <thead>\n",
       "    <tr style=\"text-align: right;\">\n",
       "      <th></th>\n",
       "      <th>Признак</th>\n",
       "      <th>Лояльный клиент</th>\n",
       "      <th>Отточный клиент</th>\n",
       "    </tr>\n",
       "  </thead>\n",
       "  <tbody>\n",
       "    <tr>\n",
       "      <th>0</th>\n",
       "      <td>Объекты</td>\n",
       "      <td>0-2</td>\n",
       "      <td>3-9</td>\n",
       "    </tr>\n",
       "    <tr>\n",
       "      <th>1</th>\n",
       "      <td>Продукты банка</td>\n",
       "      <td>1</td>\n",
       "      <td>2-4</td>\n",
       "    </tr>\n",
       "    <tr>\n",
       "      <th>2</th>\n",
       "      <td>Последняя активность</td>\n",
       "      <td>нет</td>\n",
       "      <td>да</td>\n",
       "    </tr>\n",
       "    <tr>\n",
       "      <th>3</th>\n",
       "      <td>Кредитный рейтинг</td>\n",
       "      <td>600-820 и 940-1000</td>\n",
       "      <td>820-940</td>\n",
       "    </tr>\n",
       "    <tr>\n",
       "      <th>4</th>\n",
       "      <td>Пол</td>\n",
       "      <td>Женщины</td>\n",
       "      <td>Мужчины</td>\n",
       "    </tr>\n",
       "    <tr>\n",
       "      <th>5</th>\n",
       "      <td>Кредитка</td>\n",
       "      <td>да</td>\n",
       "      <td>нет</td>\n",
       "    </tr>\n",
       "    <tr>\n",
       "      <th>6</th>\n",
       "      <td>Возраст</td>\n",
       "      <td>18-21, 36-50, 61+</td>\n",
       "      <td>25-35, 50-60</td>\n",
       "    </tr>\n",
       "    <tr>\n",
       "      <th>7</th>\n",
       "      <td>Зарплата</td>\n",
       "      <td>до 75 тыс.</td>\n",
       "      <td>выше 75 тыс.</td>\n",
       "    </tr>\n",
       "    <tr>\n",
       "      <th>8</th>\n",
       "      <td>Баланс</td>\n",
       "      <td>до 500 тыс.</td>\n",
       "      <td>выше 500 тыс.</td>\n",
       "    </tr>\n",
       "    <tr>\n",
       "      <th>9</th>\n",
       "      <td>Город</td>\n",
       "      <td>Рыбинск</td>\n",
       "      <td>Ярославль</td>\n",
       "    </tr>\n",
       "  </tbody>\n",
       "</table>\n",
       "</div>"
      ],
      "text/plain": [
       "                Признак     Лояльный клиент Отточный клиент\n",
       "0               Объекты                 0-2             3-9\n",
       "1        Продукты банка                   1             2-4\n",
       "2  Последняя активность                 нет              да\n",
       "3     Кредитный рейтинг  600-820 и 940-1000         820-940\n",
       "4                   Пол             Женщины         Мужчины\n",
       "5              Кредитка                  да             нет\n",
       "6               Возраст   18-21, 36-50, 61+    25-35, 50-60\n",
       "7              Зарплата          до 75 тыс.    выше 75 тыс.\n",
       "8                Баланс         до 500 тыс.   выше 500 тыс.\n",
       "9                 Город             Рыбинск       Ярославль"
      ]
     },
     "execution_count": 34,
     "metadata": {},
     "output_type": "execute_result"
    }
   ],
   "source": [
    "val= [['Объекты','0-2','3-9'],\\\n",
    "      ['Продукты банка','1','2-4'],\\\n",
    "      ['Последняя активность','нет','да'],\\\n",
    "      ['Кредитный рейтинг','600-820 и 940-1000','820-940'],\\\n",
    "      ['Пол','Женщины','Мужчины'],\\\n",
    "      ['Кредитка','да','нет'],\\\n",
    "      ['Возраст','18-21, 36-50, 61+','25-35, 50-60'],\\\n",
    "      ['Зарплата','до 75 тыс.','выше 75 тыс.'],\\\n",
    "      ['Баланс','до 500 тыс.','выше 500 тыс.'],\\\n",
    "      ['Город','Рыбинск','Ярославль']]\n",
    "     \n",
    "comparing = pd.DataFrame(val, columns=['Признак','Лояльный клиент','Отточный клиент'])\n",
    "\n",
    "comparing"
   ]
  },
  {
   "cell_type": "markdown",
   "metadata": {},
   "source": [
    "**Корреляция показателей**"
   ]
  },
  {
   "cell_type": "code",
   "execution_count": 35,
   "metadata": {},
   "outputs": [
    {
     "data": {
      "text/html": [
       "<div>\n",
       "<style scoped>\n",
       "    .dataframe tbody tr th:only-of-type {\n",
       "        vertical-align: middle;\n",
       "    }\n",
       "\n",
       "    .dataframe tbody tr th {\n",
       "        vertical-align: top;\n",
       "    }\n",
       "\n",
       "    .dataframe thead th {\n",
       "        text-align: right;\n",
       "    }\n",
       "</style>\n",
       "<table border=\"1\" class=\"dataframe\">\n",
       "  <thead>\n",
       "    <tr style=\"text-align: right;\">\n",
       "      <th></th>\n",
       "      <th>user</th>\n",
       "      <th>score</th>\n",
       "      <th>age</th>\n",
       "      <th>equity</th>\n",
       "      <th>balance</th>\n",
       "      <th>products</th>\n",
       "      <th>credit_card</th>\n",
       "      <th>last_activity</th>\n",
       "      <th>salary</th>\n",
       "      <th>churn</th>\n",
       "      <th>женщины</th>\n",
       "      <th>мужчины</th>\n",
       "      <th>Ростов</th>\n",
       "      <th>Рыбинск</th>\n",
       "      <th>Ярославль</th>\n",
       "    </tr>\n",
       "  </thead>\n",
       "  <tbody>\n",
       "    <tr>\n",
       "      <th>count</th>\n",
       "      <td>9971.000000</td>\n",
       "      <td>9971.000000</td>\n",
       "      <td>9971.000000</td>\n",
       "      <td>9971.000000</td>\n",
       "      <td>7.693000e+03</td>\n",
       "      <td>9971.000000</td>\n",
       "      <td>9971.000000</td>\n",
       "      <td>9971.000000</td>\n",
       "      <td>9.971000e+03</td>\n",
       "      <td>9971.000000</td>\n",
       "      <td>9971.000000</td>\n",
       "      <td>9971.000000</td>\n",
       "      <td>9971.000000</td>\n",
       "      <td>9971.000000</td>\n",
       "      <td>9971.000000</td>\n",
       "    </tr>\n",
       "    <tr>\n",
       "      <th>mean</th>\n",
       "      <td>171759.144218</td>\n",
       "      <td>848.686691</td>\n",
       "      <td>42.735533</td>\n",
       "      <td>2.631130</td>\n",
       "      <td>8.274607e+05</td>\n",
       "      <td>1.871628</td>\n",
       "      <td>0.680173</td>\n",
       "      <td>0.522916</td>\n",
       "      <td>1.478199e+05</td>\n",
       "      <td>0.182329</td>\n",
       "      <td>0.499649</td>\n",
       "      <td>0.500351</td>\n",
       "      <td>0.142012</td>\n",
       "      <td>0.268980</td>\n",
       "      <td>0.589008</td>\n",
       "    </tr>\n",
       "    <tr>\n",
       "      <th>std</th>\n",
       "      <td>33698.839802</td>\n",
       "      <td>65.387934</td>\n",
       "      <td>12.171738</td>\n",
       "      <td>1.980074</td>\n",
       "      <td>1.980540e+06</td>\n",
       "      <td>0.792624</td>\n",
       "      <td>0.466433</td>\n",
       "      <td>0.499500</td>\n",
       "      <td>1.392930e+05</td>\n",
       "      <td>0.386135</td>\n",
       "      <td>0.500025</td>\n",
       "      <td>0.500025</td>\n",
       "      <td>0.349080</td>\n",
       "      <td>0.443452</td>\n",
       "      <td>0.492038</td>\n",
       "    </tr>\n",
       "    <tr>\n",
       "      <th>min</th>\n",
       "      <td>94561.000000</td>\n",
       "      <td>642.000000</td>\n",
       "      <td>18.000000</td>\n",
       "      <td>0.000000</td>\n",
       "      <td>6.000000e+00</td>\n",
       "      <td>1.000000</td>\n",
       "      <td>0.000000</td>\n",
       "      <td>0.000000</td>\n",
       "      <td>2.546300e+03</td>\n",
       "      <td>0.000000</td>\n",
       "      <td>0.000000</td>\n",
       "      <td>0.000000</td>\n",
       "      <td>0.000000</td>\n",
       "      <td>0.000000</td>\n",
       "      <td>0.000000</td>\n",
       "    </tr>\n",
       "    <tr>\n",
       "      <th>25%</th>\n",
       "      <td>142744.000000</td>\n",
       "      <td>802.000000</td>\n",
       "      <td>33.000000</td>\n",
       "      <td>0.000000</td>\n",
       "      <td>2.959639e+05</td>\n",
       "      <td>1.000000</td>\n",
       "      <td>0.000000</td>\n",
       "      <td>0.000000</td>\n",
       "      <td>7.525586e+04</td>\n",
       "      <td>0.000000</td>\n",
       "      <td>0.000000</td>\n",
       "      <td>0.000000</td>\n",
       "      <td>0.000000</td>\n",
       "      <td>0.000000</td>\n",
       "      <td>0.000000</td>\n",
       "    </tr>\n",
       "    <tr>\n",
       "      <th>50%</th>\n",
       "      <td>172651.000000</td>\n",
       "      <td>853.000000</td>\n",
       "      <td>40.000000</td>\n",
       "      <td>3.000000</td>\n",
       "      <td>5.244177e+05</td>\n",
       "      <td>2.000000</td>\n",
       "      <td>1.000000</td>\n",
       "      <td>1.000000</td>\n",
       "      <td>1.196547e+05</td>\n",
       "      <td>0.000000</td>\n",
       "      <td>0.000000</td>\n",
       "      <td>1.000000</td>\n",
       "      <td>0.000000</td>\n",
       "      <td>0.000000</td>\n",
       "      <td>1.000000</td>\n",
       "    </tr>\n",
       "    <tr>\n",
       "      <th>75%</th>\n",
       "      <td>201166.000000</td>\n",
       "      <td>900.000000</td>\n",
       "      <td>51.000000</td>\n",
       "      <td>4.000000</td>\n",
       "      <td>9.807058e+05</td>\n",
       "      <td>2.000000</td>\n",
       "      <td>1.000000</td>\n",
       "      <td>1.000000</td>\n",
       "      <td>1.745011e+05</td>\n",
       "      <td>0.000000</td>\n",
       "      <td>1.000000</td>\n",
       "      <td>1.000000</td>\n",
       "      <td>0.000000</td>\n",
       "      <td>1.000000</td>\n",
       "      <td>1.000000</td>\n",
       "    </tr>\n",
       "    <tr>\n",
       "      <th>max</th>\n",
       "      <td>229145.000000</td>\n",
       "      <td>1000.000000</td>\n",
       "      <td>86.000000</td>\n",
       "      <td>9.000000</td>\n",
       "      <td>1.191136e+08</td>\n",
       "      <td>5.000000</td>\n",
       "      <td>1.000000</td>\n",
       "      <td>1.000000</td>\n",
       "      <td>1.395064e+06</td>\n",
       "      <td>1.000000</td>\n",
       "      <td>1.000000</td>\n",
       "      <td>1.000000</td>\n",
       "      <td>1.000000</td>\n",
       "      <td>1.000000</td>\n",
       "      <td>1.000000</td>\n",
       "    </tr>\n",
       "  </tbody>\n",
       "</table>\n",
       "</div>"
      ],
      "text/plain": [
       "                user        score          age       equity       balance  \\\n",
       "count    9971.000000  9971.000000  9971.000000  9971.000000  7.693000e+03   \n",
       "mean   171759.144218   848.686691    42.735533     2.631130  8.274607e+05   \n",
       "std     33698.839802    65.387934    12.171738     1.980074  1.980540e+06   \n",
       "min     94561.000000   642.000000    18.000000     0.000000  6.000000e+00   \n",
       "25%    142744.000000   802.000000    33.000000     0.000000  2.959639e+05   \n",
       "50%    172651.000000   853.000000    40.000000     3.000000  5.244177e+05   \n",
       "75%    201166.000000   900.000000    51.000000     4.000000  9.807058e+05   \n",
       "max    229145.000000  1000.000000    86.000000     9.000000  1.191136e+08   \n",
       "\n",
       "          products  credit_card  last_activity        salary        churn  \\\n",
       "count  9971.000000  9971.000000    9971.000000  9.971000e+03  9971.000000   \n",
       "mean      1.871628     0.680173       0.522916  1.478199e+05     0.182329   \n",
       "std       0.792624     0.466433       0.499500  1.392930e+05     0.386135   \n",
       "min       1.000000     0.000000       0.000000  2.546300e+03     0.000000   \n",
       "25%       1.000000     0.000000       0.000000  7.525586e+04     0.000000   \n",
       "50%       2.000000     1.000000       1.000000  1.196547e+05     0.000000   \n",
       "75%       2.000000     1.000000       1.000000  1.745011e+05     0.000000   \n",
       "max       5.000000     1.000000       1.000000  1.395064e+06     1.000000   \n",
       "\n",
       "           женщины      мужчины       Ростов      Рыбинск    Ярославль  \n",
       "count  9971.000000  9971.000000  9971.000000  9971.000000  9971.000000  \n",
       "mean      0.499649     0.500351     0.142012     0.268980     0.589008  \n",
       "std       0.500025     0.500025     0.349080     0.443452     0.492038  \n",
       "min       0.000000     0.000000     0.000000     0.000000     0.000000  \n",
       "25%       0.000000     0.000000     0.000000     0.000000     0.000000  \n",
       "50%       0.000000     1.000000     0.000000     0.000000     1.000000  \n",
       "75%       1.000000     1.000000     0.000000     1.000000     1.000000  \n",
       "max       1.000000     1.000000     1.000000     1.000000     1.000000  "
      ]
     },
     "execution_count": 35,
     "metadata": {},
     "output_type": "execute_result"
    }
   ],
   "source": [
    "df.describe()"
   ]
  },
  {
   "cell_type": "code",
   "execution_count": 36,
   "metadata": {},
   "outputs": [
    {
     "name": "stdout",
     "output_type": "stream",
     "text": [
      "interval columns not set, guessing: ['score', 'age', 'equity', 'balance', 'products', 'credit_card', 'last_activity', 'salary', 'churn', 'женщины', 'мужчины', 'Ростов', 'Рыбинск', 'Ярославль']\n"
     ]
    },
    {
     "data": {
      "text/html": [
       "<div>\n",
       "<style scoped>\n",
       "    .dataframe tbody tr th:only-of-type {\n",
       "        vertical-align: middle;\n",
       "    }\n",
       "\n",
       "    .dataframe tbody tr th {\n",
       "        vertical-align: top;\n",
       "    }\n",
       "\n",
       "    .dataframe thead th {\n",
       "        text-align: right;\n",
       "    }\n",
       "</style>\n",
       "<table border=\"1\" class=\"dataframe\">\n",
       "  <thead>\n",
       "    <tr style=\"text-align: right;\">\n",
       "      <th></th>\n",
       "      <th>score</th>\n",
       "      <th>age</th>\n",
       "      <th>equity</th>\n",
       "      <th>balance</th>\n",
       "      <th>products</th>\n",
       "      <th>credit_card</th>\n",
       "      <th>last_activity</th>\n",
       "      <th>salary</th>\n",
       "      <th>churn</th>\n",
       "      <th>balance_nan</th>\n",
       "      <th>женщины</th>\n",
       "      <th>мужчины</th>\n",
       "      <th>Ростов</th>\n",
       "      <th>Рыбинск</th>\n",
       "      <th>Ярославль</th>\n",
       "    </tr>\n",
       "  </thead>\n",
       "  <tbody>\n",
       "    <tr>\n",
       "      <th>score</th>\n",
       "      <td>1.000000</td>\n",
       "      <td>0.037396</td>\n",
       "      <td>0.527343</td>\n",
       "      <td>0.170882</td>\n",
       "      <td>0.418574</td>\n",
       "      <td>0.208194</td>\n",
       "      <td>0.053247</td>\n",
       "      <td>0.395462</td>\n",
       "      <td>0.228059</td>\n",
       "      <td>0.753766</td>\n",
       "      <td>0.070650</td>\n",
       "      <td>0.070650</td>\n",
       "      <td>0.086196</td>\n",
       "      <td>0.029380</td>\n",
       "      <td>0.084911</td>\n",
       "    </tr>\n",
       "    <tr>\n",
       "      <th>age</th>\n",
       "      <td>0.037396</td>\n",
       "      <td>1.000000</td>\n",
       "      <td>0.042385</td>\n",
       "      <td>0.024957</td>\n",
       "      <td>0.140926</td>\n",
       "      <td>0.156464</td>\n",
       "      <td>0.089671</td>\n",
       "      <td>0.358020</td>\n",
       "      <td>0.183339</td>\n",
       "      <td>0.049021</td>\n",
       "      <td>0.285535</td>\n",
       "      <td>0.285535</td>\n",
       "      <td>0.068739</td>\n",
       "      <td>0.058761</td>\n",
       "      <td>0.097727</td>\n",
       "    </tr>\n",
       "    <tr>\n",
       "      <th>equity</th>\n",
       "      <td>0.527343</td>\n",
       "      <td>0.042385</td>\n",
       "      <td>1.000000</td>\n",
       "      <td>0.000000</td>\n",
       "      <td>0.583427</td>\n",
       "      <td>0.221292</td>\n",
       "      <td>0.050642</td>\n",
       "      <td>0.285611</td>\n",
       "      <td>0.352056</td>\n",
       "      <td>0.975754</td>\n",
       "      <td>0.063446</td>\n",
       "      <td>0.063446</td>\n",
       "      <td>0.064388</td>\n",
       "      <td>0.000000</td>\n",
       "      <td>0.054833</td>\n",
       "    </tr>\n",
       "    <tr>\n",
       "      <th>balance</th>\n",
       "      <td>0.170882</td>\n",
       "      <td>0.024957</td>\n",
       "      <td>0.000000</td>\n",
       "      <td>1.000000</td>\n",
       "      <td>0.000000</td>\n",
       "      <td>0.000000</td>\n",
       "      <td>0.000000</td>\n",
       "      <td>0.374365</td>\n",
       "      <td>0.024660</td>\n",
       "      <td>NaN</td>\n",
       "      <td>0.045464</td>\n",
       "      <td>0.045464</td>\n",
       "      <td>0.000000</td>\n",
       "      <td>0.023181</td>\n",
       "      <td>0.047941</td>\n",
       "    </tr>\n",
       "    <tr>\n",
       "      <th>products</th>\n",
       "      <td>0.418574</td>\n",
       "      <td>0.140926</td>\n",
       "      <td>0.583427</td>\n",
       "      <td>0.000000</td>\n",
       "      <td>1.000000</td>\n",
       "      <td>0.271099</td>\n",
       "      <td>0.112825</td>\n",
       "      <td>0.222285</td>\n",
       "      <td>0.259853</td>\n",
       "      <td>0.491171</td>\n",
       "      <td>0.071824</td>\n",
       "      <td>0.071824</td>\n",
       "      <td>0.044997</td>\n",
       "      <td>0.085363</td>\n",
       "      <td>0.108476</td>\n",
       "    </tr>\n",
       "    <tr>\n",
       "      <th>credit_card</th>\n",
       "      <td>0.208194</td>\n",
       "      <td>0.156464</td>\n",
       "      <td>0.221292</td>\n",
       "      <td>0.000000</td>\n",
       "      <td>0.271099</td>\n",
       "      <td>1.000000</td>\n",
       "      <td>0.049564</td>\n",
       "      <td>0.038498</td>\n",
       "      <td>0.201876</td>\n",
       "      <td>0.244840</td>\n",
       "      <td>0.195452</td>\n",
       "      <td>0.195452</td>\n",
       "      <td>0.152098</td>\n",
       "      <td>0.076576</td>\n",
       "      <td>0.178121</td>\n",
       "    </tr>\n",
       "    <tr>\n",
       "      <th>last_activity</th>\n",
       "      <td>0.053247</td>\n",
       "      <td>0.089671</td>\n",
       "      <td>0.050642</td>\n",
       "      <td>0.000000</td>\n",
       "      <td>0.112825</td>\n",
       "      <td>0.049564</td>\n",
       "      <td>1.000000</td>\n",
       "      <td>0.044931</td>\n",
       "      <td>0.262598</td>\n",
       "      <td>0.041666</td>\n",
       "      <td>0.012979</td>\n",
       "      <td>0.012979</td>\n",
       "      <td>0.000000</td>\n",
       "      <td>0.074427</td>\n",
       "      <td>0.074964</td>\n",
       "    </tr>\n",
       "    <tr>\n",
       "      <th>salary</th>\n",
       "      <td>0.395462</td>\n",
       "      <td>0.358020</td>\n",
       "      <td>0.285611</td>\n",
       "      <td>0.374365</td>\n",
       "      <td>0.222285</td>\n",
       "      <td>0.038498</td>\n",
       "      <td>0.044931</td>\n",
       "      <td>1.000000</td>\n",
       "      <td>0.048883</td>\n",
       "      <td>0.429821</td>\n",
       "      <td>0.144222</td>\n",
       "      <td>0.144222</td>\n",
       "      <td>0.136003</td>\n",
       "      <td>0.101295</td>\n",
       "      <td>0.175677</td>\n",
       "    </tr>\n",
       "    <tr>\n",
       "      <th>churn</th>\n",
       "      <td>0.228059</td>\n",
       "      <td>0.183339</td>\n",
       "      <td>0.352056</td>\n",
       "      <td>0.024660</td>\n",
       "      <td>0.259853</td>\n",
       "      <td>0.201876</td>\n",
       "      <td>0.262598</td>\n",
       "      <td>0.048883</td>\n",
       "      <td>1.000000</td>\n",
       "      <td>0.381290</td>\n",
       "      <td>0.220289</td>\n",
       "      <td>0.220289</td>\n",
       "      <td>0.000000</td>\n",
       "      <td>0.045662</td>\n",
       "      <td>0.034457</td>\n",
       "    </tr>\n",
       "    <tr>\n",
       "      <th>balance_nan</th>\n",
       "      <td>0.753766</td>\n",
       "      <td>0.049021</td>\n",
       "      <td>0.975754</td>\n",
       "      <td>NaN</td>\n",
       "      <td>0.491171</td>\n",
       "      <td>0.244840</td>\n",
       "      <td>0.041666</td>\n",
       "      <td>0.429821</td>\n",
       "      <td>0.381290</td>\n",
       "      <td>1.000000</td>\n",
       "      <td>0.097426</td>\n",
       "      <td>0.097426</td>\n",
       "      <td>0.093152</td>\n",
       "      <td>0.016844</td>\n",
       "      <td>0.086749</td>\n",
       "    </tr>\n",
       "    <tr>\n",
       "      <th>женщины</th>\n",
       "      <td>0.070650</td>\n",
       "      <td>0.285535</td>\n",
       "      <td>0.063446</td>\n",
       "      <td>0.045464</td>\n",
       "      <td>0.071824</td>\n",
       "      <td>0.195452</td>\n",
       "      <td>0.012979</td>\n",
       "      <td>0.144222</td>\n",
       "      <td>0.220289</td>\n",
       "      <td>0.097426</td>\n",
       "      <td>1.000000</td>\n",
       "      <td>1.000000</td>\n",
       "      <td>0.016175</td>\n",
       "      <td>0.016849</td>\n",
       "      <td>0.033597</td>\n",
       "    </tr>\n",
       "    <tr>\n",
       "      <th>мужчины</th>\n",
       "      <td>0.070650</td>\n",
       "      <td>0.285535</td>\n",
       "      <td>0.063446</td>\n",
       "      <td>0.045464</td>\n",
       "      <td>0.071824</td>\n",
       "      <td>0.195452</td>\n",
       "      <td>0.012979</td>\n",
       "      <td>0.144222</td>\n",
       "      <td>0.220289</td>\n",
       "      <td>0.097426</td>\n",
       "      <td>1.000000</td>\n",
       "      <td>1.000000</td>\n",
       "      <td>0.016175</td>\n",
       "      <td>0.016849</td>\n",
       "      <td>0.033597</td>\n",
       "    </tr>\n",
       "    <tr>\n",
       "      <th>Ростов</th>\n",
       "      <td>0.086196</td>\n",
       "      <td>0.068739</td>\n",
       "      <td>0.064388</td>\n",
       "      <td>0.000000</td>\n",
       "      <td>0.044997</td>\n",
       "      <td>0.152098</td>\n",
       "      <td>0.000000</td>\n",
       "      <td>0.136003</td>\n",
       "      <td>0.000000</td>\n",
       "      <td>0.093152</td>\n",
       "      <td>0.016175</td>\n",
       "      <td>0.016175</td>\n",
       "      <td>1.000000</td>\n",
       "      <td>0.377264</td>\n",
       "      <td>0.692149</td>\n",
       "    </tr>\n",
       "    <tr>\n",
       "      <th>Рыбинск</th>\n",
       "      <td>0.029380</td>\n",
       "      <td>0.058761</td>\n",
       "      <td>0.000000</td>\n",
       "      <td>0.023181</td>\n",
       "      <td>0.085363</td>\n",
       "      <td>0.076576</td>\n",
       "      <td>0.074427</td>\n",
       "      <td>0.101295</td>\n",
       "      <td>0.045662</td>\n",
       "      <td>0.016844</td>\n",
       "      <td>0.016849</td>\n",
       "      <td>0.016849</td>\n",
       "      <td>0.377264</td>\n",
       "      <td>1.000000</td>\n",
       "      <td>0.908741</td>\n",
       "    </tr>\n",
       "    <tr>\n",
       "      <th>Ярославль</th>\n",
       "      <td>0.084911</td>\n",
       "      <td>0.097727</td>\n",
       "      <td>0.054833</td>\n",
       "      <td>0.047941</td>\n",
       "      <td>0.108476</td>\n",
       "      <td>0.178121</td>\n",
       "      <td>0.074964</td>\n",
       "      <td>0.175677</td>\n",
       "      <td>0.034457</td>\n",
       "      <td>0.086749</td>\n",
       "      <td>0.033597</td>\n",
       "      <td>0.033597</td>\n",
       "      <td>0.692149</td>\n",
       "      <td>0.908741</td>\n",
       "      <td>1.000000</td>\n",
       "    </tr>\n",
       "  </tbody>\n",
       "</table>\n",
       "</div>"
      ],
      "text/plain": [
       "                  score       age    equity   balance  products  credit_card  \\\n",
       "score          1.000000  0.037396  0.527343  0.170882  0.418574     0.208194   \n",
       "age            0.037396  1.000000  0.042385  0.024957  0.140926     0.156464   \n",
       "equity         0.527343  0.042385  1.000000  0.000000  0.583427     0.221292   \n",
       "balance        0.170882  0.024957  0.000000  1.000000  0.000000     0.000000   \n",
       "products       0.418574  0.140926  0.583427  0.000000  1.000000     0.271099   \n",
       "credit_card    0.208194  0.156464  0.221292  0.000000  0.271099     1.000000   \n",
       "last_activity  0.053247  0.089671  0.050642  0.000000  0.112825     0.049564   \n",
       "salary         0.395462  0.358020  0.285611  0.374365  0.222285     0.038498   \n",
       "churn          0.228059  0.183339  0.352056  0.024660  0.259853     0.201876   \n",
       "balance_nan    0.753766  0.049021  0.975754       NaN  0.491171     0.244840   \n",
       "женщины        0.070650  0.285535  0.063446  0.045464  0.071824     0.195452   \n",
       "мужчины        0.070650  0.285535  0.063446  0.045464  0.071824     0.195452   \n",
       "Ростов         0.086196  0.068739  0.064388  0.000000  0.044997     0.152098   \n",
       "Рыбинск        0.029380  0.058761  0.000000  0.023181  0.085363     0.076576   \n",
       "Ярославль      0.084911  0.097727  0.054833  0.047941  0.108476     0.178121   \n",
       "\n",
       "               last_activity    salary     churn  balance_nan   женщины  \\\n",
       "score               0.053247  0.395462  0.228059     0.753766  0.070650   \n",
       "age                 0.089671  0.358020  0.183339     0.049021  0.285535   \n",
       "equity              0.050642  0.285611  0.352056     0.975754  0.063446   \n",
       "balance             0.000000  0.374365  0.024660          NaN  0.045464   \n",
       "products            0.112825  0.222285  0.259853     0.491171  0.071824   \n",
       "credit_card         0.049564  0.038498  0.201876     0.244840  0.195452   \n",
       "last_activity       1.000000  0.044931  0.262598     0.041666  0.012979   \n",
       "salary              0.044931  1.000000  0.048883     0.429821  0.144222   \n",
       "churn               0.262598  0.048883  1.000000     0.381290  0.220289   \n",
       "balance_nan         0.041666  0.429821  0.381290     1.000000  0.097426   \n",
       "женщины             0.012979  0.144222  0.220289     0.097426  1.000000   \n",
       "мужчины             0.012979  0.144222  0.220289     0.097426  1.000000   \n",
       "Ростов              0.000000  0.136003  0.000000     0.093152  0.016175   \n",
       "Рыбинск             0.074427  0.101295  0.045662     0.016844  0.016849   \n",
       "Ярославль           0.074964  0.175677  0.034457     0.086749  0.033597   \n",
       "\n",
       "                мужчины    Ростов   Рыбинск  Ярославль  \n",
       "score          0.070650  0.086196  0.029380   0.084911  \n",
       "age            0.285535  0.068739  0.058761   0.097727  \n",
       "equity         0.063446  0.064388  0.000000   0.054833  \n",
       "balance        0.045464  0.000000  0.023181   0.047941  \n",
       "products       0.071824  0.044997  0.085363   0.108476  \n",
       "credit_card    0.195452  0.152098  0.076576   0.178121  \n",
       "last_activity  0.012979  0.000000  0.074427   0.074964  \n",
       "salary         0.144222  0.136003  0.101295   0.175677  \n",
       "churn          0.220289  0.000000  0.045662   0.034457  \n",
       "balance_nan    0.097426  0.093152  0.016844   0.086749  \n",
       "женщины        1.000000  0.016175  0.016849   0.033597  \n",
       "мужчины        1.000000  0.016175  0.016849   0.033597  \n",
       "Ростов         0.016175  1.000000  0.377264   0.692149  \n",
       "Рыбинск        0.016849  0.377264  1.000000   0.908741  \n",
       "Ярославль      0.033597  0.692149  0.908741   1.000000  "
      ]
     },
     "execution_count": 36,
     "metadata": {},
     "output_type": "execute_result"
    }
   ],
   "source": [
    "df_sorted = df.drop(['user','city','gender'], axis=1)\n",
    "# get the phi_k correlation matrix between all variables\n",
    "df_phik = df_sorted.phik_matrix()\n",
    "df_phik"
   ]
  },
  {
   "cell_type": "code",
   "execution_count": 37,
   "metadata": {},
   "outputs": [
    {
     "data": {
      "image/png": "[encoded data removed]",
      "text/plain": [
       "<Figure size 1000x600 with 2 Axes>"
      ]
     },
     "metadata": {},
     "output_type": "display_data"
    }
   ],
   "source": [
    "#Построим тепловую карту\n",
    "plt.figure(figsize=(10, 6)) \n",
    "heatmap = sns.heatmap(df_phik, vmin=0, vmax=1, annot=True, cmap='Greens') \n",
    "\n",
    "heatmap.set_title('phik корреляция признаков', fontdict={'fontsize':10}, pad=16);"
   ]
  },
  {
   "cell_type": "markdown",
   "metadata": {},
   "source": [
    "**Срез матрицы корреляции по признаку оттока клиентов churn**"
   ]
  },
  {
   "cell_type": "code",
   "execution_count": 38,
   "metadata": {},
   "outputs": [
    {
     "data": {
      "image/png": "[encoded data removed]",
      "text/plain": [
       "<Figure size 300x600 with 1 Axes>"
      ]
     },
     "metadata": {},
     "output_type": "display_data"
    }
   ],
   "source": [
    "df_phik_churn = df_phik[['churn']].drop(['churn']).sort_values(by='churn', ascending=False)\n",
    "\n",
    "#Построим тепловую карту\n",
    "plt.figure(figsize=(3, 6)) \n",
    "heatmap = sns.heatmap(df_phik_churn, vmin=0, vmax=1, annot=True, cmap='Greens', fmt='.0%', cbar=False) \n",
    "\n",
    "heatmap.set_title('phik корреляция по срезу оттока', fontdict={'fontsize':10}, pad=16);\n",
    "\n",
    "plt.show()"
   ]
  },
  {
   "cell_type": "markdown",
   "metadata": {},
   "source": [
    "**Вывод**"
   ]
  },
  {
   "cell_type": "markdown",
   "metadata": {},
   "source": [
    "*Наибольшая взаимосвязь с оттоком клиентов связана со следующими признаками:*\n",
    "- Пропуски в балансе\n",
    "- Количество объектов в собственности\n",
    "- Последняя активность\n",
    "- Количество банковских продуктов\n",
    "- Кредитный рейтинг\n",
    "- Пол\n",
    "- Наличие кредитной карты\n",
    "- Возраст"
   ]
  },
  {
   "cell_type": "markdown",
   "metadata": {},
   "source": [
    "# 3. Проверка статистических гипотез"
   ]
  },
  {
   "cell_type": "markdown",
   "metadata": {},
   "source": [
    "**Гипотеза №1 о влиянии количества продуктов на отток клиентов банка**"
   ]
  },
  {
   "cell_type": "code",
   "execution_count": 39,
   "metadata": {},
   "outputs": [
    {
     "name": "stdout",
     "output_type": "stream",
     "text": [
      "Описание лояльных клиентов \n",
      " count    8153.000000\n",
      "mean        1.758862\n",
      "std         0.713490\n",
      "min         1.000000\n",
      "25%         1.000000\n",
      "50%         2.000000\n",
      "75%         2.000000\n",
      "max         5.000000\n",
      "Name: products, dtype: float64 \n",
      "\n",
      "Описание отточных клиентов \n",
      " count    1818.000000\n",
      "mean        2.377338\n",
      "std         0.922162\n",
      "min         1.000000\n",
      "25%         2.000000\n",
      "50%         2.000000\n",
      "75%         3.000000\n",
      "max         5.000000\n",
      "Name: products, dtype: float64 \n",
      "\n"
     ]
    }
   ],
   "source": [
    "#выделим группы\n",
    "prod_stay = df.query('churn == 0')['products']\n",
    "prod_churn = df.query('churn == 1')['products']\n",
    "\n",
    "print(\"Описание лояльных клиентов \\n\", prod_stay.describe(), \"\\n\")\n",
    "print(\"Описание отточных клиентов \\n\",prod_churn.describe(), \"\\n\")"
   ]
  },
  {
   "cell_type": "markdown",
   "metadata": {},
   "source": [
    "*Видим, что выборки имеют разный размер и средн значения. Для проведения t-testa нужно, чтобы дисперсии были близки*"
   ]
  },
  {
   "cell_type": "code",
   "execution_count": 40,
   "metadata": {},
   "outputs": [
    {
     "name": "stdout",
     "output_type": "stream",
     "text": [
      "Дисперсия лояльных клиентов: 0.5090679878818808\n",
      "Стандартное отклонение: 0.7134900054533916 \n",
      "\n",
      "Дисперсия отточных клиентов: 0.8503832221416862\n",
      "Стандартное отклонение отточныш клиентов: 0.9221622536960001 \n",
      "\n"
     ]
    }
   ],
   "source": [
    "print('Дисперсия лояльных клиентов:', np.var(prod_stay, ddof=1))\n",
    "print('Стандартное отклонение:', np.sqrt(np.var(prod_stay, ddof=1)), \"\\n\")\n",
    "\n",
    "print('Дисперсия отточных клиентов:', np.var(prod_churn, ddof=1))\n",
    "print('Стандартное отклонение отточныш клиентов:', np.sqrt(np.var(prod_churn, ddof=1)), \"\\n\")"
   ]
  },
  {
   "cell_type": "markdown",
   "metadata": {},
   "source": [
    "- *Нулевая гипотеза H0:* статистическая значимость в среднем количестве продуктов между отточными и лояльными клиентами незначительна и сделать вывод о различии нельзя\n",
    "- *Альтернативная гипотеза H1:* статистическая значимость в среднем количестве продуктов между отточными и лояльными клиентами значительна и выборки различаются.\n",
    "- Критический уровень статистической значимости alpha = 0.05\n",
    "- Если p-value < alpha, то отвергаем нулевую гипотезу."
   ]
  },
  {
   "cell_type": "code",
   "execution_count": 41,
   "metadata": {},
   "outputs": [
    {
     "data": {
      "text/html": [
       "<div>\n",
       "<style scoped>\n",
       "    .dataframe tbody tr th:only-of-type {\n",
       "        vertical-align: middle;\n",
       "    }\n",
       "\n",
       "    .dataframe tbody tr th {\n",
       "        vertical-align: top;\n",
       "    }\n",
       "\n",
       "    .dataframe thead th {\n",
       "        text-align: right;\n",
       "    }\n",
       "</style>\n",
       "<table border=\"1\" class=\"dataframe\">\n",
       "  <thead>\n",
       "    <tr style=\"text-align: right;\">\n",
       "      <th>churn</th>\n",
       "      <th>0</th>\n",
       "      <th>1</th>\n",
       "    </tr>\n",
       "    <tr>\n",
       "      <th>products</th>\n",
       "      <th></th>\n",
       "      <th></th>\n",
       "    </tr>\n",
       "  </thead>\n",
       "  <tbody>\n",
       "    <tr>\n",
       "      <th>1</th>\n",
       "      <td>3088</td>\n",
       "      <td>235</td>\n",
       "    </tr>\n",
       "    <tr>\n",
       "      <th>2</th>\n",
       "      <td>4139</td>\n",
       "      <td>978</td>\n",
       "    </tr>\n",
       "    <tr>\n",
       "      <th>3</th>\n",
       "      <td>741</td>\n",
       "      <td>297</td>\n",
       "    </tr>\n",
       "    <tr>\n",
       "      <th>4</th>\n",
       "      <td>174</td>\n",
       "      <td>300</td>\n",
       "    </tr>\n",
       "    <tr>\n",
       "      <th>5</th>\n",
       "      <td>11</td>\n",
       "      <td>8</td>\n",
       "    </tr>\n",
       "  </tbody>\n",
       "</table>\n",
       "</div>"
      ],
      "text/plain": [
       "churn        0    1\n",
       "products           \n",
       "1         3088  235\n",
       "2         4139  978\n",
       "3          741  297\n",
       "4          174  300\n",
       "5           11    8"
      ]
     },
     "execution_count": 41,
     "metadata": {},
     "output_type": "execute_result"
    }
   ],
   "source": [
    "# формируем таблицу сопряженности\n",
    "contingency_table = df.pivot_table(index='products', columns='churn', values='user', aggfunc='count')\n",
    "contingency_table"
   ]
  },
  {
   "cell_type": "code",
   "execution_count": 42,
   "metadata": {},
   "outputs": [
    {
     "name": "stdout",
     "output_type": "stream",
     "text": [
      "Pvalue chi2_contingency: 6.3282396961087e-217\n",
      "Отвергаем нулевую гипотезу: есть статистически значимая разница между отточными и лояльными клиентами\n"
     ]
    }
   ],
   "source": [
    "# выполняем тест на независимость \n",
    "\n",
    "chi_sq_stat, p_value, degree_of_freedoom, expected_values = chi2_contingency(contingency_table.values)\n",
    "alpha = 0.05\n",
    "\n",
    "#вывод P-value\n",
    "print('Pvalue chi2_contingency:', p_value)\n",
    "if p_value < alpha:\n",
    "    print('Отвергаем нулевую гипотезу: есть статистически значимая разница между отточными и лояльными клиентами')\n",
    "else:\n",
    "    print('Не получилось отвергнуть нулевую гипотезу, различий между группами не выявлено')"
   ]
  },
  {
   "cell_type": "markdown",
   "metadata": {},
   "source": [
    "**Гипотеза №2 различие среднего возраста у отточных и лояльных клиентов**"
   ]
  },
  {
   "cell_type": "code",
   "execution_count": 43,
   "metadata": {},
   "outputs": [
    {
     "name": "stdout",
     "output_type": "stream",
     "text": [
      "Описание лояльных клиентов \n",
      " count    8153.000000\n",
      "mean       43.026739\n",
      "std        12.370994\n",
      "min        18.000000\n",
      "25%        34.000000\n",
      "50%        40.000000\n",
      "75%        51.000000\n",
      "max        86.000000\n",
      "Name: age, dtype: float64 \n",
      "\n",
      "Описание отточных клиентов \n",
      " count    1818.000000\n",
      "mean       41.429593\n",
      "std        11.144754\n",
      "min        18.000000\n",
      "25%        32.000000\n",
      "50%        39.000000\n",
      "75%        52.000000\n",
      "max        75.000000\n",
      "Name: age, dtype: float64 \n",
      "\n"
     ]
    }
   ],
   "source": [
    "#выделим группы\n",
    "obj_stay = df.query('churn == 0')['age']\n",
    "obj_churn = df.query('churn == 1')['age']\n",
    "\n",
    "print(\"Описание лояльных клиентов \\n\", obj_stay.describe(), \"\\n\")\n",
    "print(\"Описание отточных клиентов \\n\",obj_churn.describe(), \"\\n\")"
   ]
  },
  {
   "cell_type": "code",
   "execution_count": 44,
   "metadata": {},
   "outputs": [
    {
     "name": "stdout",
     "output_type": "stream",
     "text": [
      "Дисперсия лояльных клиентов: 153.04148319185774\n",
      "Стандартное отклонение: 12.370993621850175 \n",
      "\n",
      "Дисперсия отточных клиентов: 124.2055519531032\n",
      "Стандартное отклонение отточных клиентов: 11.144754459076395 \n",
      "\n"
     ]
    }
   ],
   "source": [
    "print('Дисперсия лояльных клиентов:', np.var(obj_stay, ddof=1))\n",
    "print('Стандартное отклонение:', np.sqrt(np.var(obj_stay, ddof=1)), \"\\n\")\n",
    "\n",
    "print('Дисперсия отточных клиентов:', np.var(obj_churn, ddof=1))\n",
    "print('Стандартное отклонение отточных клиентов:', np.sqrt(np.var(obj_churn, ddof=1)), \"\\n\")"
   ]
  },
  {
   "cell_type": "markdown",
   "metadata": {},
   "source": [
    "*Видим, что значения дисперсий и стандартного отклонения различаются. Здесь применим t-критерий Уэлча.*"
   ]
  },
  {
   "cell_type": "markdown",
   "metadata": {},
   "source": [
    "- *Нулевая гипотеза H0:* статистическая значимость в среднем возрасте между отточными и лояльными клиентами незначительна и сделать вывод о различии нельзя\n",
    "- *Альтернативная гипотеза H1:* статистическая значимость в среднем возрасте между отточными и лояльными клиентами значительна и выборки различаются.\n",
    "- Критический уровень статистической значимости alpha = 0.05\n",
    "- Если p-value < alpha, то отвергаем нулевую гипотезу."
   ]
  },
  {
   "cell_type": "code",
   "execution_count": 45,
   "metadata": {},
   "outputs": [
    {
     "name": "stdout",
     "output_type": "stream",
     "text": [
      "P-value: 6.740242116187057e-08\n",
      "Отвергаем нулевую гипотезу: есть статистически значимая разница между отточными и лояльными клиентами\n"
     ]
    }
   ],
   "source": [
    "#Критический уровень статистической значимости \n",
    "alpha = 0.05\n",
    "#результаты стат теста\n",
    "results = stats.ttest_ind(obj_stay, obj_churn, equal_var=False)\n",
    "\n",
    "#вывод P-value\n",
    "print('P-value:',results.pvalue)\n",
    "if results.pvalue < alpha:\n",
    "    print('Отвергаем нулевую гипотезу: есть статистически значимая разница между отточными и лояльными клиентами')\n",
    "else:\n",
    "    print('Не получилось отвергнуть нулевую гипотезу, различий между группами не выявлено')"
   ]
  },
  {
   "cell_type": "markdown",
   "metadata": {},
   "source": [
    "**Гипотеза №3 различие среднего кредитного рейтинга у отточных и лояльных клиентов**"
   ]
  },
  {
   "cell_type": "code",
   "execution_count": 46,
   "metadata": {},
   "outputs": [
    {
     "name": "stdout",
     "output_type": "stream",
     "text": [
      "Описание лояльных клиентов \n",
      " count    8153.000000\n",
      "mean      845.414326\n",
      "std        67.988487\n",
      "min       642.000000\n",
      "25%       796.000000\n",
      "50%       848.000000\n",
      "75%       900.000000\n",
      "max      1000.000000\n",
      "Name: score, dtype: float64 \n",
      "\n",
      "Описание отточных клиентов \n",
      " count    1818.000000\n",
      "mean      863.361936\n",
      "std        49.580696\n",
      "min       706.000000\n",
      "25%       828.000000\n",
      "50%       866.000000\n",
      "75%       898.000000\n",
      "max      1000.000000\n",
      "Name: score, dtype: float64 \n",
      "\n"
     ]
    }
   ],
   "source": [
    "#выделим группы\n",
    "df_stay = df.query('churn == 0')['score']\n",
    "df_churn = df.query('churn == 1')['score']\n",
    "\n",
    "print(\"Описание лояльных клиентов \\n\", df_stay.describe(), \"\\n\")\n",
    "print(\"Описание отточных клиентов \\n\",df_churn.describe(), \"\\n\")"
   ]
  },
  {
   "cell_type": "markdown",
   "metadata": {},
   "source": [
    "- *Нулевая гипотеза H0:* статистическая значимость в среднем кредитном рейтинге между отточными и лояльными клиентами незначительна и сделать вывод о различии нельзя\n",
    "- *Альтернативная гипотеза H1:* статистическая значимость в среднем кредитном рейтинг между отточными и лояльными клиентами значительна и выборки различаются.\n",
    "- Критический уровень статистической значимости alpha = 0,05\n",
    "- Если p-value < alpha, то отвергаем нулевую гипотезу."
   ]
  },
  {
   "cell_type": "code",
   "execution_count": 47,
   "metadata": {},
   "outputs": [
    {
     "name": "stdout",
     "output_type": "stream",
     "text": [
      "P-value: 1.5549312615343554e-37\n",
      "Отвергаем нулевую гипотезу: есть статистически значимая разница между отточными и лояльными клиентами\n"
     ]
    }
   ],
   "source": [
    "#Критический уровень статистической значимости \n",
    "alpha = alpha\n",
    "\n",
    "results = stats.ttest_ind(df_stay, df_churn, equal_var=False)\n",
    "\n",
    "#вывод P-value\n",
    "print('P-value:',results.pvalue)\n",
    "\n",
    "if results.pvalue < alpha:\n",
    "    print('Отвергаем нулевую гипотезу: есть статистически значимая разница между отточными и лояльными клиентами')\n",
    "else:\n",
    "    print('Не получилось отвергнуть нулевую гипотезу, различий между группами не выявлено')"
   ]
  },
  {
   "cell_type": "markdown",
   "metadata": {},
   "source": [
    "**Гипотеза №4 различие среднего возраста у клиентов с 1 продуктом и 2 продуктами**"
   ]
  },
  {
   "cell_type": "code",
   "execution_count": 48,
   "metadata": {},
   "outputs": [
    {
     "name": "stdout",
     "output_type": "stream",
     "text": [
      "Описание клиентов с 1 продуктом\n",
      " count    3323.000000\n",
      "mean       42.196208\n",
      "std        11.986899\n",
      "min        18.000000\n",
      "25%        33.000000\n",
      "50%        40.000000\n",
      "75%        49.500000\n",
      "max        86.000000\n",
      "Name: age, dtype: float64 \n",
      "\n",
      "Описание отточных с 2 продуктоми \n",
      " count    5117.000000\n",
      "mean       42.778190\n",
      "std        12.150889\n",
      "min        18.000000\n",
      "25%        33.000000\n",
      "50%        40.000000\n",
      "75%        52.000000\n",
      "max        84.000000\n",
      "Name: age, dtype: float64 \n",
      "\n"
     ]
    }
   ],
   "source": [
    "#выделим группы\n",
    "one_prod_age = df.query('products == 1')['age']\n",
    "two_prod_age = df.query('products == 2')['age']\n",
    "\n",
    "print(\"Описание клиентов с 1 продуктом\\n\", one_prod_age.describe(), \"\\n\")\n",
    "print(\"Описание отточных с 2 продуктоми \\n\",two_prod_age.describe(), \"\\n\")"
   ]
  },
  {
   "cell_type": "code",
   "execution_count": 49,
   "metadata": {},
   "outputs": [
    {
     "name": "stdout",
     "output_type": "stream",
     "text": [
      "Дисперсия клиентов с 1 продуктом: 143.6857532281444\n",
      "Стандартное отклонение: 11.986899233252291 \n",
      "\n",
      "Дисперсия клиентов с 2 продуктоми: 147.64410595046945\n",
      "Стандартное отклонение: 12.15088910123327 \n",
      "\n"
     ]
    }
   ],
   "source": [
    "print('Дисперсия клиентов с 1 продуктом:', np.var(one_prod_age, ddof=1))\n",
    "print('Стандартное отклонение:', np.sqrt(np.var(one_prod_age, ddof=1)), \"\\n\")\n",
    "\n",
    "print('Дисперсия клиентов с 2 продуктоми:', np.var(two_prod_age, ddof=1))\n",
    "print('Стандартное отклонение:', np.sqrt(np.var(two_prod_age, ddof=1)), \"\\n\")"
   ]
  },
  {
   "cell_type": "markdown",
   "metadata": {},
   "source": [
    "*Видим, что выборки различаются по количеству, дисперсия и стандартное отклонение близки. Здесь также применим t-критерий Уэлча.*"
   ]
  },
  {
   "cell_type": "code",
   "execution_count": 50,
   "metadata": {},
   "outputs": [
    {
     "name": "stdout",
     "output_type": "stream",
     "text": [
      "Скорректированный критерий alpha: 0.025320565519103666\n"
     ]
    }
   ],
   "source": [
    "# у нас второе измерение по колонке age, поэтому корректируем коэффициент alpha\n",
    "alpha_2 = 1 - (1 - 0.05)**(1 / 2)\n",
    "print('Скорректированный критерий alpha:',alpha_2)"
   ]
  },
  {
   "cell_type": "markdown",
   "metadata": {},
   "source": [
    "*Формулируем гипотезы*"
   ]
  },
  {
   "cell_type": "markdown",
   "metadata": {},
   "source": [
    "- *Нулевая гипотеза H0:* статистическая значимость в среднем возрасте между клиентами с одним продуктом и клиентами с двумя продуктами незначительна и сделать вывод о различии нельзя\n",
    "- *Альтернативная гипотеза H1:* статистическая значимость в среднем возрасте между клиентами с одним продуктом и клиентами с двумя продуктами значительна и выборки различаются.\n",
    "- Критический уровень статистической значимости alpha = alpha_2 скорректированный по методу Шидака\n",
    "- Если p-value < alpha, то отвергаем нулевую гипотезу."
   ]
  },
  {
   "cell_type": "code",
   "execution_count": 51,
   "metadata": {},
   "outputs": [
    {
     "name": "stdout",
     "output_type": "stream",
     "text": [
      "P-value: 0.030228548932668114\n",
      "Не получилось отвергнуть нулевую гипотезу, различий между группами не выявлено\n"
     ]
    }
   ],
   "source": [
    "#Критический уровень статистической значимости \n",
    "alpha = alpha_2\n",
    "\n",
    "results = stats.ttest_ind(one_prod_age, two_prod_age, equal_var=False)\n",
    "\n",
    "#вывод P-value\n",
    "print('P-value:',results.pvalue)\n",
    "\n",
    "if results.pvalue < alpha_2:\n",
    "    print('Отвергаем нулевую гипотезу: есть статистически значимая разница между отточными и лояльными клиентами')\n",
    "else:\n",
    "    print('Не получилось отвергнуть нулевую гипотезу, различий между группами не выявлено')"
   ]
  },
  {
   "cell_type": "markdown",
   "metadata": {},
   "source": [
    "**Вывод**\n",
    "\n",
    "*Стат тесты подтвердили, что есть статистически значимая разница у лояльных и отточных клиентов в зависимости от параметров:*\n",
    "\n",
    "- количества продуктов банка,\n",
    "- возраста клентов,\n",
    "- кредитного рейтинга.\n",
    "\n",
    "\n",
    "*Статистически показано, что нет разницы в выборках:*\n",
    "\n",
    "- в возрасте клиентов с одним продуктом и клиентов с двумя продуктами."
   ]
  },
  {
   "cell_type": "markdown",
   "metadata": {},
   "source": [
    "# 4. Промежуточный итог. Выбор показателей, по которым строить сегменты."
   ]
  },
  {
   "cell_type": "markdown",
   "metadata": {},
   "source": [
    "*Наибольшая корреляция была выявлена в следующих признаках:*\n",
    "\n",
    "- Количество объектов в собственности\n",
    "- Последняя активность\n",
    "- Количество банковских продуктов\n",
    "- Кредитный рейтинг\n",
    "- Пол\n",
    "- Наличие кредитной карты\n",
    "- Возраст"
   ]
  },
  {
   "cell_type": "markdown",
   "metadata": {},
   "source": [
    "**Диапазон ключевых показателей с корреляцией по оттоку клиентов**"
   ]
  },
  {
   "cell_type": "code",
   "execution_count": 52,
   "metadata": {},
   "outputs": [
    {
     "data": {
      "text/html": [
       "<div>\n",
       "<style scoped>\n",
       "    .dataframe tbody tr th:only-of-type {\n",
       "        vertical-align: middle;\n",
       "    }\n",
       "\n",
       "    .dataframe tbody tr th {\n",
       "        vertical-align: top;\n",
       "    }\n",
       "\n",
       "    .dataframe thead th {\n",
       "        text-align: right;\n",
       "    }\n",
       "</style>\n",
       "<table border=\"1\" class=\"dataframe\">\n",
       "  <thead>\n",
       "    <tr style=\"text-align: right;\">\n",
       "      <th></th>\n",
       "      <th>Признак</th>\n",
       "      <th>Лояльный клиент</th>\n",
       "      <th>Отточный клиент</th>\n",
       "    </tr>\n",
       "  </thead>\n",
       "  <tbody>\n",
       "    <tr>\n",
       "      <th>0</th>\n",
       "      <td>Объекты</td>\n",
       "      <td>0-2</td>\n",
       "      <td>3-9</td>\n",
       "    </tr>\n",
       "    <tr>\n",
       "      <th>1</th>\n",
       "      <td>Продукты банка</td>\n",
       "      <td>1</td>\n",
       "      <td>2-4</td>\n",
       "    </tr>\n",
       "    <tr>\n",
       "      <th>2</th>\n",
       "      <td>Последняя активность</td>\n",
       "      <td>нет</td>\n",
       "      <td>да</td>\n",
       "    </tr>\n",
       "    <tr>\n",
       "      <th>3</th>\n",
       "      <td>Кредитный рейтинг</td>\n",
       "      <td>600-820 и 940-1000</td>\n",
       "      <td>820-940</td>\n",
       "    </tr>\n",
       "    <tr>\n",
       "      <th>4</th>\n",
       "      <td>Пол</td>\n",
       "      <td>Женщины</td>\n",
       "      <td>Мужчины</td>\n",
       "    </tr>\n",
       "    <tr>\n",
       "      <th>5</th>\n",
       "      <td>Кредитка</td>\n",
       "      <td>да</td>\n",
       "      <td>нет</td>\n",
       "    </tr>\n",
       "    <tr>\n",
       "      <th>6</th>\n",
       "      <td>Возраст</td>\n",
       "      <td>18-21, 36-50, 61+</td>\n",
       "      <td>25-35, 50-60</td>\n",
       "    </tr>\n",
       "  </tbody>\n",
       "</table>\n",
       "</div>"
      ],
      "text/plain": [
       "                Признак     Лояльный клиент Отточный клиент\n",
       "0               Объекты                 0-2             3-9\n",
       "1        Продукты банка                   1             2-4\n",
       "2  Последняя активность                 нет              да\n",
       "3     Кредитный рейтинг  600-820 и 940-1000         820-940\n",
       "4                   Пол             Женщины         Мужчины\n",
       "5              Кредитка                  да             нет\n",
       "6               Возраст   18-21, 36-50, 61+    25-35, 50-60"
      ]
     },
     "execution_count": 52,
     "metadata": {},
     "output_type": "execute_result"
    }
   ],
   "source": [
    "comparing.iloc[:7]"
   ]
  },
  {
   "cell_type": "markdown",
   "metadata": {},
   "source": [
    "# 5. Сегментация на основе выделенных показателей."
   ]
  },
  {
   "cell_type": "markdown",
   "metadata": {},
   "source": [
    "**Сегмент 1**\n",
    "\n",
    "- Кредитный рейтинг 600-820 (интервал лояльного клиента)\n",
    "- Возраст 36-50 (интервал лояльного клиента)\n",
    "- Нет кредитной карты credit_card = 0 (отточный признак)\n",
    "- средний возраст 42\n",
    "- мужчин 39%, женщин 61%\n",
    "- уровень оттока 7,7%\n",
    "- средняя зарплата 135 т.р."
   ]
  },
  {
   "cell_type": "code",
   "execution_count": 53,
   "metadata": {},
   "outputs": [],
   "source": [
    "#запишем ключевые параметры в список\n",
    "col = ['user','score','age','equity','products','credit_card','last_activity','женщины','мужчины','churn','salary','balance']"
   ]
  },
  {
   "cell_type": "code",
   "execution_count": 54,
   "metadata": {},
   "outputs": [
    {
     "data": {
      "text/html": [
       "<div>\n",
       "<style scoped>\n",
       "    .dataframe tbody tr th:only-of-type {\n",
       "        vertical-align: middle;\n",
       "    }\n",
       "\n",
       "    .dataframe tbody tr th {\n",
       "        vertical-align: top;\n",
       "    }\n",
       "\n",
       "    .dataframe thead th {\n",
       "        text-align: right;\n",
       "    }\n",
       "</style>\n",
       "<table border=\"1\" class=\"dataframe\">\n",
       "  <thead>\n",
       "    <tr style=\"text-align: right;\">\n",
       "      <th></th>\n",
       "      <th>user</th>\n",
       "      <th>score</th>\n",
       "      <th>age</th>\n",
       "      <th>equity</th>\n",
       "      <th>products</th>\n",
       "      <th>credit_card</th>\n",
       "      <th>last_activity</th>\n",
       "      <th>женщины</th>\n",
       "      <th>мужчины</th>\n",
       "      <th>churn</th>\n",
       "      <th>salary</th>\n",
       "      <th>balance</th>\n",
       "    </tr>\n",
       "  </thead>\n",
       "  <tbody>\n",
       "    <tr>\n",
       "      <th>count</th>\n",
       "      <td>360.000000</td>\n",
       "      <td>360.000000</td>\n",
       "      <td>360.000000</td>\n",
       "      <td>360.000000</td>\n",
       "      <td>360.000000</td>\n",
       "      <td>360.0</td>\n",
       "      <td>360.000000</td>\n",
       "      <td>360.000000</td>\n",
       "      <td>360.000000</td>\n",
       "      <td>360.000000</td>\n",
       "      <td>360.000000</td>\n",
       "      <td>357.000000</td>\n",
       "    </tr>\n",
       "    <tr>\n",
       "      <th>mean</th>\n",
       "      <td>170834.261111</td>\n",
       "      <td>785.733333</td>\n",
       "      <td>42.158333</td>\n",
       "      <td>2.927778</td>\n",
       "      <td>2.230556</td>\n",
       "      <td>0.0</td>\n",
       "      <td>0.544444</td>\n",
       "      <td>0.608333</td>\n",
       "      <td>0.391667</td>\n",
       "      <td>0.077778</td>\n",
       "      <td>134399.390361</td>\n",
       "      <td>585916.911373</td>\n",
       "    </tr>\n",
       "    <tr>\n",
       "      <th>50%</th>\n",
       "      <td>171601.000000</td>\n",
       "      <td>787.500000</td>\n",
       "      <td>41.500000</td>\n",
       "      <td>3.000000</td>\n",
       "      <td>2.000000</td>\n",
       "      <td>0.0</td>\n",
       "      <td>1.000000</td>\n",
       "      <td>1.000000</td>\n",
       "      <td>0.000000</td>\n",
       "      <td>0.000000</td>\n",
       "      <td>129179.815000</td>\n",
       "      <td>449414.280000</td>\n",
       "    </tr>\n",
       "  </tbody>\n",
       "</table>\n",
       "</div>"
      ],
      "text/plain": [
       "                user       score         age      equity    products  \\\n",
       "count     360.000000  360.000000  360.000000  360.000000  360.000000   \n",
       "mean   170834.261111  785.733333   42.158333    2.927778    2.230556   \n",
       "50%    171601.000000  787.500000   41.500000    3.000000    2.000000   \n",
       "\n",
       "       credit_card  last_activity     женщины     мужчины       churn  \\\n",
       "count        360.0     360.000000  360.000000  360.000000  360.000000   \n",
       "mean           0.0       0.544444    0.608333    0.391667    0.077778   \n",
       "50%            0.0       1.000000    1.000000    0.000000    0.000000   \n",
       "\n",
       "              salary        balance  \n",
       "count     360.000000     357.000000  \n",
       "mean   134399.390361  585916.911373  \n",
       "50%    129179.815000  449414.280000  "
      ]
     },
     "execution_count": 54,
     "metadata": {},
     "output_type": "execute_result"
    }
   ],
   "source": [
    "#Сделаем срез \n",
    "seg_one = df.query(\" score < 820 and age >= 36 and age <= 50 and credit_card==0\")\n",
    "\n",
    "#выведем часть описания данных: размер выборки, среднюю и медиану\n",
    "seg_one[col].describe().iloc[[0,1,5]]"
   ]
  },
  {
   "cell_type": "markdown",
   "metadata": {},
   "source": [
    "**Рекомендация по сегменту 1**\n",
    "\n",
    "- Предложить кредитную карту с льготным периодом, это позволит увеличить расходы и повысить лояльность."
   ]
  },
  {
   "cell_type": "markdown",
   "metadata": {},
   "source": [
    "**Сегмент 2**\n",
    "\n",
    "- Кредитный рейтинг 940-1000 (интервал лояльного клиента)\n",
    "- Количество объектов >2 (интервал отточного клиента)\n",
    "- средний возраст 40,8\n",
    "- мужчин 55%, женщин 45%\n",
    "- уровень оттока 25%\n",
    "- кредитка есть у 61%\n",
    "- средняя зарплата 279 т.р."
   ]
  },
  {
   "cell_type": "code",
   "execution_count": 55,
   "metadata": {},
   "outputs": [
    {
     "data": {
      "text/html": [
       "<div>\n",
       "<style scoped>\n",
       "    .dataframe tbody tr th:only-of-type {\n",
       "        vertical-align: middle;\n",
       "    }\n",
       "\n",
       "    .dataframe tbody tr th {\n",
       "        vertical-align: top;\n",
       "    }\n",
       "\n",
       "    .dataframe thead th {\n",
       "        text-align: right;\n",
       "    }\n",
       "</style>\n",
       "<table border=\"1\" class=\"dataframe\">\n",
       "  <thead>\n",
       "    <tr style=\"text-align: right;\">\n",
       "      <th></th>\n",
       "      <th>user</th>\n",
       "      <th>score</th>\n",
       "      <th>age</th>\n",
       "      <th>equity</th>\n",
       "      <th>products</th>\n",
       "      <th>credit_card</th>\n",
       "      <th>last_activity</th>\n",
       "      <th>женщины</th>\n",
       "      <th>мужчины</th>\n",
       "      <th>churn</th>\n",
       "      <th>salary</th>\n",
       "      <th>balance</th>\n",
       "    </tr>\n",
       "  </thead>\n",
       "  <tbody>\n",
       "    <tr>\n",
       "      <th>count</th>\n",
       "      <td>294.00000</td>\n",
       "      <td>294.000000</td>\n",
       "      <td>294.000000</td>\n",
       "      <td>294.000000</td>\n",
       "      <td>294.000000</td>\n",
       "      <td>294.000000</td>\n",
       "      <td>294.000000</td>\n",
       "      <td>294.000000</td>\n",
       "      <td>294.000000</td>\n",
       "      <td>294.000000</td>\n",
       "      <td>294.000000</td>\n",
       "      <td>2.940000e+02</td>\n",
       "    </tr>\n",
       "    <tr>\n",
       "      <th>mean</th>\n",
       "      <td>174309.02381</td>\n",
       "      <td>963.258503</td>\n",
       "      <td>43.741497</td>\n",
       "      <td>4.306122</td>\n",
       "      <td>2.221088</td>\n",
       "      <td>0.615646</td>\n",
       "      <td>0.513605</td>\n",
       "      <td>0.445578</td>\n",
       "      <td>0.554422</td>\n",
       "      <td>0.255102</td>\n",
       "      <td>279607.180714</td>\n",
       "      <td>3.093526e+06</td>\n",
       "    </tr>\n",
       "    <tr>\n",
       "      <th>50%</th>\n",
       "      <td>178311.50000</td>\n",
       "      <td>961.000000</td>\n",
       "      <td>41.000000</td>\n",
       "      <td>4.000000</td>\n",
       "      <td>2.000000</td>\n",
       "      <td>1.000000</td>\n",
       "      <td>1.000000</td>\n",
       "      <td>0.000000</td>\n",
       "      <td>1.000000</td>\n",
       "      <td>0.000000</td>\n",
       "      <td>184942.835000</td>\n",
       "      <td>1.725983e+06</td>\n",
       "    </tr>\n",
       "  </tbody>\n",
       "</table>\n",
       "</div>"
      ],
      "text/plain": [
       "               user       score         age      equity    products  \\\n",
       "count     294.00000  294.000000  294.000000  294.000000  294.000000   \n",
       "mean   174309.02381  963.258503   43.741497    4.306122    2.221088   \n",
       "50%    178311.50000  961.000000   41.000000    4.000000    2.000000   \n",
       "\n",
       "       credit_card  last_activity     женщины     мужчины       churn  \\\n",
       "count   294.000000     294.000000  294.000000  294.000000  294.000000   \n",
       "mean      0.615646       0.513605    0.445578    0.554422    0.255102   \n",
       "50%       1.000000       1.000000    0.000000    1.000000    0.000000   \n",
       "\n",
       "              salary       balance  \n",
       "count     294.000000  2.940000e+02  \n",
       "mean   279607.180714  3.093526e+06  \n",
       "50%    184942.835000  1.725983e+06  "
      ]
     },
     "execution_count": 55,
     "metadata": {},
     "output_type": "execute_result"
    }
   ],
   "source": [
    "#Сделаем срез \n",
    "seg_two = df.query(\"score >= 940 and equity > 2\")\n",
    "\n",
    "#выведем часть описания данных: размер выборки, среднюю и медиану\n",
    "seg_two[col].describe().iloc[[0,1,5]]"
   ]
  },
  {
   "cell_type": "markdown",
   "metadata": {},
   "source": [
    "**Рекомендация по сегменту 2**\n",
    "\n",
    "- Предложить повышенный кэшбэк по кредитной карте на путешествия (высокая зарплата) и бронирование отелей.\n",
    "- Предложить программу страхования объектов недвижимости."
   ]
  },
  {
   "cell_type": "markdown",
   "metadata": {},
   "source": [
    "**Сегмент 3**\n",
    "\n",
    "- Кредитный рейтинг 820-940 (интервал отточного клиента)\n",
    "- Возраст 25-35 (интервал отточного клиента)\n",
    "- Количество объектов >4 (интервал отточного клиента)\n",
    "- Пол:мужчина (интервал отточного клиента)\n",
    "- уровень оттока 54%\n",
    "- кредитка есть у 64%\n",
    "- средняя зарплата 132 т.р."
   ]
  },
  {
   "cell_type": "code",
   "execution_count": 56,
   "metadata": {},
   "outputs": [
    {
     "data": {
      "text/html": [
       "<div>\n",
       "<style scoped>\n",
       "    .dataframe tbody tr th:only-of-type {\n",
       "        vertical-align: middle;\n",
       "    }\n",
       "\n",
       "    .dataframe tbody tr th {\n",
       "        vertical-align: top;\n",
       "    }\n",
       "\n",
       "    .dataframe thead th {\n",
       "        text-align: right;\n",
       "    }\n",
       "</style>\n",
       "<table border=\"1\" class=\"dataframe\">\n",
       "  <thead>\n",
       "    <tr style=\"text-align: right;\">\n",
       "      <th></th>\n",
       "      <th>user</th>\n",
       "      <th>score</th>\n",
       "      <th>age</th>\n",
       "      <th>equity</th>\n",
       "      <th>products</th>\n",
       "      <th>credit_card</th>\n",
       "      <th>last_activity</th>\n",
       "      <th>женщины</th>\n",
       "      <th>мужчины</th>\n",
       "      <th>churn</th>\n",
       "      <th>salary</th>\n",
       "      <th>balance</th>\n",
       "    </tr>\n",
       "  </thead>\n",
       "  <tbody>\n",
       "    <tr>\n",
       "      <th>count</th>\n",
       "      <td>300.000000</td>\n",
       "      <td>300.000000</td>\n",
       "      <td>300.00</td>\n",
       "      <td>300.00</td>\n",
       "      <td>300.000000</td>\n",
       "      <td>300.000000</td>\n",
       "      <td>300.00</td>\n",
       "      <td>300.0</td>\n",
       "      <td>300.0</td>\n",
       "      <td>300.000000</td>\n",
       "      <td>300.000000</td>\n",
       "      <td>300.000000</td>\n",
       "    </tr>\n",
       "    <tr>\n",
       "      <th>mean</th>\n",
       "      <td>171279.876667</td>\n",
       "      <td>880.493333</td>\n",
       "      <td>30.78</td>\n",
       "      <td>5.18</td>\n",
       "      <td>2.283333</td>\n",
       "      <td>0.646667</td>\n",
       "      <td>0.58</td>\n",
       "      <td>0.0</td>\n",
       "      <td>1.0</td>\n",
       "      <td>0.546667</td>\n",
       "      <td>132528.819433</td>\n",
       "      <td>891128.063833</td>\n",
       "    </tr>\n",
       "    <tr>\n",
       "      <th>50%</th>\n",
       "      <td>171120.500000</td>\n",
       "      <td>882.500000</td>\n",
       "      <td>31.00</td>\n",
       "      <td>5.00</td>\n",
       "      <td>2.000000</td>\n",
       "      <td>1.000000</td>\n",
       "      <td>1.00</td>\n",
       "      <td>0.0</td>\n",
       "      <td>1.0</td>\n",
       "      <td>1.000000</td>\n",
       "      <td>100397.510000</td>\n",
       "      <td>701752.935000</td>\n",
       "    </tr>\n",
       "  </tbody>\n",
       "</table>\n",
       "</div>"
      ],
      "text/plain": [
       "                user       score     age  equity    products  credit_card  \\\n",
       "count     300.000000  300.000000  300.00  300.00  300.000000   300.000000   \n",
       "mean   171279.876667  880.493333   30.78    5.18    2.283333     0.646667   \n",
       "50%    171120.500000  882.500000   31.00    5.00    2.000000     1.000000   \n",
       "\n",
       "       last_activity  женщины  мужчины       churn         salary  \\\n",
       "count         300.00    300.0    300.0  300.000000     300.000000   \n",
       "mean            0.58      0.0      1.0    0.546667  132528.819433   \n",
       "50%             1.00      0.0      1.0    1.000000  100397.510000   \n",
       "\n",
       "             balance  \n",
       "count     300.000000  \n",
       "mean   891128.063833  \n",
       "50%    701752.935000  "
      ]
     },
     "execution_count": 56,
     "metadata": {},
     "output_type": "execute_result"
    }
   ],
   "source": [
    "#Сделаем срез \n",
    "seg_three = df.query(\" score > 820 and score < 940 and age >= 25 and age <= 35 and equity > 4 and мужчины == 1\")\n",
    "\n",
    "#выведем часть описания данных: размер выборки, среднюю и медиану\n",
    "seg_three[col].describe().iloc[[0,1,5]]"
   ]
  },
  {
   "cell_type": "markdown",
   "metadata": {},
   "source": [
    "**Рекомендация по сегменту 3**\n",
    "\n",
    "- Предложить повышенный кэшбэк по категориям для мужчин: спорт, рестораны, билеты.\n",
    "- Предложить программу страхования объектов недвижимости."
   ]
  },
  {
   "cell_type": "markdown",
   "metadata": {},
   "source": [
    "# 6. Выводы и рекомендации для заказчика. "
   ]
  },
  {
   "cell_type": "markdown",
   "metadata": {},
   "source": [
    "**1. Изучено влияние параметров клиентов на их отток. Наибольшая взаимосвязь была выявлена в следующих признаках:**\n",
    "    \n",
    "- Количество объектов в собственности\n",
    "- Последняя активность\n",
    "- Количество банковских продуктов\n",
    "- Кредитный рейтинг\n",
    "- Пол\n",
    "- Наличие кредитной карты\n",
    "- Возраст"
   ]
  },
  {
   "cell_type": "markdown",
   "metadata": {},
   "source": [
    "**2. Были выделены интервалы для лояльных и отточных клиентов**"
   ]
  },
  {
   "cell_type": "code",
   "execution_count": 57,
   "metadata": {},
   "outputs": [
    {
     "data": {
      "text/html": [
       "<div>\n",
       "<style scoped>\n",
       "    .dataframe tbody tr th:only-of-type {\n",
       "        vertical-align: middle;\n",
       "    }\n",
       "\n",
       "    .dataframe tbody tr th {\n",
       "        vertical-align: top;\n",
       "    }\n",
       "\n",
       "    .dataframe thead th {\n",
       "        text-align: right;\n",
       "    }\n",
       "</style>\n",
       "<table border=\"1\" class=\"dataframe\">\n",
       "  <thead>\n",
       "    <tr style=\"text-align: right;\">\n",
       "      <th></th>\n",
       "      <th>Признак</th>\n",
       "      <th>Лояльный клиент</th>\n",
       "      <th>Отточный клиент</th>\n",
       "    </tr>\n",
       "  </thead>\n",
       "  <tbody>\n",
       "    <tr>\n",
       "      <th>0</th>\n",
       "      <td>Объекты</td>\n",
       "      <td>0-2</td>\n",
       "      <td>3-9</td>\n",
       "    </tr>\n",
       "    <tr>\n",
       "      <th>1</th>\n",
       "      <td>Продукты банка</td>\n",
       "      <td>1</td>\n",
       "      <td>2-4</td>\n",
       "    </tr>\n",
       "    <tr>\n",
       "      <th>2</th>\n",
       "      <td>Последняя активность</td>\n",
       "      <td>нет</td>\n",
       "      <td>да</td>\n",
       "    </tr>\n",
       "    <tr>\n",
       "      <th>3</th>\n",
       "      <td>Кредитный рейтинг</td>\n",
       "      <td>600-820 и 940-1000</td>\n",
       "      <td>820-940</td>\n",
       "    </tr>\n",
       "    <tr>\n",
       "      <th>4</th>\n",
       "      <td>Пол</td>\n",
       "      <td>Женщины</td>\n",
       "      <td>Мужчины</td>\n",
       "    </tr>\n",
       "    <tr>\n",
       "      <th>5</th>\n",
       "      <td>Кредитка</td>\n",
       "      <td>да</td>\n",
       "      <td>нет</td>\n",
       "    </tr>\n",
       "    <tr>\n",
       "      <th>6</th>\n",
       "      <td>Возраст</td>\n",
       "      <td>18-21, 36-50, 61+</td>\n",
       "      <td>25-35, 50-60</td>\n",
       "    </tr>\n",
       "  </tbody>\n",
       "</table>\n",
       "</div>"
      ],
      "text/plain": [
       "                Признак     Лояльный клиент Отточный клиент\n",
       "0               Объекты                 0-2             3-9\n",
       "1        Продукты банка                   1             2-4\n",
       "2  Последняя активность                 нет              да\n",
       "3     Кредитный рейтинг  600-820 и 940-1000         820-940\n",
       "4                   Пол             Женщины         Мужчины\n",
       "5              Кредитка                  да             нет\n",
       "6               Возраст   18-21, 36-50, 61+    25-35, 50-60"
      ]
     },
     "execution_count": 57,
     "metadata": {},
     "output_type": "execute_result"
    }
   ],
   "source": [
    "comparing.iloc[:7]"
   ]
  },
  {
   "cell_type": "markdown",
   "metadata": {},
   "source": [
    "**3. Стат тесты подтвердили, что есть статистически значимая разница у лояльных и отточных клиентов в зависимости от ключевых признаков:**\n",
    "- количества банковских продуктов,\n",
    "- возраста клентов,\n",
    "- кредитного рейтинга."
   ]
  },
  {
   "cell_type": "markdown",
   "metadata": {},
   "source": [
    "**4. Клиенты были разделены на 3 сегмента и каждому дана рекомендация**"
   ]
  },
  {
   "cell_type": "markdown",
   "metadata": {},
   "source": [
    "**Сегмент 1**\n",
    "\n",
    "- Кредитный рейтинг 600-820 (интервал лояльного клиента)\n",
    "- Возраст 36-50 (интервал лояльного клиента)\n",
    "- Нет кредитной карты credit_card = 0 (отточный признак)\n",
    "- средний возраст 42\n",
    "- мужчин 39%, женщин 61%\n",
    "- уровень оттока 7,7%\n",
    "- средняя зарплата 135 т.р.\n",
    "\n",
    "**Рекомендация по сегменту 1**\n",
    "\n",
    "- Предложить кредитную карту с льготным периодом, это позволит увеличить расходы и повысить лояльность."
   ]
  },
  {
   "cell_type": "markdown",
   "metadata": {},
   "source": [
    "###### **Сегмент 2**\n",
    "\n",
    "- Кредитный рейтинг 940-1000 (интервал лояльного клиента)\n",
    "- Количество объектов >2 (интервал отточного клиента)\n",
    "- средний возраст 40,8\n",
    "- мужчин 55%, женщин 45%\n",
    "- уровень оттока 25%\n",
    "- кредитка есть у 61%\n",
    "- средняя зарплата 279 т.р.\n",
    "\n",
    "**Рекомендация по сегменту 2**\n",
    "\n",
    "- Предложить повышенный кэшбэк по кредитной карте на путешествия (высокая зарплата) и бронирование отелей.\n",
    "- Предложить программу страхования объектов недвижимости."
   ]
  },
  {
   "cell_type": "markdown",
   "metadata": {},
   "source": [
    "**Сегмент 3**\n",
    "\n",
    "- Кредитный рейтинг 820-940 (интервал отточного клиента)\n",
    "- Возраст 25-35 (интервал отточного клиента)\n",
    "- Количество объектов >4 (интервал отточного клиента)\n",
    "- Пол:мужчина (интервал отточного клиента)\n",
    "- уровень оттока 54%\n",
    "- кредитка есть у 64%\n",
    "- средняя зарплата 132 т.р.\n",
    "\n",
    "**Рекомендация по сегменту 3**\n",
    "\n",
    "- Предложить повышенный кэшбэк по категориям для мужчин: спорт, рестораны, билеты.\n",
    "- Предложить программу страхования объектов недвижимости."
   ]
  },
  {
   "cell_type": "markdown",
   "metadata": {},
   "source": [
    "**Презентация для отдела маркетинга**"
   ]
  },
  {
   "cell_type": "markdown",
   "metadata": {},
   "source": [
    "https://disk.yandex.ru/i/eAXAkwOIkaG4Tw"
   ]
  },
  {
   "cell_type": "markdown",
   "metadata": {},
   "source": [
    "**Ссылка на дашборд**"
   ]
  },
  {
   "cell_type": "markdown",
   "metadata": {},
   "source": [
    "https://public.tableau.com/app/profile/nick.mose/viz/bank_churn_mnn_11aug23/Dashboard1?publish=yes"
   ]
  }
 ],
 "metadata": {
  "ExecuteTimeLog": [
   {
    "duration": 405,
    "start_time": "2023-08-04T12:15:50.787Z"
   },
   {
    "duration": 124,
    "start_time": "2023-08-04T12:15:52.242Z"
   },
   {
    "duration": 91,
    "start_time": "2023-08-04T12:30:35.892Z"
   },
   {
    "duration": 21,
    "start_time": "2023-08-04T12:30:37.857Z"
   },
   {
    "duration": 1169,
    "start_time": "2023-08-04T12:43:06.628Z"
   },
   {
    "duration": 64,
    "start_time": "2023-08-04T12:43:08.513Z"
   },
   {
    "duration": 26,
    "start_time": "2023-08-04T12:43:09.222Z"
   },
   {
    "duration": 22,
    "start_time": "2023-08-04T12:43:14.070Z"
   },
   {
    "duration": 120,
    "start_time": "2023-08-04T12:43:15.462Z"
   },
   {
    "duration": 3,
    "start_time": "2023-08-04T12:47:25.097Z"
   },
   {
    "duration": 13,
    "start_time": "2023-08-04T12:47:34.791Z"
   },
   {
    "duration": 67,
    "start_time": "2023-08-04T17:18:03.460Z"
   },
   {
    "duration": 1338,
    "start_time": "2023-08-04T17:18:11.583Z"
   },
   {
    "duration": 96,
    "start_time": "2023-08-04T17:18:13.726Z"
   },
   {
    "duration": 25,
    "start_time": "2023-08-04T17:18:15.039Z"
   },
   {
    "duration": 12,
    "start_time": "2023-08-04T17:18:15.926Z"
   },
   {
    "duration": 3,
    "start_time": "2023-08-04T17:18:17.727Z"
   },
   {
    "duration": 13,
    "start_time": "2023-08-04T17:18:18.421Z"
   },
   {
    "duration": 5,
    "start_time": "2023-08-04T17:18:20.232Z"
   },
   {
    "duration": 8,
    "start_time": "2023-08-04T17:19:36.626Z"
   },
   {
    "duration": 4,
    "start_time": "2023-08-04T17:32:58.086Z"
   },
   {
    "duration": 71,
    "start_time": "2023-08-04T17:33:01.987Z"
   },
   {
    "duration": 4,
    "start_time": "2023-08-04T17:33:08.186Z"
   },
   {
    "duration": 118,
    "start_time": "2023-08-04T17:33:17.622Z"
   },
   {
    "duration": 17,
    "start_time": "2023-08-04T17:33:18.456Z"
   },
   {
    "duration": 11,
    "start_time": "2023-08-04T17:33:19.534Z"
   },
   {
    "duration": 3,
    "start_time": "2023-08-04T17:33:21.224Z"
   },
   {
    "duration": 4,
    "start_time": "2023-08-04T17:33:22.681Z"
   },
   {
    "duration": 6,
    "start_time": "2023-08-04T17:33:30.238Z"
   },
   {
    "duration": 7,
    "start_time": "2023-08-04T17:35:52.240Z"
   },
   {
    "duration": 6,
    "start_time": "2023-08-04T17:35:53.574Z"
   },
   {
    "duration": 9,
    "start_time": "2023-08-04T17:43:32.644Z"
   },
   {
    "duration": 61,
    "start_time": "2023-08-04T17:43:43.092Z"
   },
   {
    "duration": 32,
    "start_time": "2023-08-04T17:43:43.886Z"
   },
   {
    "duration": 14,
    "start_time": "2023-08-04T17:43:44.580Z"
   },
   {
    "duration": 8,
    "start_time": "2023-08-04T17:43:46.501Z"
   },
   {
    "duration": 3,
    "start_time": "2023-08-04T17:43:47.684Z"
   },
   {
    "duration": 6,
    "start_time": "2023-08-04T17:43:49.651Z"
   },
   {
    "duration": 8,
    "start_time": "2023-08-04T17:43:52.693Z"
   },
   {
    "duration": 7,
    "start_time": "2023-08-04T17:44:43.364Z"
   },
   {
    "duration": 7,
    "start_time": "2023-08-04T17:47:18.852Z"
   },
   {
    "duration": 78,
    "start_time": "2023-08-04T17:47:43.781Z"
   },
   {
    "duration": 23,
    "start_time": "2023-08-04T17:47:44.516Z"
   },
   {
    "duration": 10,
    "start_time": "2023-08-04T17:47:45.188Z"
   },
   {
    "duration": 11,
    "start_time": "2023-08-04T17:47:46.506Z"
   },
   {
    "duration": 4,
    "start_time": "2023-08-04T17:47:47.188Z"
   },
   {
    "duration": 8,
    "start_time": "2023-08-04T17:47:49.424Z"
   },
   {
    "duration": 7,
    "start_time": "2023-08-04T17:47:50.964Z"
   },
   {
    "duration": 10,
    "start_time": "2023-08-04T17:49:30.550Z"
   },
   {
    "duration": 6,
    "start_time": "2023-08-04T17:50:59.736Z"
   },
   {
    "duration": 6,
    "start_time": "2023-08-04T17:51:13.243Z"
   },
   {
    "duration": 83,
    "start_time": "2023-08-04T17:53:00.715Z"
   },
   {
    "duration": 96,
    "start_time": "2023-08-04T17:53:08.086Z"
   },
   {
    "duration": 83,
    "start_time": "2023-08-04T17:53:18.419Z"
   },
   {
    "duration": 94,
    "start_time": "2023-08-04T17:53:34.539Z"
   },
   {
    "duration": 95,
    "start_time": "2023-08-04T17:54:40.391Z"
   },
   {
    "duration": 105,
    "start_time": "2023-08-04T17:55:34.519Z"
   },
   {
    "duration": 100,
    "start_time": "2023-08-04T17:56:06.925Z"
   },
   {
    "duration": 7,
    "start_time": "2023-08-04T17:57:36.921Z"
   },
   {
    "duration": 6,
    "start_time": "2023-08-04T17:57:48.234Z"
   },
   {
    "duration": 7,
    "start_time": "2023-08-04T17:58:00.825Z"
   },
   {
    "duration": 11,
    "start_time": "2023-08-04T17:58:10.316Z"
   },
   {
    "duration": 99,
    "start_time": "2023-08-04T17:58:23.616Z"
   },
   {
    "duration": 10,
    "start_time": "2023-08-04T17:59:38.041Z"
   },
   {
    "duration": 10,
    "start_time": "2023-08-04T18:00:42.488Z"
   },
   {
    "duration": 9,
    "start_time": "2023-08-04T18:00:51.130Z"
   },
   {
    "duration": 116,
    "start_time": "2023-08-04T18:02:09.370Z"
   },
   {
    "duration": 10,
    "start_time": "2023-08-04T18:02:53.242Z"
   },
   {
    "duration": 11,
    "start_time": "2023-08-04T18:03:04.491Z"
   },
   {
    "duration": 9,
    "start_time": "2023-08-04T18:03:14.954Z"
   },
   {
    "duration": 16,
    "start_time": "2023-08-04T18:04:05.948Z"
   },
   {
    "duration": 10,
    "start_time": "2023-08-04T18:04:22.234Z"
   },
   {
    "duration": 7,
    "start_time": "2023-08-04T18:04:34.044Z"
   },
   {
    "duration": 8,
    "start_time": "2023-08-04T18:05:02.459Z"
   },
   {
    "duration": 5,
    "start_time": "2023-08-04T18:06:49.224Z"
   },
   {
    "duration": 6,
    "start_time": "2023-08-04T18:06:50.379Z"
   },
   {
    "duration": 13,
    "start_time": "2023-08-04T18:20:11.908Z"
   },
   {
    "duration": 6,
    "start_time": "2023-08-04T18:21:20.623Z"
   },
   {
    "duration": 12,
    "start_time": "2023-08-04T18:25:25.763Z"
   },
   {
    "duration": 25,
    "start_time": "2023-08-04T18:25:45.851Z"
   },
   {
    "duration": 25,
    "start_time": "2023-08-04T18:26:32.727Z"
   },
   {
    "duration": 26,
    "start_time": "2023-08-04T18:29:17.119Z"
   },
   {
    "duration": 17,
    "start_time": "2023-08-04T18:31:08.935Z"
   },
   {
    "duration": 4,
    "start_time": "2023-08-04T18:34:09.782Z"
   },
   {
    "duration": 8,
    "start_time": "2023-08-04T18:34:11.381Z"
   },
   {
    "duration": 4,
    "start_time": "2023-08-04T18:41:04.121Z"
   },
   {
    "duration": 11,
    "start_time": "2023-08-04T18:41:17.961Z"
   },
   {
    "duration": 4,
    "start_time": "2023-08-04T18:42:03.123Z"
   },
   {
    "duration": 81,
    "start_time": "2023-08-04T18:42:04.524Z"
   },
   {
    "duration": 17,
    "start_time": "2023-08-04T18:42:06.330Z"
   },
   {
    "duration": 10,
    "start_time": "2023-08-04T18:42:07.421Z"
   },
   {
    "duration": 3,
    "start_time": "2023-08-04T18:42:09.080Z"
   },
   {
    "duration": 4,
    "start_time": "2023-08-04T18:42:09.925Z"
   },
   {
    "duration": 7,
    "start_time": "2023-08-04T18:42:11.689Z"
   },
   {
    "duration": 7,
    "start_time": "2023-08-04T18:42:15.448Z"
   },
   {
    "duration": 8,
    "start_time": "2023-08-04T18:42:17.497Z"
   },
   {
    "duration": 6,
    "start_time": "2023-08-04T18:42:19.944Z"
   },
   {
    "duration": 3,
    "start_time": "2023-08-04T18:42:20.924Z"
   },
   {
    "duration": 22,
    "start_time": "2023-08-04T18:42:23.257Z"
   },
   {
    "duration": 5,
    "start_time": "2023-08-04T18:42:24.682Z"
   },
   {
    "duration": 8,
    "start_time": "2023-08-04T18:42:28.123Z"
   },
   {
    "duration": 12,
    "start_time": "2023-08-04T18:42:29.864Z"
   },
   {
    "duration": 34,
    "start_time": "2023-08-04T18:43:27.691Z"
   },
   {
    "duration": 12,
    "start_time": "2023-08-04T18:43:46.347Z"
   },
   {
    "duration": 91,
    "start_time": "2023-08-04T18:43:56.346Z"
   },
   {
    "duration": 17,
    "start_time": "2023-08-04T18:43:56.970Z"
   },
   {
    "duration": 10,
    "start_time": "2023-08-04T18:43:57.850Z"
   },
   {
    "duration": 3,
    "start_time": "2023-08-04T18:43:59.338Z"
   },
   {
    "duration": 3,
    "start_time": "2023-08-04T18:43:59.995Z"
   },
   {
    "duration": 6,
    "start_time": "2023-08-04T18:44:01.370Z"
   },
   {
    "duration": 9,
    "start_time": "2023-08-04T18:44:04.155Z"
   },
   {
    "duration": 6,
    "start_time": "2023-08-04T18:44:05.850Z"
   },
   {
    "duration": 7,
    "start_time": "2023-08-04T18:44:06.823Z"
   },
   {
    "duration": 2,
    "start_time": "2023-08-04T18:44:10.681Z"
   },
   {
    "duration": 11,
    "start_time": "2023-08-04T18:44:12.522Z"
   },
   {
    "duration": 5,
    "start_time": "2023-08-04T18:44:13.530Z"
   },
   {
    "duration": 35,
    "start_time": "2023-08-04T18:44:23.690Z"
   },
   {
    "duration": 11,
    "start_time": "2023-08-04T18:44:36.970Z"
   },
   {
    "duration": 7,
    "start_time": "2023-08-04T18:46:46.346Z"
   },
   {
    "duration": 15,
    "start_time": "2023-08-04T18:48:39.245Z"
   },
   {
    "duration": 13,
    "start_time": "2023-08-04T18:49:04.028Z"
   },
   {
    "duration": 48,
    "start_time": "2023-08-04T18:54:17.870Z"
   },
   {
    "duration": 30,
    "start_time": "2023-08-04T18:56:07.054Z"
   },
   {
    "duration": 1181,
    "start_time": "2023-08-04T19:15:02.983Z"
   },
   {
    "duration": 67,
    "start_time": "2023-08-04T19:15:04.166Z"
   },
   {
    "duration": 20,
    "start_time": "2023-08-04T19:15:04.235Z"
   },
   {
    "duration": 10,
    "start_time": "2023-08-04T19:15:04.257Z"
   },
   {
    "duration": 30,
    "start_time": "2023-08-04T19:15:04.269Z"
   },
   {
    "duration": 4,
    "start_time": "2023-08-04T19:15:04.301Z"
   },
   {
    "duration": 16,
    "start_time": "2023-08-04T19:15:04.306Z"
   },
   {
    "duration": 7,
    "start_time": "2023-08-04T19:15:04.324Z"
   },
   {
    "duration": 11,
    "start_time": "2023-08-04T19:15:04.332Z"
   },
   {
    "duration": 5,
    "start_time": "2023-08-04T19:15:04.344Z"
   },
   {
    "duration": 12,
    "start_time": "2023-08-04T19:15:04.350Z"
   },
   {
    "duration": 9,
    "start_time": "2023-08-04T19:15:04.364Z"
   },
   {
    "duration": 17,
    "start_time": "2023-08-04T19:15:04.374Z"
   },
   {
    "duration": 7,
    "start_time": "2023-08-04T19:15:04.393Z"
   },
   {
    "duration": 28,
    "start_time": "2023-08-04T19:15:04.402Z"
   },
   {
    "duration": 13,
    "start_time": "2023-08-04T19:15:04.431Z"
   },
   {
    "duration": 6,
    "start_time": "2023-08-04T19:15:04.446Z"
   },
   {
    "duration": 123,
    "start_time": "2023-08-04T19:15:04.454Z"
   },
   {
    "duration": 246,
    "start_time": "2023-08-04T19:30:45.903Z"
   },
   {
    "duration": 6038,
    "start_time": "2023-08-04T19:38:07.457Z"
   },
   {
    "duration": 6433,
    "start_time": "2023-08-04T19:39:02.052Z"
   },
   {
    "duration": 1371,
    "start_time": "2023-08-05T14:37:25.217Z"
   },
   {
    "duration": 63,
    "start_time": "2023-08-05T14:37:26.591Z"
   },
   {
    "duration": 24,
    "start_time": "2023-08-05T14:37:26.656Z"
   },
   {
    "duration": 12,
    "start_time": "2023-08-05T14:37:26.682Z"
   },
   {
    "duration": 37,
    "start_time": "2023-08-05T14:37:26.696Z"
   },
   {
    "duration": 24,
    "start_time": "2023-08-05T14:37:26.736Z"
   },
   {
    "duration": 7,
    "start_time": "2023-08-05T14:37:26.762Z"
   },
   {
    "duration": 8,
    "start_time": "2023-08-05T14:37:26.770Z"
   },
   {
    "duration": 8,
    "start_time": "2023-08-05T14:37:26.780Z"
   },
   {
    "duration": 6,
    "start_time": "2023-08-05T14:37:26.790Z"
   },
   {
    "duration": 6,
    "start_time": "2023-08-05T14:37:26.798Z"
   },
   {
    "duration": 3,
    "start_time": "2023-08-05T14:37:26.805Z"
   },
   {
    "duration": 13,
    "start_time": "2023-08-05T14:37:26.810Z"
   },
   {
    "duration": 36,
    "start_time": "2023-08-05T14:37:26.824Z"
   },
   {
    "duration": 15,
    "start_time": "2023-08-05T14:37:26.861Z"
   },
   {
    "duration": 14,
    "start_time": "2023-08-05T14:37:26.878Z"
   },
   {
    "duration": 31,
    "start_time": "2023-08-05T14:37:26.893Z"
   },
   {
    "duration": 167,
    "start_time": "2023-08-05T14:37:26.926Z"
   },
   {
    "duration": 13,
    "start_time": "2023-08-05T14:43:38.000Z"
   },
   {
    "duration": 4,
    "start_time": "2023-08-05T14:50:08.996Z"
   },
   {
    "duration": 1260,
    "start_time": "2023-08-05T14:50:40.586Z"
   },
   {
    "duration": 81,
    "start_time": "2023-08-05T14:50:41.848Z"
   },
   {
    "duration": 26,
    "start_time": "2023-08-05T14:50:41.930Z"
   },
   {
    "duration": 16,
    "start_time": "2023-08-05T14:50:41.957Z"
   },
   {
    "duration": 39,
    "start_time": "2023-08-05T14:50:41.975Z"
   },
   {
    "duration": 4,
    "start_time": "2023-08-05T14:50:42.016Z"
   },
   {
    "duration": 5,
    "start_time": "2023-08-05T14:50:42.021Z"
   },
   {
    "duration": 8,
    "start_time": "2023-08-05T14:50:42.028Z"
   },
   {
    "duration": 37,
    "start_time": "2023-08-05T14:50:42.038Z"
   },
   {
    "duration": 12,
    "start_time": "2023-08-05T14:50:42.082Z"
   },
   {
    "duration": 7,
    "start_time": "2023-08-05T14:50:42.096Z"
   },
   {
    "duration": 6,
    "start_time": "2023-08-05T14:50:42.104Z"
   },
   {
    "duration": 4,
    "start_time": "2023-08-05T14:50:42.112Z"
   },
   {
    "duration": 21,
    "start_time": "2023-08-05T14:50:42.118Z"
   },
   {
    "duration": 25,
    "start_time": "2023-08-05T14:50:42.140Z"
   },
   {
    "duration": 20,
    "start_time": "2023-08-05T14:50:42.167Z"
   },
   {
    "duration": 17,
    "start_time": "2023-08-05T14:50:42.188Z"
   },
   {
    "duration": 7,
    "start_time": "2023-08-05T14:50:42.206Z"
   },
   {
    "duration": 12,
    "start_time": "2023-08-05T14:50:42.215Z"
   },
   {
    "duration": 194,
    "start_time": "2023-08-05T14:50:42.229Z"
   },
   {
    "duration": 5,
    "start_time": "2023-08-05T14:58:08.497Z"
   },
   {
    "duration": 4,
    "start_time": "2023-08-05T14:58:13.624Z"
   },
   {
    "duration": 4,
    "start_time": "2023-08-05T14:58:14.504Z"
   },
   {
    "duration": 7,
    "start_time": "2023-08-05T14:58:22.536Z"
   },
   {
    "duration": 8,
    "start_time": "2023-08-05T14:58:23.529Z"
   },
   {
    "duration": 6,
    "start_time": "2023-08-05T14:58:24.440Z"
   },
   {
    "duration": 6,
    "start_time": "2023-08-05T14:58:24.921Z"
   },
   {
    "duration": 3,
    "start_time": "2023-08-05T14:58:25.384Z"
   },
   {
    "duration": 10,
    "start_time": "2023-08-05T14:58:27.192Z"
   },
   {
    "duration": 122,
    "start_time": "2023-08-05T14:58:27.656Z"
   },
   {
    "duration": 12,
    "start_time": "2023-08-05T14:58:34.762Z"
   },
   {
    "duration": 19,
    "start_time": "2023-08-05T14:58:44.481Z"
   },
   {
    "duration": 20,
    "start_time": "2023-08-05T14:58:54.189Z"
   },
   {
    "duration": 11,
    "start_time": "2023-08-05T14:58:57.782Z"
   },
   {
    "duration": 6,
    "start_time": "2023-08-05T14:59:09.898Z"
   },
   {
    "duration": 16,
    "start_time": "2023-08-05T14:59:31.033Z"
   },
   {
    "duration": 5,
    "start_time": "2023-08-05T15:00:15.225Z"
   },
   {
    "duration": 14,
    "start_time": "2023-08-05T15:00:34.122Z"
   },
   {
    "duration": 20,
    "start_time": "2023-08-05T15:00:39.354Z"
   },
   {
    "duration": 6,
    "start_time": "2023-08-05T15:00:43.834Z"
   },
   {
    "duration": 4,
    "start_time": "2023-08-05T15:01:12.186Z"
   },
   {
    "duration": 6,
    "start_time": "2023-08-05T15:01:53.339Z"
   },
   {
    "duration": 5,
    "start_time": "2023-08-05T15:02:37.022Z"
   },
   {
    "duration": 6,
    "start_time": "2023-08-05T15:02:56.581Z"
   },
   {
    "duration": 5,
    "start_time": "2023-08-05T15:03:02.336Z"
   },
   {
    "duration": 5,
    "start_time": "2023-08-05T15:04:13.405Z"
   },
   {
    "duration": 10,
    "start_time": "2023-08-05T15:04:29.631Z"
   },
   {
    "duration": 5,
    "start_time": "2023-08-05T15:06:54.833Z"
   },
   {
    "duration": 4,
    "start_time": "2023-08-05T15:07:05.312Z"
   },
   {
    "duration": 5,
    "start_time": "2023-08-05T15:08:06.486Z"
   },
   {
    "duration": 4,
    "start_time": "2023-08-05T15:08:30.212Z"
   },
   {
    "duration": 5,
    "start_time": "2023-08-05T15:08:40.483Z"
   },
   {
    "duration": 8,
    "start_time": "2023-08-05T15:09:05.876Z"
   },
   {
    "duration": 5,
    "start_time": "2023-08-05T15:09:38.179Z"
   },
   {
    "duration": 4,
    "start_time": "2023-08-05T15:10:15.155Z"
   },
   {
    "duration": 18,
    "start_time": "2023-08-05T15:11:47.156Z"
   },
   {
    "duration": 4,
    "start_time": "2023-08-05T15:12:03.892Z"
   },
   {
    "duration": 13,
    "start_time": "2023-08-05T15:12:13.621Z"
   },
   {
    "duration": 11,
    "start_time": "2023-08-05T15:12:23.984Z"
   },
   {
    "duration": 11,
    "start_time": "2023-08-05T15:12:32.086Z"
   },
   {
    "duration": 3,
    "start_time": "2023-08-05T15:12:56.326Z"
   },
   {
    "duration": 4,
    "start_time": "2023-08-05T15:15:22.739Z"
   },
   {
    "duration": 4,
    "start_time": "2023-08-05T15:15:23.639Z"
   },
   {
    "duration": 7,
    "start_time": "2023-08-05T15:15:27.398Z"
   },
   {
    "duration": 8,
    "start_time": "2023-08-05T15:15:28.216Z"
   },
   {
    "duration": 5,
    "start_time": "2023-08-05T15:15:28.743Z"
   },
   {
    "duration": 7,
    "start_time": "2023-08-05T15:15:29.014Z"
   },
   {
    "duration": 2,
    "start_time": "2023-08-05T15:15:29.302Z"
   },
   {
    "duration": 10,
    "start_time": "2023-08-05T15:15:30.311Z"
   },
   {
    "duration": 6,
    "start_time": "2023-08-05T15:15:30.585Z"
   },
   {
    "duration": 33,
    "start_time": "2023-08-05T15:15:31.150Z"
   },
   {
    "duration": 16,
    "start_time": "2023-08-05T15:15:31.415Z"
   },
   {
    "duration": 8,
    "start_time": "2023-08-05T15:15:32.087Z"
   },
   {
    "duration": 13,
    "start_time": "2023-08-05T15:15:33.143Z"
   },
   {
    "duration": 7,
    "start_time": "2023-08-05T15:15:34.247Z"
   },
   {
    "duration": 4,
    "start_time": "2023-08-05T15:15:49.431Z"
   },
   {
    "duration": 5,
    "start_time": "2023-08-05T15:17:22.122Z"
   },
   {
    "duration": 4,
    "start_time": "2023-08-05T15:18:41.033Z"
   },
   {
    "duration": 10,
    "start_time": "2023-08-05T15:47:49.934Z"
   },
   {
    "duration": 13,
    "start_time": "2023-08-05T15:48:28.719Z"
   },
   {
    "duration": 11,
    "start_time": "2023-08-05T15:49:23.679Z"
   },
   {
    "duration": 21,
    "start_time": "2023-08-05T15:50:02.959Z"
   },
   {
    "duration": 11,
    "start_time": "2023-08-05T15:50:18.003Z"
   },
   {
    "duration": 18,
    "start_time": "2023-08-05T15:52:30.055Z"
   },
   {
    "duration": 13,
    "start_time": "2023-08-05T15:52:33.278Z"
   },
   {
    "duration": 18,
    "start_time": "2023-08-05T15:59:45.152Z"
   },
   {
    "duration": 10,
    "start_time": "2023-08-05T15:59:50.144Z"
   },
   {
    "duration": 246,
    "start_time": "2023-08-05T16:46:48.964Z"
   },
   {
    "duration": 238,
    "start_time": "2023-08-05T16:47:13.553Z"
   },
   {
    "duration": 4,
    "start_time": "2023-08-05T16:48:25.745Z"
   },
   {
    "duration": 220,
    "start_time": "2023-08-05T16:48:59.346Z"
   },
   {
    "duration": 226,
    "start_time": "2023-08-05T16:49:25.969Z"
   },
   {
    "duration": 384,
    "start_time": "2023-08-05T16:53:58.113Z"
   },
   {
    "duration": 311,
    "start_time": "2023-08-05T16:55:24.212Z"
   },
   {
    "duration": 298,
    "start_time": "2023-08-05T16:56:01.314Z"
   },
   {
    "duration": 308,
    "start_time": "2023-08-05T16:57:22.132Z"
   },
   {
    "duration": 306,
    "start_time": "2023-08-05T16:57:35.682Z"
   },
   {
    "duration": 308,
    "start_time": "2023-08-05T16:58:01.284Z"
   },
   {
    "duration": 17,
    "start_time": "2023-08-05T17:05:58.837Z"
   },
   {
    "duration": 391,
    "start_time": "2023-08-05T17:07:12.341Z"
   },
   {
    "duration": 285,
    "start_time": "2023-08-05T17:07:27.589Z"
   },
   {
    "duration": 290,
    "start_time": "2023-08-05T17:07:40.404Z"
   },
   {
    "duration": 4551,
    "start_time": "2023-08-05T17:08:41.909Z"
   },
   {
    "duration": 5582,
    "start_time": "2023-08-05T17:09:00.662Z"
   },
   {
    "duration": 577,
    "start_time": "2023-08-05T17:10:18.837Z"
   },
   {
    "duration": 105,
    "start_time": "2023-08-05T17:11:37.670Z"
   },
   {
    "duration": 91,
    "start_time": "2023-08-05T17:11:51.416Z"
   },
   {
    "duration": 103,
    "start_time": "2023-08-05T17:13:01.351Z"
   },
   {
    "duration": 99,
    "start_time": "2023-08-05T17:13:43.639Z"
   },
   {
    "duration": 3,
    "start_time": "2023-08-05T17:20:36.665Z"
   },
   {
    "duration": 54,
    "start_time": "2023-08-05T17:20:37.911Z"
   },
   {
    "duration": 21,
    "start_time": "2023-08-05T17:20:38.351Z"
   },
   {
    "duration": 12,
    "start_time": "2023-08-05T17:20:38.696Z"
   },
   {
    "duration": 37,
    "start_time": "2023-08-05T17:20:39.081Z"
   },
   {
    "duration": 5,
    "start_time": "2023-08-05T17:20:40.247Z"
   },
   {
    "duration": 5,
    "start_time": "2023-08-05T17:20:40.808Z"
   },
   {
    "duration": 4,
    "start_time": "2023-08-05T17:20:41.064Z"
   },
   {
    "duration": 6,
    "start_time": "2023-08-05T17:20:41.721Z"
   },
   {
    "duration": 9,
    "start_time": "2023-08-05T17:20:42.295Z"
   },
   {
    "duration": 6,
    "start_time": "2023-08-05T17:20:42.856Z"
   },
   {
    "duration": 8,
    "start_time": "2023-08-05T17:20:43.127Z"
   },
   {
    "duration": 3,
    "start_time": "2023-08-05T17:20:43.415Z"
   },
   {
    "duration": 11,
    "start_time": "2023-08-05T17:20:44.008Z"
   },
   {
    "duration": 8,
    "start_time": "2023-08-05T17:20:44.295Z"
   },
   {
    "duration": 16,
    "start_time": "2023-08-05T17:20:44.888Z"
   },
   {
    "duration": 18,
    "start_time": "2023-08-05T17:20:45.161Z"
   },
   {
    "duration": 7,
    "start_time": "2023-08-05T17:20:45.736Z"
   },
   {
    "duration": 12,
    "start_time": "2023-08-05T17:20:46.574Z"
   },
   {
    "duration": 10,
    "start_time": "2023-08-05T17:20:47.400Z"
   },
   {
    "duration": 12,
    "start_time": "2023-08-05T17:20:48.135Z"
   },
   {
    "duration": 11,
    "start_time": "2023-08-05T17:20:49.799Z"
   },
   {
    "duration": 3,
    "start_time": "2023-08-05T17:20:50.775Z"
   },
   {
    "duration": 699,
    "start_time": "2023-08-05T17:20:52.537Z"
   },
   {
    "duration": 305,
    "start_time": "2023-08-05T17:20:53.239Z"
   },
   {
    "duration": 9,
    "start_time": "2023-08-05T17:20:54.328Z"
   },
   {
    "duration": 15,
    "start_time": "2023-08-05T17:24:06.410Z"
   },
   {
    "duration": 16,
    "start_time": "2023-08-05T17:28:11.907Z"
   },
   {
    "duration": 18,
    "start_time": "2023-08-05T17:28:52.538Z"
   },
   {
    "duration": 516,
    "start_time": "2023-08-05T17:29:37.690Z"
   },
   {
    "duration": 18,
    "start_time": "2023-08-05T17:30:03.882Z"
   },
   {
    "duration": 595,
    "start_time": "2023-08-05T17:30:06.426Z"
   },
   {
    "duration": 652,
    "start_time": "2023-08-05T17:30:40.010Z"
   },
   {
    "duration": 565,
    "start_time": "2023-08-05T17:30:47.194Z"
   },
   {
    "duration": 18,
    "start_time": "2023-08-05T17:31:52.911Z"
   },
   {
    "duration": 101,
    "start_time": "2023-08-05T17:32:12.138Z"
   },
   {
    "duration": 475,
    "start_time": "2023-08-05T17:32:37.836Z"
   },
   {
    "duration": 384,
    "start_time": "2023-08-05T17:32:49.130Z"
   },
   {
    "duration": 92,
    "start_time": "2023-08-05T17:33:35.611Z"
   },
   {
    "duration": 94,
    "start_time": "2023-08-05T17:34:12.558Z"
   },
   {
    "duration": 18,
    "start_time": "2023-08-05T17:35:02.508Z"
   },
   {
    "duration": 21,
    "start_time": "2023-08-05T17:35:14.077Z"
   },
   {
    "duration": 13,
    "start_time": "2023-08-05T17:35:23.741Z"
   },
   {
    "duration": 17,
    "start_time": "2023-08-05T17:35:37.475Z"
   },
   {
    "duration": 13,
    "start_time": "2023-08-05T17:35:38.364Z"
   },
   {
    "duration": 103,
    "start_time": "2023-08-05T17:35:57.148Z"
   },
   {
    "duration": 168352,
    "start_time": "2023-08-05T17:37:12.236Z"
   },
   {
    "duration": 1210,
    "start_time": "2023-08-05T17:40:12.615Z"
   },
   {
    "duration": 102,
    "start_time": "2023-08-05T17:40:13.827Z"
   },
   {
    "duration": 22,
    "start_time": "2023-08-05T17:40:13.931Z"
   },
   {
    "duration": 12,
    "start_time": "2023-08-05T17:40:13.955Z"
   },
   {
    "duration": 39,
    "start_time": "2023-08-05T17:40:13.968Z"
   },
   {
    "duration": 4,
    "start_time": "2023-08-05T17:40:14.009Z"
   },
   {
    "duration": 12,
    "start_time": "2023-08-05T17:40:14.014Z"
   },
   {
    "duration": 6,
    "start_time": "2023-08-05T17:40:14.028Z"
   },
   {
    "duration": 28,
    "start_time": "2023-08-05T17:40:14.035Z"
   },
   {
    "duration": 12,
    "start_time": "2023-08-05T17:40:14.066Z"
   },
   {
    "duration": 7,
    "start_time": "2023-08-05T17:40:14.079Z"
   },
   {
    "duration": 9,
    "start_time": "2023-08-05T17:40:14.088Z"
   },
   {
    "duration": 3,
    "start_time": "2023-08-05T17:40:14.099Z"
   },
   {
    "duration": 13,
    "start_time": "2023-08-05T17:40:14.105Z"
   },
   {
    "duration": 43,
    "start_time": "2023-08-05T17:40:14.120Z"
   },
   {
    "duration": 21,
    "start_time": "2023-08-05T17:40:14.165Z"
   },
   {
    "duration": 23,
    "start_time": "2023-08-05T17:40:14.188Z"
   },
   {
    "duration": 8,
    "start_time": "2023-08-05T17:40:14.213Z"
   },
   {
    "duration": 49,
    "start_time": "2023-08-05T17:40:14.223Z"
   },
   {
    "duration": 10,
    "start_time": "2023-08-05T17:40:14.274Z"
   },
   {
    "duration": 21,
    "start_time": "2023-08-05T17:40:14.286Z"
   },
   {
    "duration": 10,
    "start_time": "2023-08-05T17:40:14.309Z"
   },
   {
    "duration": 5,
    "start_time": "2023-08-05T17:40:14.321Z"
   },
   {
    "duration": 336,
    "start_time": "2023-08-05T17:40:14.359Z"
   },
   {
    "duration": 321,
    "start_time": "2023-08-05T17:40:14.698Z"
   },
   {
    "duration": 17,
    "start_time": "2023-08-05T17:40:15.021Z"
   },
   {
    "duration": 714,
    "start_time": "2023-08-05T17:40:15.040Z"
   },
   {
    "duration": 17,
    "start_time": "2023-08-05T17:40:15.758Z"
   },
   {
    "duration": 450,
    "start_time": "2023-08-05T17:40:15.776Z"
   },
   {
    "duration": 93,
    "start_time": "2023-08-05T17:40:16.228Z"
   },
   {
    "duration": 246,
    "start_time": "2023-08-05T17:40:16.323Z"
   },
   {
    "duration": 1453,
    "start_time": "2023-08-06T08:35:02.016Z"
   },
   {
    "duration": 76,
    "start_time": "2023-08-06T08:35:03.472Z"
   },
   {
    "duration": 39,
    "start_time": "2023-08-06T08:35:03.550Z"
   },
   {
    "duration": 11,
    "start_time": "2023-08-06T08:35:03.591Z"
   },
   {
    "duration": 43,
    "start_time": "2023-08-06T08:35:03.604Z"
   },
   {
    "duration": 4,
    "start_time": "2023-08-06T08:35:03.657Z"
   },
   {
    "duration": 17,
    "start_time": "2023-08-06T08:35:03.663Z"
   },
   {
    "duration": 9,
    "start_time": "2023-08-06T08:35:03.683Z"
   },
   {
    "duration": 15,
    "start_time": "2023-08-06T08:35:03.694Z"
   },
   {
    "duration": 13,
    "start_time": "2023-08-06T08:35:03.711Z"
   },
   {
    "duration": 10,
    "start_time": "2023-08-06T08:35:03.725Z"
   },
   {
    "duration": 30,
    "start_time": "2023-08-06T08:35:03.736Z"
   },
   {
    "duration": 15,
    "start_time": "2023-08-06T08:35:03.768Z"
   },
   {
    "duration": 16,
    "start_time": "2023-08-06T08:35:03.786Z"
   },
   {
    "duration": 23,
    "start_time": "2023-08-06T08:35:03.803Z"
   },
   {
    "duration": 27,
    "start_time": "2023-08-06T08:35:03.827Z"
   },
   {
    "duration": 28,
    "start_time": "2023-08-06T08:35:03.856Z"
   },
   {
    "duration": 8,
    "start_time": "2023-08-06T08:35:03.887Z"
   },
   {
    "duration": 11,
    "start_time": "2023-08-06T08:35:03.896Z"
   },
   {
    "duration": 11,
    "start_time": "2023-08-06T08:35:03.909Z"
   },
   {
    "duration": 48,
    "start_time": "2023-08-06T08:35:03.921Z"
   },
   {
    "duration": 16,
    "start_time": "2023-08-06T08:35:03.972Z"
   },
   {
    "duration": 5,
    "start_time": "2023-08-06T08:35:03.989Z"
   },
   {
    "duration": 415,
    "start_time": "2023-08-06T08:35:03.996Z"
   },
   {
    "duration": 347,
    "start_time": "2023-08-06T08:35:04.413Z"
   },
   {
    "duration": 17,
    "start_time": "2023-08-06T08:35:04.761Z"
   },
   {
    "duration": 737,
    "start_time": "2023-08-06T08:35:04.780Z"
   },
   {
    "duration": 17,
    "start_time": "2023-08-06T08:35:05.520Z"
   },
   {
    "duration": 447,
    "start_time": "2023-08-06T08:35:05.538Z"
   },
   {
    "duration": 127,
    "start_time": "2023-08-06T08:35:05.987Z"
   },
   {
    "duration": 195,
    "start_time": "2023-08-06T08:35:06.115Z"
   },
   {
    "duration": 12,
    "start_time": "2023-08-06T08:43:42.480Z"
   },
   {
    "duration": 1731,
    "start_time": "2023-08-06T08:44:06.260Z"
   },
   {
    "duration": 12,
    "start_time": "2023-08-06T08:44:34.411Z"
   },
   {
    "duration": 263,
    "start_time": "2023-08-06T08:51:38.463Z"
   },
   {
    "duration": 333,
    "start_time": "2023-08-06T12:07:59.371Z"
   },
   {
    "duration": 321,
    "start_time": "2023-08-06T12:09:05.988Z"
   },
   {
    "duration": 751,
    "start_time": "2023-08-06T12:09:34.845Z"
   },
   {
    "duration": 437,
    "start_time": "2023-08-06T12:09:49.419Z"
   },
   {
    "duration": 111,
    "start_time": "2023-08-06T13:20:29.316Z"
   },
   {
    "duration": 137,
    "start_time": "2023-08-06T13:23:17.022Z"
   },
   {
    "duration": 28,
    "start_time": "2023-08-06T13:23:56.583Z"
   },
   {
    "duration": 35,
    "start_time": "2023-08-06T13:35:45.907Z"
   },
   {
    "duration": 46,
    "start_time": "2023-08-06T13:38:43.621Z"
   },
   {
    "duration": 1286,
    "start_time": "2023-08-06T13:39:21.462Z"
   },
   {
    "duration": 188,
    "start_time": "2023-08-06T13:39:22.750Z"
   },
   {
    "duration": 36,
    "start_time": "2023-08-06T13:39:22.940Z"
   },
   {
    "duration": 13,
    "start_time": "2023-08-06T13:39:22.985Z"
   },
   {
    "duration": 63,
    "start_time": "2023-08-06T13:39:23.000Z"
   },
   {
    "duration": 6,
    "start_time": "2023-08-06T13:39:23.065Z"
   },
   {
    "duration": 7,
    "start_time": "2023-08-06T13:39:23.073Z"
   },
   {
    "duration": 6,
    "start_time": "2023-08-06T13:39:23.081Z"
   },
   {
    "duration": 4,
    "start_time": "2023-08-06T13:39:23.089Z"
   },
   {
    "duration": 7,
    "start_time": "2023-08-06T13:39:23.097Z"
   },
   {
    "duration": 11,
    "start_time": "2023-08-06T13:39:23.106Z"
   },
   {
    "duration": 38,
    "start_time": "2023-08-06T13:39:23.119Z"
   },
   {
    "duration": 14,
    "start_time": "2023-08-06T13:39:23.164Z"
   },
   {
    "duration": 15,
    "start_time": "2023-08-06T13:39:23.180Z"
   },
   {
    "duration": 8,
    "start_time": "2023-08-06T13:39:23.200Z"
   },
   {
    "duration": 24,
    "start_time": "2023-08-06T13:39:23.210Z"
   },
   {
    "duration": 47,
    "start_time": "2023-08-06T13:39:23.236Z"
   },
   {
    "duration": 28,
    "start_time": "2023-08-06T13:39:23.285Z"
   },
   {
    "duration": 17,
    "start_time": "2023-08-06T13:39:23.315Z"
   },
   {
    "duration": 5,
    "start_time": "2023-08-06T13:39:23.334Z"
   },
   {
    "duration": 40,
    "start_time": "2023-08-06T13:39:23.341Z"
   },
   {
    "duration": 13,
    "start_time": "2023-08-06T13:39:23.384Z"
   },
   {
    "duration": 18,
    "start_time": "2023-08-06T13:39:23.399Z"
   },
   {
    "duration": 13,
    "start_time": "2023-08-06T13:39:23.419Z"
   },
   {
    "duration": 10,
    "start_time": "2023-08-06T13:39:23.457Z"
   },
   {
    "duration": 408,
    "start_time": "2023-08-06T13:39:23.474Z"
   },
   {
    "duration": 448,
    "start_time": "2023-08-06T13:39:23.885Z"
   },
   {
    "duration": 34,
    "start_time": "2023-08-06T13:39:24.337Z"
   },
   {
    "duration": 869,
    "start_time": "2023-08-06T13:39:24.380Z"
   },
   {
    "duration": 27,
    "start_time": "2023-08-06T13:39:25.257Z"
   },
   {
    "duration": 555,
    "start_time": "2023-08-06T13:39:25.290Z"
   },
   {
    "duration": 215,
    "start_time": "2023-08-06T13:39:25.847Z"
   },
   {
    "duration": 111,
    "start_time": "2023-08-07T10:44:33.444Z"
   },
   {
    "duration": 0,
    "start_time": "2023-08-07T10:44:33.557Z"
   },
   {
    "duration": 0,
    "start_time": "2023-08-07T10:44:33.558Z"
   },
   {
    "duration": 0,
    "start_time": "2023-08-07T10:44:33.559Z"
   },
   {
    "duration": 0,
    "start_time": "2023-08-07T10:44:33.560Z"
   },
   {
    "duration": 0,
    "start_time": "2023-08-07T10:44:33.562Z"
   },
   {
    "duration": 0,
    "start_time": "2023-08-07T10:44:33.562Z"
   },
   {
    "duration": 0,
    "start_time": "2023-08-07T10:44:33.564Z"
   },
   {
    "duration": 0,
    "start_time": "2023-08-07T10:44:33.565Z"
   },
   {
    "duration": 0,
    "start_time": "2023-08-07T10:44:33.566Z"
   },
   {
    "duration": 0,
    "start_time": "2023-08-07T10:44:33.566Z"
   },
   {
    "duration": 0,
    "start_time": "2023-08-07T10:44:33.568Z"
   },
   {
    "duration": 0,
    "start_time": "2023-08-07T10:44:33.569Z"
   },
   {
    "duration": 0,
    "start_time": "2023-08-07T10:44:33.570Z"
   },
   {
    "duration": 0,
    "start_time": "2023-08-07T10:44:33.571Z"
   },
   {
    "duration": 0,
    "start_time": "2023-08-07T10:44:33.571Z"
   },
   {
    "duration": 0,
    "start_time": "2023-08-07T10:44:33.572Z"
   },
   {
    "duration": 0,
    "start_time": "2023-08-07T10:44:33.573Z"
   },
   {
    "duration": 0,
    "start_time": "2023-08-07T10:44:33.574Z"
   },
   {
    "duration": 0,
    "start_time": "2023-08-07T10:44:33.575Z"
   },
   {
    "duration": 0,
    "start_time": "2023-08-07T10:44:33.576Z"
   },
   {
    "duration": 0,
    "start_time": "2023-08-07T10:44:33.577Z"
   },
   {
    "duration": 0,
    "start_time": "2023-08-07T10:44:33.578Z"
   },
   {
    "duration": 0,
    "start_time": "2023-08-07T10:44:33.579Z"
   },
   {
    "duration": 0,
    "start_time": "2023-08-07T10:44:33.580Z"
   },
   {
    "duration": 0,
    "start_time": "2023-08-07T10:44:33.581Z"
   },
   {
    "duration": 0,
    "start_time": "2023-08-07T10:44:33.582Z"
   },
   {
    "duration": 0,
    "start_time": "2023-08-07T10:44:33.583Z"
   },
   {
    "duration": 0,
    "start_time": "2023-08-07T10:44:33.584Z"
   },
   {
    "duration": 110,
    "start_time": "2023-08-07T10:44:33.586Z"
   },
   {
    "duration": 0,
    "start_time": "2023-08-07T10:44:33.698Z"
   },
   {
    "duration": 0,
    "start_time": "2023-08-07T10:44:33.700Z"
   },
   {
    "duration": 0,
    "start_time": "2023-08-07T10:44:33.701Z"
   },
   {
    "duration": 1499,
    "start_time": "2023-08-07T10:45:34.686Z"
   },
   {
    "duration": 68,
    "start_time": "2023-08-07T10:45:36.187Z"
   },
   {
    "duration": 25,
    "start_time": "2023-08-07T10:45:36.257Z"
   },
   {
    "duration": 14,
    "start_time": "2023-08-07T10:45:36.285Z"
   },
   {
    "duration": 65,
    "start_time": "2023-08-07T10:45:36.301Z"
   },
   {
    "duration": 3,
    "start_time": "2023-08-07T10:45:36.368Z"
   },
   {
    "duration": 27,
    "start_time": "2023-08-07T10:45:36.373Z"
   },
   {
    "duration": 23,
    "start_time": "2023-08-07T10:45:36.401Z"
   },
   {
    "duration": 25,
    "start_time": "2023-08-07T10:45:36.426Z"
   },
   {
    "duration": 15,
    "start_time": "2023-08-07T10:45:36.455Z"
   },
   {
    "duration": 12,
    "start_time": "2023-08-07T10:45:36.472Z"
   },
   {
    "duration": 28,
    "start_time": "2023-08-07T10:45:36.486Z"
   },
   {
    "duration": 24,
    "start_time": "2023-08-07T10:45:36.515Z"
   },
   {
    "duration": 28,
    "start_time": "2023-08-07T10:45:36.542Z"
   },
   {
    "duration": 28,
    "start_time": "2023-08-07T10:45:36.572Z"
   },
   {
    "duration": 30,
    "start_time": "2023-08-07T10:45:36.602Z"
   },
   {
    "duration": 20,
    "start_time": "2023-08-07T10:45:36.633Z"
   },
   {
    "duration": 62,
    "start_time": "2023-08-07T10:45:36.654Z"
   },
   {
    "duration": 46,
    "start_time": "2023-08-07T10:45:36.718Z"
   },
   {
    "duration": 11,
    "start_time": "2023-08-07T10:45:36.766Z"
   },
   {
    "duration": 47,
    "start_time": "2023-08-07T10:45:36.779Z"
   },
   {
    "duration": 17,
    "start_time": "2023-08-07T10:45:36.829Z"
   },
   {
    "duration": 20,
    "start_time": "2023-08-07T10:45:36.848Z"
   },
   {
    "duration": 26,
    "start_time": "2023-08-07T10:45:36.871Z"
   },
   {
    "duration": 16,
    "start_time": "2023-08-07T10:45:36.899Z"
   },
   {
    "duration": 401,
    "start_time": "2023-08-07T10:45:36.917Z"
   },
   {
    "duration": 382,
    "start_time": "2023-08-07T10:45:37.320Z"
   },
   {
    "duration": 19,
    "start_time": "2023-08-07T10:45:37.705Z"
   },
   {
    "duration": 776,
    "start_time": "2023-08-07T10:45:37.726Z"
   },
   {
    "duration": 21,
    "start_time": "2023-08-07T10:45:38.504Z"
   },
   {
    "duration": 534,
    "start_time": "2023-08-07T10:45:38.527Z"
   },
   {
    "duration": 170,
    "start_time": "2023-08-07T10:45:39.064Z"
   },
   {
    "duration": 124,
    "start_time": "2023-08-07T11:07:06.622Z"
   },
   {
    "duration": 35,
    "start_time": "2023-08-07T11:07:19.977Z"
   },
   {
    "duration": 390,
    "start_time": "2023-08-07T11:09:52.416Z"
   },
   {
    "duration": 555,
    "start_time": "2023-08-07T11:10:40.970Z"
   },
   {
    "duration": 305,
    "start_time": "2023-08-07T11:14:10.920Z"
   },
   {
    "duration": 175,
    "start_time": "2023-08-07T11:14:22.271Z"
   },
   {
    "duration": 351,
    "start_time": "2023-08-07T11:14:35.271Z"
   },
   {
    "duration": 22,
    "start_time": "2023-08-07T11:15:55.720Z"
   },
   {
    "duration": 407,
    "start_time": "2023-08-07T11:21:11.017Z"
   },
   {
    "duration": 449,
    "start_time": "2023-08-07T11:21:46.378Z"
   },
   {
    "duration": 406,
    "start_time": "2023-08-07T11:23:59.386Z"
   },
   {
    "duration": 734,
    "start_time": "2023-08-07T11:25:03.098Z"
   },
   {
    "duration": 650,
    "start_time": "2023-08-07T11:29:08.892Z"
   },
   {
    "duration": 578,
    "start_time": "2023-08-07T11:30:03.064Z"
   },
   {
    "duration": 601,
    "start_time": "2023-08-07T11:30:20.684Z"
   },
   {
    "duration": 529,
    "start_time": "2023-08-07T11:33:46.653Z"
   },
   {
    "duration": 265,
    "start_time": "2023-08-07T11:34:06.238Z"
   },
   {
    "duration": 205,
    "start_time": "2023-08-07T11:46:36.994Z"
   },
   {
    "duration": 217,
    "start_time": "2023-08-07T11:46:51.010Z"
   },
   {
    "duration": 1639,
    "start_time": "2023-08-07T11:47:29.874Z"
   },
   {
    "duration": 1627,
    "start_time": "2023-08-07T11:47:54.178Z"
   },
   {
    "duration": 1621,
    "start_time": "2023-08-07T11:48:21.027Z"
   },
   {
    "duration": 296,
    "start_time": "2023-08-07T11:50:13.396Z"
   },
   {
    "duration": 359,
    "start_time": "2023-08-07T11:50:28.883Z"
   },
   {
    "duration": 16,
    "start_time": "2023-08-07T11:51:04.116Z"
   },
   {
    "duration": 14,
    "start_time": "2023-08-07T11:51:54.628Z"
   },
   {
    "duration": 14,
    "start_time": "2023-08-07T11:52:08.036Z"
   },
   {
    "duration": 392,
    "start_time": "2023-08-07T11:52:14.724Z"
   },
   {
    "duration": 199,
    "start_time": "2023-08-07T11:53:20.660Z"
   },
   {
    "duration": 240,
    "start_time": "2023-08-07T11:53:38.790Z"
   },
   {
    "duration": 1089,
    "start_time": "2023-08-07T11:54:02.613Z"
   },
   {
    "duration": 1244,
    "start_time": "2023-08-07T11:54:52.871Z"
   },
   {
    "duration": 164,
    "start_time": "2023-08-07T11:56:29.162Z"
   },
   {
    "duration": 39506,
    "start_time": "2023-08-07T11:58:09.963Z"
   },
   {
    "duration": 429,
    "start_time": "2023-08-07T11:59:44.574Z"
   },
   {
    "duration": 226,
    "start_time": "2023-08-07T12:36:50.042Z"
   },
   {
    "duration": 17,
    "start_time": "2023-08-07T12:38:14.670Z"
   },
   {
    "duration": 432,
    "start_time": "2023-08-07T12:38:33.738Z"
   },
   {
    "duration": 20,
    "start_time": "2023-08-07T12:39:30.891Z"
   },
   {
    "duration": 19,
    "start_time": "2023-08-07T12:39:40.296Z"
   },
   {
    "duration": 1764,
    "start_time": "2023-08-07T12:39:51.033Z"
   },
   {
    "duration": 194,
    "start_time": "2023-08-07T12:43:11.985Z"
   },
   {
    "duration": 444,
    "start_time": "2023-08-07T13:13:29.778Z"
   },
   {
    "duration": 432,
    "start_time": "2023-08-07T13:17:16.053Z"
   },
   {
    "duration": 14,
    "start_time": "2023-08-07T13:17:40.804Z"
   },
   {
    "duration": 25,
    "start_time": "2023-08-07T13:17:54.970Z"
   },
   {
    "duration": 503,
    "start_time": "2023-08-07T13:18:18.325Z"
   },
   {
    "duration": 454,
    "start_time": "2023-08-07T13:18:29.690Z"
   },
   {
    "duration": 5,
    "start_time": "2023-08-07T13:23:05.001Z"
   },
   {
    "duration": 583,
    "start_time": "2023-08-07T13:23:20.503Z"
   },
   {
    "duration": 529,
    "start_time": "2023-08-07T13:23:40.076Z"
   },
   {
    "duration": 7,
    "start_time": "2023-08-07T13:24:14.428Z"
   },
   {
    "duration": 6,
    "start_time": "2023-08-07T13:24:21.586Z"
   },
   {
    "duration": 3036,
    "start_time": "2023-08-07T13:24:31.802Z"
   },
   {
    "duration": 1336,
    "start_time": "2023-08-07T13:46:18.949Z"
   },
   {
    "duration": 74,
    "start_time": "2023-08-07T13:46:20.288Z"
   },
   {
    "duration": 27,
    "start_time": "2023-08-07T13:46:20.364Z"
   },
   {
    "duration": 18,
    "start_time": "2023-08-07T13:46:20.394Z"
   },
   {
    "duration": 56,
    "start_time": "2023-08-07T13:46:20.414Z"
   },
   {
    "duration": 3,
    "start_time": "2023-08-07T13:46:20.472Z"
   },
   {
    "duration": 19,
    "start_time": "2023-08-07T13:46:20.477Z"
   },
   {
    "duration": 26,
    "start_time": "2023-08-07T13:46:20.498Z"
   },
   {
    "duration": 23,
    "start_time": "2023-08-07T13:46:20.525Z"
   },
   {
    "duration": 17,
    "start_time": "2023-08-07T13:46:20.550Z"
   },
   {
    "duration": 37,
    "start_time": "2023-08-07T13:46:20.569Z"
   },
   {
    "duration": 33,
    "start_time": "2023-08-07T13:46:20.608Z"
   },
   {
    "duration": 10,
    "start_time": "2023-08-07T13:46:20.642Z"
   },
   {
    "duration": 12,
    "start_time": "2023-08-07T13:46:20.655Z"
   },
   {
    "duration": 20,
    "start_time": "2023-08-07T13:46:20.668Z"
   },
   {
    "duration": 17,
    "start_time": "2023-08-07T13:46:20.690Z"
   },
   {
    "duration": 17,
    "start_time": "2023-08-07T13:46:20.709Z"
   },
   {
    "duration": 8,
    "start_time": "2023-08-07T13:46:20.727Z"
   },
   {
    "duration": 19,
    "start_time": "2023-08-07T13:46:20.761Z"
   },
   {
    "duration": 29,
    "start_time": "2023-08-07T13:46:20.781Z"
   },
   {
    "duration": 25,
    "start_time": "2023-08-07T13:46:20.812Z"
   },
   {
    "duration": 887,
    "start_time": "2023-08-07T13:46:20.839Z"
   },
   {
    "duration": 5,
    "start_time": "2023-08-07T13:46:21.729Z"
   },
   {
    "duration": 543,
    "start_time": "2023-08-07T13:46:21.736Z"
   },
   {
    "duration": 5,
    "start_time": "2023-08-07T13:46:22.282Z"
   },
   {
    "duration": 371,
    "start_time": "2023-08-07T13:46:22.289Z"
   },
   {
    "duration": 472,
    "start_time": "2023-08-07T13:46:22.662Z"
   },
   {
    "duration": 22,
    "start_time": "2023-08-07T13:46:23.136Z"
   },
   {
    "duration": 686,
    "start_time": "2023-08-07T13:46:23.160Z"
   },
   {
    "duration": 29,
    "start_time": "2023-08-07T13:46:23.848Z"
   },
   {
    "duration": 523,
    "start_time": "2023-08-07T13:46:23.879Z"
   },
   {
    "duration": 323,
    "start_time": "2023-08-07T13:46:24.404Z"
   },
   {
    "duration": 1407,
    "start_time": "2023-08-07T14:20:41.050Z"
   },
   {
    "duration": 70,
    "start_time": "2023-08-07T14:20:42.460Z"
   },
   {
    "duration": 26,
    "start_time": "2023-08-07T14:20:42.532Z"
   },
   {
    "duration": 14,
    "start_time": "2023-08-07T14:20:42.561Z"
   },
   {
    "duration": 54,
    "start_time": "2023-08-07T14:20:42.577Z"
   },
   {
    "duration": 2,
    "start_time": "2023-08-07T14:20:42.633Z"
   },
   {
    "duration": 29,
    "start_time": "2023-08-07T14:20:42.637Z"
   },
   {
    "duration": 9,
    "start_time": "2023-08-07T14:20:42.670Z"
   },
   {
    "duration": 14,
    "start_time": "2023-08-07T14:20:42.681Z"
   },
   {
    "duration": 12,
    "start_time": "2023-08-07T14:20:42.698Z"
   },
   {
    "duration": 21,
    "start_time": "2023-08-07T14:20:42.711Z"
   },
   {
    "duration": 8,
    "start_time": "2023-08-07T14:20:42.734Z"
   },
   {
    "duration": 18,
    "start_time": "2023-08-07T14:20:42.744Z"
   },
   {
    "duration": 20,
    "start_time": "2023-08-07T14:20:42.765Z"
   },
   {
    "duration": 6,
    "start_time": "2023-08-07T14:20:42.786Z"
   },
   {
    "duration": 24,
    "start_time": "2023-08-07T14:20:42.794Z"
   },
   {
    "duration": 60,
    "start_time": "2023-08-07T14:20:42.820Z"
   },
   {
    "duration": 19,
    "start_time": "2023-08-07T14:20:42.882Z"
   },
   {
    "duration": 14,
    "start_time": "2023-08-07T14:20:42.902Z"
   },
   {
    "duration": 10,
    "start_time": "2023-08-07T14:20:42.918Z"
   },
   {
    "duration": 40,
    "start_time": "2023-08-07T14:20:42.930Z"
   },
   {
    "duration": 951,
    "start_time": "2023-08-07T14:20:42.973Z"
   },
   {
    "duration": 7,
    "start_time": "2023-08-07T14:20:43.926Z"
   },
   {
    "duration": 519,
    "start_time": "2023-08-07T14:20:43.935Z"
   },
   {
    "duration": 4,
    "start_time": "2023-08-07T14:20:44.456Z"
   },
   {
    "duration": 442,
    "start_time": "2023-08-07T14:20:44.463Z"
   },
   {
    "duration": 522,
    "start_time": "2023-08-07T14:20:44.907Z"
   },
   {
    "duration": 35,
    "start_time": "2023-08-07T14:20:45.432Z"
   },
   {
    "duration": 695,
    "start_time": "2023-08-07T14:20:45.469Z"
   },
   {
    "duration": 27,
    "start_time": "2023-08-07T14:20:46.166Z"
   },
   {
    "duration": 567,
    "start_time": "2023-08-07T14:20:46.195Z"
   },
   {
    "duration": 327,
    "start_time": "2023-08-07T14:20:46.765Z"
   },
   {
    "duration": 69,
    "start_time": "2023-08-07T18:42:53.336Z"
   },
   {
    "duration": 1688,
    "start_time": "2023-08-07T18:43:13.872Z"
   },
   {
    "duration": 105,
    "start_time": "2023-08-07T18:43:15.566Z"
   },
   {
    "duration": 28,
    "start_time": "2023-08-07T18:43:15.678Z"
   },
   {
    "duration": 37,
    "start_time": "2023-08-07T18:43:15.708Z"
   },
   {
    "duration": 103,
    "start_time": "2023-08-07T18:43:15.748Z"
   },
   {
    "duration": 2,
    "start_time": "2023-08-07T18:43:15.853Z"
   },
   {
    "duration": 6,
    "start_time": "2023-08-07T18:43:15.857Z"
   },
   {
    "duration": 58,
    "start_time": "2023-08-07T18:43:15.865Z"
   },
   {
    "duration": 16,
    "start_time": "2023-08-07T18:43:15.925Z"
   },
   {
    "duration": 81,
    "start_time": "2023-08-07T18:43:15.943Z"
   },
   {
    "duration": 24,
    "start_time": "2023-08-07T18:43:16.026Z"
   },
   {
    "duration": 63,
    "start_time": "2023-08-07T18:43:16.051Z"
   },
   {
    "duration": 36,
    "start_time": "2023-08-07T18:43:16.116Z"
   },
   {
    "duration": 62,
    "start_time": "2023-08-07T18:43:16.155Z"
   },
   {
    "duration": 14,
    "start_time": "2023-08-07T18:43:16.218Z"
   },
   {
    "duration": 70,
    "start_time": "2023-08-07T18:43:16.234Z"
   },
   {
    "duration": 27,
    "start_time": "2023-08-07T18:43:16.306Z"
   },
   {
    "duration": 63,
    "start_time": "2023-08-07T18:43:16.335Z"
   },
   {
    "duration": 46,
    "start_time": "2023-08-07T18:43:16.400Z"
   },
   {
    "duration": 56,
    "start_time": "2023-08-07T18:43:16.448Z"
   },
   {
    "duration": 102,
    "start_time": "2023-08-07T18:43:16.506Z"
   },
   {
    "duration": 0,
    "start_time": "2023-08-07T18:43:16.609Z"
   },
   {
    "duration": 0,
    "start_time": "2023-08-07T18:43:16.611Z"
   },
   {
    "duration": 0,
    "start_time": "2023-08-07T18:43:16.613Z"
   },
   {
    "duration": 0,
    "start_time": "2023-08-07T18:43:16.615Z"
   },
   {
    "duration": 0,
    "start_time": "2023-08-07T18:43:16.616Z"
   },
   {
    "duration": 0,
    "start_time": "2023-08-07T18:43:16.618Z"
   },
   {
    "duration": 0,
    "start_time": "2023-08-07T18:43:16.619Z"
   },
   {
    "duration": 0,
    "start_time": "2023-08-07T18:43:16.620Z"
   },
   {
    "duration": 0,
    "start_time": "2023-08-07T18:43:16.621Z"
   },
   {
    "duration": 0,
    "start_time": "2023-08-07T18:43:16.622Z"
   },
   {
    "duration": 0,
    "start_time": "2023-08-07T18:43:16.623Z"
   },
   {
    "duration": 0,
    "start_time": "2023-08-07T18:43:16.625Z"
   },
   {
    "duration": 46,
    "start_time": "2023-08-07T18:43:56.925Z"
   },
   {
    "duration": 129,
    "start_time": "2023-08-07T18:45:25.935Z"
   },
   {
    "duration": 10,
    "start_time": "2023-08-07T18:45:30.717Z"
   },
   {
    "duration": 11,
    "start_time": "2023-08-07T18:46:18.605Z"
   },
   {
    "duration": 29,
    "start_time": "2023-08-07T18:47:00.815Z"
   },
   {
    "duration": 25,
    "start_time": "2023-08-07T18:51:51.698Z"
   },
   {
    "duration": 14,
    "start_time": "2023-08-07T18:59:39.424Z"
   },
   {
    "duration": 22,
    "start_time": "2023-08-07T18:59:46.313Z"
   },
   {
    "duration": 25,
    "start_time": "2023-08-07T19:03:03.966Z"
   },
   {
    "duration": 864,
    "start_time": "2023-08-07T19:13:15.655Z"
   },
   {
    "duration": 5,
    "start_time": "2023-08-07T19:13:21.965Z"
   },
   {
    "duration": 457,
    "start_time": "2023-08-07T19:13:22.732Z"
   },
   {
    "duration": 4,
    "start_time": "2023-08-07T19:13:24.464Z"
   },
   {
    "duration": 378,
    "start_time": "2023-08-07T19:13:25.165Z"
   },
   {
    "duration": 796,
    "start_time": "2023-08-07T19:22:51.102Z"
   },
   {
    "duration": 785,
    "start_time": "2023-08-07T19:23:41.424Z"
   },
   {
    "duration": 464,
    "start_time": "2023-08-07T19:26:07.776Z"
   },
   {
    "duration": 456,
    "start_time": "2023-08-07T19:26:25.850Z"
   },
   {
    "duration": 563,
    "start_time": "2023-08-07T19:28:29.360Z"
   },
   {
    "duration": 411,
    "start_time": "2023-08-07T19:32:52.994Z"
   },
   {
    "duration": 388,
    "start_time": "2023-08-07T19:33:58.723Z"
   },
   {
    "duration": 428,
    "start_time": "2023-08-07T19:34:32.418Z"
   },
   {
    "duration": 445,
    "start_time": "2023-08-07T19:36:16.787Z"
   },
   {
    "duration": 480,
    "start_time": "2023-08-07T19:36:33.876Z"
   },
   {
    "duration": 5693,
    "start_time": "2023-08-07T19:39:25.658Z"
   },
   {
    "duration": 411,
    "start_time": "2023-08-07T19:42:35.478Z"
   },
   {
    "duration": 8085,
    "start_time": "2023-08-07T19:43:20.759Z"
   },
   {
    "duration": 655,
    "start_time": "2023-08-07T19:43:52.135Z"
   },
   {
    "duration": 1183,
    "start_time": "2023-08-07T19:46:06.921Z"
   },
   {
    "duration": 1295,
    "start_time": "2023-08-07T19:47:17.640Z"
   },
   {
    "duration": 60,
    "start_time": "2023-08-13T04:33:29.356Z"
   },
   {
    "duration": 3935,
    "start_time": "2023-08-13T04:33:35.396Z"
   },
   {
    "duration": 2037,
    "start_time": "2023-08-13T04:33:39.333Z"
   },
   {
    "duration": 117,
    "start_time": "2023-08-13T04:33:41.372Z"
   },
   {
    "duration": 33,
    "start_time": "2023-08-13T04:33:41.491Z"
   },
   {
    "duration": 37,
    "start_time": "2023-08-13T04:33:41.526Z"
   },
   {
    "duration": 68,
    "start_time": "2023-08-13T04:33:41.565Z"
   },
   {
    "duration": 19,
    "start_time": "2023-08-13T04:33:41.636Z"
   },
   {
    "duration": 38,
    "start_time": "2023-08-13T04:33:41.657Z"
   },
   {
    "duration": 38,
    "start_time": "2023-08-13T04:33:41.698Z"
   },
   {
    "duration": 40,
    "start_time": "2023-08-13T04:33:41.740Z"
   },
   {
    "duration": 35,
    "start_time": "2023-08-13T04:33:41.781Z"
   },
   {
    "duration": 44,
    "start_time": "2023-08-13T04:33:41.818Z"
   },
   {
    "duration": 65,
    "start_time": "2023-08-13T04:33:41.864Z"
   },
   {
    "duration": 54,
    "start_time": "2023-08-13T04:33:41.931Z"
   },
   {
    "duration": 51,
    "start_time": "2023-08-13T04:33:41.986Z"
   },
   {
    "duration": 52,
    "start_time": "2023-08-13T04:33:42.039Z"
   },
   {
    "duration": 43,
    "start_time": "2023-08-13T04:33:42.093Z"
   },
   {
    "duration": 38,
    "start_time": "2023-08-13T04:33:42.137Z"
   },
   {
    "duration": 73,
    "start_time": "2023-08-13T04:33:42.177Z"
   },
   {
    "duration": 92,
    "start_time": "2023-08-13T04:33:42.252Z"
   },
   {
    "duration": 36,
    "start_time": "2023-08-13T04:33:42.346Z"
   },
   {
    "duration": 31,
    "start_time": "2023-08-13T04:33:42.384Z"
   },
   {
    "duration": 70,
    "start_time": "2023-08-13T04:33:42.417Z"
   },
   {
    "duration": 64,
    "start_time": "2023-08-13T04:33:42.488Z"
   },
   {
    "duration": 8,
    "start_time": "2023-08-13T04:33:42.554Z"
   },
   {
    "duration": 59,
    "start_time": "2023-08-13T04:33:42.564Z"
   },
   {
    "duration": 269,
    "start_time": "2023-08-13T04:33:42.625Z"
   },
   {
    "duration": 191,
    "start_time": "2023-08-13T04:33:42.900Z"
   },
   {
    "duration": 175,
    "start_time": "2023-08-13T04:33:43.092Z"
   },
   {
    "duration": 187,
    "start_time": "2023-08-13T04:33:43.269Z"
   },
   {
    "duration": 262,
    "start_time": "2023-08-13T04:33:43.458Z"
   },
   {
    "duration": 463,
    "start_time": "2023-08-13T04:33:43.722Z"
   },
   {
    "duration": 366,
    "start_time": "2023-08-13T04:33:44.186Z"
   },
   {
    "duration": 1416,
    "start_time": "2023-08-13T04:33:44.553Z"
   },
   {
    "duration": 800,
    "start_time": "2023-08-13T04:33:45.971Z"
   },
   {
    "duration": 860,
    "start_time": "2023-08-13T04:33:46.773Z"
   },
   {
    "duration": 118,
    "start_time": "2023-08-13T04:33:47.635Z"
   },
   {
    "duration": 10,
    "start_time": "2023-08-13T04:33:47.754Z"
   },
   {
    "duration": 133,
    "start_time": "2023-08-13T04:33:47.765Z"
   },
   {
    "duration": 706,
    "start_time": "2023-08-13T04:33:47.900Z"
   },
   {
    "duration": 1435,
    "start_time": "2023-08-13T04:33:48.608Z"
   },
   {
    "duration": 282,
    "start_time": "2023-08-13T04:33:50.045Z"
   },
   {
    "duration": 17,
    "start_time": "2023-08-13T04:33:50.329Z"
   },
   {
    "duration": 22,
    "start_time": "2023-08-13T04:33:50.348Z"
   },
   {
    "duration": 61,
    "start_time": "2023-08-13T04:33:50.371Z"
   },
   {
    "duration": 43,
    "start_time": "2023-08-13T04:33:50.435Z"
   },
   {
    "duration": 25,
    "start_time": "2023-08-13T04:33:50.480Z"
   },
   {
    "duration": 53,
    "start_time": "2023-08-13T04:33:50.508Z"
   },
   {
    "duration": 83,
    "start_time": "2023-08-13T04:33:50.563Z"
   },
   {
    "duration": 76,
    "start_time": "2023-08-13T04:33:50.647Z"
   },
   {
    "duration": 39,
    "start_time": "2023-08-13T04:33:50.725Z"
   },
   {
    "duration": 49,
    "start_time": "2023-08-13T04:33:50.766Z"
   },
   {
    "duration": 30,
    "start_time": "2023-08-13T04:33:50.817Z"
   },
   {
    "duration": 42,
    "start_time": "2023-08-13T04:33:50.848Z"
   },
   {
    "duration": 85,
    "start_time": "2023-08-13T04:33:50.892Z"
   },
   {
    "duration": 82,
    "start_time": "2023-08-13T04:33:50.979Z"
   },
   {
    "duration": 50,
    "start_time": "2023-08-13T04:33:51.063Z"
   },
   {
    "duration": 30,
    "start_time": "2023-08-13T04:33:51.115Z"
   },
   {
    "duration": 123,
    "start_time": "2023-08-13T04:34:13.308Z"
   },
   {
    "duration": 129,
    "start_time": "2023-08-13T04:34:57.418Z"
   },
   {
    "duration": 237,
    "start_time": "2023-08-13T04:35:19.318Z"
   },
   {
    "duration": 125,
    "start_time": "2023-08-13T04:36:11.917Z"
   },
   {
    "duration": 2271,
    "start_time": "2023-08-13T04:43:40.060Z"
   },
   {
    "duration": 2019,
    "start_time": "2023-08-13T04:43:42.333Z"
   },
   {
    "duration": 67,
    "start_time": "2023-08-13T04:43:44.354Z"
   },
   {
    "duration": 25,
    "start_time": "2023-08-13T04:43:44.424Z"
   },
   {
    "duration": 13,
    "start_time": "2023-08-13T04:43:44.451Z"
   },
   {
    "duration": 53,
    "start_time": "2023-08-13T04:43:44.466Z"
   },
   {
    "duration": 3,
    "start_time": "2023-08-13T04:43:44.521Z"
   },
   {
    "duration": 11,
    "start_time": "2023-08-13T04:43:44.526Z"
   },
   {
    "duration": 6,
    "start_time": "2023-08-13T04:43:44.538Z"
   },
   {
    "duration": 7,
    "start_time": "2023-08-13T04:43:44.547Z"
   },
   {
    "duration": 11,
    "start_time": "2023-08-13T04:43:44.556Z"
   },
   {
    "duration": 27,
    "start_time": "2023-08-13T04:43:44.568Z"
   },
   {
    "duration": 16,
    "start_time": "2023-08-13T04:43:44.597Z"
   },
   {
    "duration": 8,
    "start_time": "2023-08-13T04:43:44.615Z"
   },
   {
    "duration": 12,
    "start_time": "2023-08-13T04:43:44.624Z"
   },
   {
    "duration": 5,
    "start_time": "2023-08-13T04:43:44.637Z"
   },
   {
    "duration": 52,
    "start_time": "2023-08-13T04:43:44.644Z"
   },
   {
    "duration": 16,
    "start_time": "2023-08-13T04:43:44.698Z"
   },
   {
    "duration": 9,
    "start_time": "2023-08-13T04:43:44.716Z"
   },
   {
    "duration": 31,
    "start_time": "2023-08-13T04:43:44.726Z"
   },
   {
    "duration": 46,
    "start_time": "2023-08-13T04:43:44.759Z"
   },
   {
    "duration": 8,
    "start_time": "2023-08-13T04:43:44.806Z"
   },
   {
    "duration": 26,
    "start_time": "2023-08-13T04:43:44.815Z"
   },
   {
    "duration": 25,
    "start_time": "2023-08-13T04:43:44.843Z"
   },
   {
    "duration": 31,
    "start_time": "2023-08-13T04:43:44.869Z"
   },
   {
    "duration": 11,
    "start_time": "2023-08-13T04:43:44.901Z"
   },
   {
    "duration": 190,
    "start_time": "2023-08-13T04:43:44.914Z"
   },
   {
    "duration": 180,
    "start_time": "2023-08-13T04:43:45.109Z"
   },
   {
    "duration": 152,
    "start_time": "2023-08-13T04:43:45.295Z"
   },
   {
    "duration": 177,
    "start_time": "2023-08-13T04:43:45.449Z"
   },
   {
    "duration": 224,
    "start_time": "2023-08-13T04:43:45.627Z"
   },
   {
    "duration": 405,
    "start_time": "2023-08-13T04:43:45.853Z"
   },
   {
    "duration": 324,
    "start_time": "2023-08-13T04:43:46.260Z"
   },
   {
    "duration": 1324,
    "start_time": "2023-08-13T04:43:46.586Z"
   },
   {
    "duration": 742,
    "start_time": "2023-08-13T04:43:47.912Z"
   },
   {
    "duration": 864,
    "start_time": "2023-08-13T04:43:48.656Z"
   },
   {
    "duration": 114,
    "start_time": "2023-08-13T04:43:49.521Z"
   },
   {
    "duration": 11,
    "start_time": "2023-08-13T04:43:49.636Z"
   },
   {
    "duration": 71,
    "start_time": "2023-08-13T04:43:49.648Z"
   },
   {
    "duration": 675,
    "start_time": "2023-08-13T04:43:49.721Z"
   },
   {
    "duration": 1353,
    "start_time": "2023-08-13T04:43:50.398Z"
   },
   {
    "duration": 267,
    "start_time": "2023-08-13T04:43:51.753Z"
   },
   {
    "duration": 15,
    "start_time": "2023-08-13T04:43:52.022Z"
   },
   {
    "duration": 16,
    "start_time": "2023-08-13T04:43:52.038Z"
   },
   {
    "duration": 11,
    "start_time": "2023-08-13T04:43:52.056Z"
   },
   {
    "duration": 6,
    "start_time": "2023-08-13T04:43:52.069Z"
   },
   {
    "duration": 577,
    "start_time": "2023-08-13T04:43:52.076Z"
   },
   {
    "duration": 198,
    "start_time": "2023-08-13T04:43:52.655Z"
   },
   {
    "duration": 0,
    "start_time": "2023-08-13T04:43:52.855Z"
   },
   {
    "duration": 0,
    "start_time": "2023-08-13T04:43:52.856Z"
   },
   {
    "duration": 0,
    "start_time": "2023-08-13T04:43:52.857Z"
   },
   {
    "duration": 0,
    "start_time": "2023-08-13T04:43:52.858Z"
   },
   {
    "duration": 0,
    "start_time": "2023-08-13T04:43:52.859Z"
   },
   {
    "duration": 0,
    "start_time": "2023-08-13T04:43:52.860Z"
   },
   {
    "duration": 0,
    "start_time": "2023-08-13T04:43:52.861Z"
   },
   {
    "duration": 0,
    "start_time": "2023-08-13T04:43:52.861Z"
   },
   {
    "duration": 0,
    "start_time": "2023-08-13T04:43:52.862Z"
   },
   {
    "duration": 0,
    "start_time": "2023-08-13T04:43:52.864Z"
   },
   {
    "duration": 0,
    "start_time": "2023-08-13T04:43:52.864Z"
   },
   {
    "duration": 0,
    "start_time": "2023-08-13T04:43:52.865Z"
   },
   {
    "duration": 0,
    "start_time": "2023-08-13T04:43:52.866Z"
   },
   {
    "duration": 4,
    "start_time": "2023-08-13T04:43:59.119Z"
   },
   {
    "duration": 4,
    "start_time": "2023-08-13T04:44:05.889Z"
   },
   {
    "duration": 3,
    "start_time": "2023-08-13T04:47:17.848Z"
   },
   {
    "duration": 107,
    "start_time": "2023-08-13T04:48:27.849Z"
   },
   {
    "duration": 11,
    "start_time": "2023-08-13T04:48:31.318Z"
   },
   {
    "duration": 4,
    "start_time": "2023-08-13T04:48:36.810Z"
   },
   {
    "duration": 17,
    "start_time": "2023-08-13T04:48:40.479Z"
   },
   {
    "duration": 13,
    "start_time": "2023-08-13T04:49:10.581Z"
   },
   {
    "duration": 6,
    "start_time": "2023-08-13T04:50:42.161Z"
   },
   {
    "duration": 4,
    "start_time": "2023-08-13T04:51:29.241Z"
   },
   {
    "duration": 20,
    "start_time": "2023-08-13T04:52:39.446Z"
   },
   {
    "duration": 9,
    "start_time": "2023-08-13T04:52:40.521Z"
   },
   {
    "duration": 5,
    "start_time": "2023-08-13T04:52:44.702Z"
   },
   {
    "duration": 5,
    "start_time": "2023-08-13T04:52:49.896Z"
   },
   {
    "duration": 17,
    "start_time": "2023-08-13T04:52:51.151Z"
   },
   {
    "duration": 2496,
    "start_time": "2023-08-13T04:54:36.403Z"
   },
   {
    "duration": 1948,
    "start_time": "2023-08-13T04:54:38.901Z"
   },
   {
    "duration": 63,
    "start_time": "2023-08-13T04:54:40.851Z"
   },
   {
    "duration": 24,
    "start_time": "2023-08-13T04:54:40.916Z"
   },
   {
    "duration": 12,
    "start_time": "2023-08-13T04:54:40.943Z"
   },
   {
    "duration": 58,
    "start_time": "2023-08-13T04:54:40.957Z"
   },
   {
    "duration": 2,
    "start_time": "2023-08-13T04:54:41.017Z"
   },
   {
    "duration": 16,
    "start_time": "2023-08-13T04:54:41.021Z"
   },
   {
    "duration": 8,
    "start_time": "2023-08-13T04:54:41.038Z"
   },
   {
    "duration": 15,
    "start_time": "2023-08-13T04:54:41.048Z"
   },
   {
    "duration": 12,
    "start_time": "2023-08-13T04:54:41.064Z"
   },
   {
    "duration": 7,
    "start_time": "2023-08-13T04:54:41.078Z"
   },
   {
    "duration": 24,
    "start_time": "2023-08-13T04:54:41.087Z"
   },
   {
    "duration": 7,
    "start_time": "2023-08-13T04:54:41.114Z"
   },
   {
    "duration": 15,
    "start_time": "2023-08-13T04:54:41.122Z"
   },
   {
    "duration": 8,
    "start_time": "2023-08-13T04:54:41.138Z"
   },
   {
    "duration": 16,
    "start_time": "2023-08-13T04:54:41.147Z"
   },
   {
    "duration": 38,
    "start_time": "2023-08-13T04:54:41.164Z"
   },
   {
    "duration": 7,
    "start_time": "2023-08-13T04:54:41.204Z"
   },
   {
    "duration": 33,
    "start_time": "2023-08-13T04:54:41.213Z"
   },
   {
    "duration": 24,
    "start_time": "2023-08-13T04:54:41.248Z"
   },
   {
    "duration": 24,
    "start_time": "2023-08-13T04:54:41.274Z"
   },
   {
    "duration": 29,
    "start_time": "2023-08-13T04:54:41.300Z"
   },
   {
    "duration": 25,
    "start_time": "2023-08-13T04:54:41.331Z"
   },
   {
    "duration": 7,
    "start_time": "2023-08-13T04:54:41.357Z"
   },
   {
    "duration": 32,
    "start_time": "2023-08-13T04:54:41.366Z"
   },
   {
    "duration": 188,
    "start_time": "2023-08-13T04:54:41.400Z"
   },
   {
    "duration": 212,
    "start_time": "2023-08-13T04:54:41.594Z"
   },
   {
    "duration": 142,
    "start_time": "2023-08-13T04:54:41.808Z"
   },
   {
    "duration": 195,
    "start_time": "2023-08-13T04:54:41.951Z"
   },
   {
    "duration": 267,
    "start_time": "2023-08-13T04:54:42.148Z"
   },
   {
    "duration": 472,
    "start_time": "2023-08-13T04:54:42.417Z"
   },
   {
    "duration": 368,
    "start_time": "2023-08-13T04:54:42.895Z"
   },
   {
    "duration": 1401,
    "start_time": "2023-08-13T04:54:43.265Z"
   },
   {
    "duration": 725,
    "start_time": "2023-08-13T04:54:44.668Z"
   },
   {
    "duration": 792,
    "start_time": "2023-08-13T04:54:45.395Z"
   },
   {
    "duration": 108,
    "start_time": "2023-08-13T04:54:46.188Z"
   },
   {
    "duration": 10,
    "start_time": "2023-08-13T04:54:46.297Z"
   },
   {
    "duration": 75,
    "start_time": "2023-08-13T04:54:46.309Z"
   },
   {
    "duration": 693,
    "start_time": "2023-08-13T04:54:46.386Z"
   },
   {
    "duration": 1436,
    "start_time": "2023-08-13T04:54:47.083Z"
   },
   {
    "duration": 277,
    "start_time": "2023-08-13T04:54:48.521Z"
   },
   {
    "duration": 15,
    "start_time": "2023-08-13T04:54:48.800Z"
   },
   {
    "duration": 7,
    "start_time": "2023-08-13T04:54:48.817Z"
   },
   {
    "duration": 19,
    "start_time": "2023-08-13T04:54:48.826Z"
   },
   {
    "duration": 9,
    "start_time": "2023-08-13T04:54:48.847Z"
   },
   {
    "duration": 32,
    "start_time": "2023-08-13T04:54:48.858Z"
   },
   {
    "duration": 14,
    "start_time": "2023-08-13T04:54:48.891Z"
   },
   {
    "duration": 42,
    "start_time": "2023-08-13T04:54:48.907Z"
   },
   {
    "duration": 14,
    "start_time": "2023-08-13T04:54:48.950Z"
   },
   {
    "duration": 15,
    "start_time": "2023-08-13T04:54:48.966Z"
   },
   {
    "duration": 17,
    "start_time": "2023-08-13T04:54:48.983Z"
   },
   {
    "duration": 29,
    "start_time": "2023-08-13T04:54:49.001Z"
   },
   {
    "duration": 3,
    "start_time": "2023-08-13T04:54:49.032Z"
   },
   {
    "duration": 13,
    "start_time": "2023-08-13T04:54:49.037Z"
   },
   {
    "duration": 11,
    "start_time": "2023-08-13T04:54:49.052Z"
   },
   {
    "duration": 11,
    "start_time": "2023-08-13T04:54:49.064Z"
   },
   {
    "duration": 44,
    "start_time": "2023-08-13T04:54:49.076Z"
   },
   {
    "duration": 40,
    "start_time": "2023-08-13T04:54:49.121Z"
   },
   {
    "duration": 51,
    "start_time": "2023-08-13T04:54:49.162Z"
   },
   {
    "duration": 8,
    "start_time": "2023-08-13T04:54:49.215Z"
   },
   {
    "duration": 3318,
    "start_time": "2023-08-13T06:33:16.631Z"
   },
   {
    "duration": 1688,
    "start_time": "2023-08-13T06:33:19.952Z"
   },
   {
    "duration": 78,
    "start_time": "2023-08-13T06:33:21.643Z"
   },
   {
    "duration": 27,
    "start_time": "2023-08-13T06:33:21.724Z"
   },
   {
    "duration": 15,
    "start_time": "2023-08-13T06:33:21.753Z"
   },
   {
    "duration": 64,
    "start_time": "2023-08-13T06:33:21.770Z"
   },
   {
    "duration": 3,
    "start_time": "2023-08-13T06:33:21.836Z"
   },
   {
    "duration": 19,
    "start_time": "2023-08-13T06:33:21.840Z"
   },
   {
    "duration": 28,
    "start_time": "2023-08-13T06:33:21.861Z"
   },
   {
    "duration": 37,
    "start_time": "2023-08-13T06:33:21.891Z"
   },
   {
    "duration": 46,
    "start_time": "2023-08-13T06:33:21.929Z"
   },
   {
    "duration": 36,
    "start_time": "2023-08-13T06:33:21.977Z"
   },
   {
    "duration": 41,
    "start_time": "2023-08-13T06:33:22.015Z"
   },
   {
    "duration": 12,
    "start_time": "2023-08-13T06:33:22.058Z"
   },
   {
    "duration": 22,
    "start_time": "2023-08-13T06:33:22.072Z"
   },
   {
    "duration": 10,
    "start_time": "2023-08-13T06:33:22.096Z"
   },
   {
    "duration": 27,
    "start_time": "2023-08-13T06:33:22.107Z"
   },
   {
    "duration": 17,
    "start_time": "2023-08-13T06:33:22.136Z"
   },
   {
    "duration": 16,
    "start_time": "2023-08-13T06:33:22.155Z"
   },
   {
    "duration": 37,
    "start_time": "2023-08-13T06:33:22.172Z"
   },
   {
    "duration": 25,
    "start_time": "2023-08-13T06:33:22.210Z"
   },
   {
    "duration": 49,
    "start_time": "2023-08-13T06:33:22.237Z"
   },
   {
    "duration": 35,
    "start_time": "2023-08-13T06:33:22.288Z"
   },
   {
    "duration": 26,
    "start_time": "2023-08-13T06:33:22.325Z"
   },
   {
    "duration": 16,
    "start_time": "2023-08-13T06:33:22.352Z"
   },
   {
    "duration": 17,
    "start_time": "2023-08-13T06:33:22.370Z"
   },
   {
    "duration": 198,
    "start_time": "2023-08-13T06:33:22.389Z"
   },
   {
    "duration": 183,
    "start_time": "2023-08-13T06:33:22.591Z"
   },
   {
    "duration": 144,
    "start_time": "2023-08-13T06:33:22.775Z"
   },
   {
    "duration": 179,
    "start_time": "2023-08-13T06:33:22.921Z"
   },
   {
    "duration": 263,
    "start_time": "2023-08-13T06:33:23.108Z"
   },
   {
    "duration": 471,
    "start_time": "2023-08-13T06:33:23.373Z"
   },
   {
    "duration": 345,
    "start_time": "2023-08-13T06:33:23.846Z"
   },
   {
    "duration": 1372,
    "start_time": "2023-08-13T06:33:24.193Z"
   },
   {
    "duration": 799,
    "start_time": "2023-08-13T06:33:25.567Z"
   },
   {
    "duration": 859,
    "start_time": "2023-08-13T06:33:26.368Z"
   },
   {
    "duration": 119,
    "start_time": "2023-08-13T06:33:27.228Z"
   },
   {
    "duration": 11,
    "start_time": "2023-08-13T06:33:27.348Z"
   },
   {
    "duration": 73,
    "start_time": "2023-08-13T06:33:27.361Z"
   },
   {
    "duration": 721,
    "start_time": "2023-08-13T06:33:27.436Z"
   },
   {
    "duration": 1484,
    "start_time": "2023-08-13T06:33:28.159Z"
   },
   {
    "duration": 291,
    "start_time": "2023-08-13T06:33:29.644Z"
   },
   {
    "duration": 18,
    "start_time": "2023-08-13T06:33:29.937Z"
   },
   {
    "duration": 26,
    "start_time": "2023-08-13T06:33:29.957Z"
   },
   {
    "duration": 9,
    "start_time": "2023-08-13T06:33:29.986Z"
   },
   {
    "duration": 24,
    "start_time": "2023-08-13T06:33:29.997Z"
   },
   {
    "duration": 48,
    "start_time": "2023-08-13T06:33:30.023Z"
   },
   {
    "duration": 18,
    "start_time": "2023-08-13T06:33:30.073Z"
   },
   {
    "duration": 32,
    "start_time": "2023-08-13T06:33:30.093Z"
   },
   {
    "duration": 19,
    "start_time": "2023-08-13T06:33:30.127Z"
   },
   {
    "duration": 23,
    "start_time": "2023-08-13T06:33:30.148Z"
   },
   {
    "duration": 32,
    "start_time": "2023-08-13T06:33:30.173Z"
   },
   {
    "duration": 30,
    "start_time": "2023-08-13T06:33:30.207Z"
   },
   {
    "duration": 22,
    "start_time": "2023-08-13T06:33:30.239Z"
   },
   {
    "duration": 36,
    "start_time": "2023-08-13T06:33:30.264Z"
   },
   {
    "duration": 47,
    "start_time": "2023-08-13T06:33:30.302Z"
   },
   {
    "duration": 27,
    "start_time": "2023-08-13T06:33:30.351Z"
   },
   {
    "duration": 55,
    "start_time": "2023-08-13T06:33:30.380Z"
   },
   {
    "duration": 40,
    "start_time": "2023-08-13T06:33:30.437Z"
   },
   {
    "duration": 66,
    "start_time": "2023-08-13T06:33:30.479Z"
   },
   {
    "duration": 48,
    "start_time": "2023-08-13T06:33:30.547Z"
   },
   {
    "duration": 2196,
    "start_time": "2023-08-13T06:35:09.457Z"
   },
   {
    "duration": 1630,
    "start_time": "2023-08-13T06:35:11.656Z"
   },
   {
    "duration": 61,
    "start_time": "2023-08-13T06:35:13.290Z"
   },
   {
    "duration": 26,
    "start_time": "2023-08-13T06:35:13.353Z"
   },
   {
    "duration": 14,
    "start_time": "2023-08-13T06:35:13.381Z"
   },
   {
    "duration": 45,
    "start_time": "2023-08-13T06:35:13.397Z"
   },
   {
    "duration": 2,
    "start_time": "2023-08-13T06:35:13.445Z"
   },
   {
    "duration": 11,
    "start_time": "2023-08-13T06:35:13.449Z"
   },
   {
    "duration": 13,
    "start_time": "2023-08-13T06:35:13.462Z"
   },
   {
    "duration": 11,
    "start_time": "2023-08-13T06:35:13.477Z"
   },
   {
    "duration": 21,
    "start_time": "2023-08-13T06:35:13.491Z"
   },
   {
    "duration": 7,
    "start_time": "2023-08-13T06:35:13.515Z"
   },
   {
    "duration": 24,
    "start_time": "2023-08-13T06:35:13.525Z"
   },
   {
    "duration": 20,
    "start_time": "2023-08-13T06:35:13.551Z"
   },
   {
    "duration": 13,
    "start_time": "2023-08-13T06:35:13.573Z"
   },
   {
    "duration": 24,
    "start_time": "2023-08-13T06:35:13.588Z"
   },
   {
    "duration": 26,
    "start_time": "2023-08-13T06:35:13.614Z"
   },
   {
    "duration": 19,
    "start_time": "2023-08-13T06:35:13.642Z"
   },
   {
    "duration": 7,
    "start_time": "2023-08-13T06:35:13.663Z"
   },
   {
    "duration": 54,
    "start_time": "2023-08-13T06:35:13.672Z"
   },
   {
    "duration": 31,
    "start_time": "2023-08-13T06:35:13.728Z"
   },
   {
    "duration": 9,
    "start_time": "2023-08-13T06:35:13.763Z"
   },
   {
    "duration": 55,
    "start_time": "2023-08-13T06:35:13.773Z"
   },
   {
    "duration": 27,
    "start_time": "2023-08-13T06:35:13.829Z"
   },
   {
    "duration": 8,
    "start_time": "2023-08-13T06:35:13.858Z"
   },
   {
    "duration": 13,
    "start_time": "2023-08-13T06:35:13.867Z"
   },
   {
    "duration": 210,
    "start_time": "2023-08-13T06:35:13.881Z"
   },
   {
    "duration": 183,
    "start_time": "2023-08-13T06:35:14.093Z"
   },
   {
    "duration": 145,
    "start_time": "2023-08-13T06:35:14.278Z"
   },
   {
    "duration": 191,
    "start_time": "2023-08-13T06:35:14.425Z"
   },
   {
    "duration": 276,
    "start_time": "2023-08-13T06:35:14.618Z"
   },
   {
    "duration": 445,
    "start_time": "2023-08-13T06:35:14.896Z"
   },
   {
    "duration": 363,
    "start_time": "2023-08-13T06:35:15.343Z"
   },
   {
    "duration": 1435,
    "start_time": "2023-08-13T06:35:15.708Z"
   },
   {
    "duration": 748,
    "start_time": "2023-08-13T06:35:17.145Z"
   },
   {
    "duration": 862,
    "start_time": "2023-08-13T06:35:17.895Z"
   },
   {
    "duration": 117,
    "start_time": "2023-08-13T06:35:18.759Z"
   },
   {
    "duration": 11,
    "start_time": "2023-08-13T06:35:18.878Z"
   },
   {
    "duration": 53,
    "start_time": "2023-08-13T06:35:18.910Z"
   },
   {
    "duration": 795,
    "start_time": "2023-08-13T06:35:18.967Z"
   },
   {
    "duration": 1543,
    "start_time": "2023-08-13T06:35:19.764Z"
   },
   {
    "duration": 293,
    "start_time": "2023-08-13T06:35:21.309Z"
   },
   {
    "duration": 18,
    "start_time": "2023-08-13T06:35:21.608Z"
   },
   {
    "duration": 8,
    "start_time": "2023-08-13T06:35:21.628Z"
   },
   {
    "duration": 19,
    "start_time": "2023-08-13T06:35:21.638Z"
   },
   {
    "duration": 7,
    "start_time": "2023-08-13T06:35:21.660Z"
   },
   {
    "duration": 41,
    "start_time": "2023-08-13T06:35:21.669Z"
   },
   {
    "duration": 5,
    "start_time": "2023-08-13T06:35:21.712Z"
   },
   {
    "duration": 41,
    "start_time": "2023-08-13T06:35:21.719Z"
   },
   {
    "duration": 22,
    "start_time": "2023-08-13T06:35:21.762Z"
   },
   {
    "duration": 20,
    "start_time": "2023-08-13T06:35:21.786Z"
   },
   {
    "duration": 34,
    "start_time": "2023-08-13T06:35:21.808Z"
   },
   {
    "duration": 37,
    "start_time": "2023-08-13T06:35:21.844Z"
   },
   {
    "duration": 16,
    "start_time": "2023-08-13T06:35:21.883Z"
   },
   {
    "duration": 30,
    "start_time": "2023-08-13T06:35:21.901Z"
   },
   {
    "duration": 26,
    "start_time": "2023-08-13T06:35:21.932Z"
   },
   {
    "duration": 16,
    "start_time": "2023-08-13T06:35:21.969Z"
   },
   {
    "duration": 84,
    "start_time": "2023-08-13T06:35:21.987Z"
   },
   {
    "duration": 70,
    "start_time": "2023-08-13T06:35:22.073Z"
   },
   {
    "duration": 63,
    "start_time": "2023-08-13T06:35:22.146Z"
   },
   {
    "duration": 11,
    "start_time": "2023-08-13T06:35:22.212Z"
   },
   {
    "duration": 3,
    "start_time": "2023-08-13T08:01:53.401Z"
   },
   {
    "duration": 8,
    "start_time": "2023-08-13T08:03:29.225Z"
   },
   {
    "duration": 20,
    "start_time": "2023-08-13T08:20:09.359Z"
   },
   {
    "duration": 23,
    "start_time": "2023-08-13T08:20:45.314Z"
   },
   {
    "duration": 8,
    "start_time": "2023-08-13T08:21:24.175Z"
   },
   {
    "duration": 4,
    "start_time": "2023-08-13T08:21:38.639Z"
   },
   {
    "duration": 8,
    "start_time": "2023-08-13T08:21:47.648Z"
   },
   {
    "duration": 85,
    "start_time": "2023-08-13T08:22:53.040Z"
   },
   {
    "duration": 5,
    "start_time": "2023-08-13T08:34:00.546Z"
   },
   {
    "duration": 7,
    "start_time": "2023-08-13T08:35:46.483Z"
   },
   {
    "duration": 7,
    "start_time": "2023-08-13T08:36:09.027Z"
   },
   {
    "duration": 126,
    "start_time": "2023-08-13T08:37:42.885Z"
   },
   {
    "duration": 5,
    "start_time": "2023-08-13T08:37:52.341Z"
   },
   {
    "duration": 15,
    "start_time": "2023-08-13T08:37:55.266Z"
   },
   {
    "duration": 6,
    "start_time": "2023-08-13T08:38:04.740Z"
   },
   {
    "duration": 128,
    "start_time": "2023-08-13T08:39:20.820Z"
   },
   {
    "duration": 3,
    "start_time": "2023-08-13T08:40:59.045Z"
   },
   {
    "duration": 20,
    "start_time": "2023-08-13T08:40:59.701Z"
   },
   {
    "duration": 5,
    "start_time": "2023-08-13T08:41:01.077Z"
   },
   {
    "duration": 14,
    "start_time": "2023-08-13T08:48:09.727Z"
   },
   {
    "duration": 18,
    "start_time": "2023-08-13T08:48:52.842Z"
   },
   {
    "duration": 13,
    "start_time": "2023-08-13T08:49:21.726Z"
   },
   {
    "duration": 7,
    "start_time": "2023-08-13T08:53:41.085Z"
   },
   {
    "duration": 5,
    "start_time": "2023-08-13T09:03:21.267Z"
   },
   {
    "duration": 4,
    "start_time": "2023-08-13T09:03:43.476Z"
   },
   {
    "duration": 5,
    "start_time": "2023-08-13T09:03:50.920Z"
   },
   {
    "duration": 5,
    "start_time": "2023-08-13T09:04:12.023Z"
   },
   {
    "duration": 7,
    "start_time": "2023-08-13T09:05:01.348Z"
   },
   {
    "duration": 6,
    "start_time": "2023-08-13T09:07:53.318Z"
   },
   {
    "duration": 5,
    "start_time": "2023-08-13T09:08:27.126Z"
   },
   {
    "duration": 5,
    "start_time": "2023-08-13T09:09:14.484Z"
   },
   {
    "duration": 21,
    "start_time": "2023-08-13T09:10:01.334Z"
   },
   {
    "duration": 11,
    "start_time": "2023-08-13T09:10:02.103Z"
   },
   {
    "duration": 3,
    "start_time": "2023-08-13T09:10:06.375Z"
   },
   {
    "duration": 8,
    "start_time": "2023-08-13T09:10:10.360Z"
   },
   {
    "duration": 17,
    "start_time": "2023-08-13T09:10:14.472Z"
   },
   {
    "duration": 6,
    "start_time": "2023-08-13T09:10:17.718Z"
   },
   {
    "duration": 19,
    "start_time": "2023-08-13T09:10:21.333Z"
   },
   {
    "duration": 9,
    "start_time": "2023-08-13T09:10:24.871Z"
   },
   {
    "duration": 4,
    "start_time": "2023-08-13T09:10:29.014Z"
   },
   {
    "duration": 6,
    "start_time": "2023-08-13T09:10:31.191Z"
   },
   {
    "duration": 139,
    "start_time": "2023-08-13T10:37:26.220Z"
   },
   {
    "duration": 18,
    "start_time": "2023-08-13T10:41:49.277Z"
   },
   {
    "duration": 8,
    "start_time": "2023-08-13T10:41:50.334Z"
   },
   {
    "duration": 3,
    "start_time": "2023-08-13T10:41:51.429Z"
   },
   {
    "duration": 6,
    "start_time": "2023-08-13T10:41:55.101Z"
   },
   {
    "duration": 19,
    "start_time": "2023-08-13T10:41:56.316Z"
   },
   {
    "duration": 6,
    "start_time": "2023-08-13T10:42:01.069Z"
   },
   {
    "duration": 18,
    "start_time": "2023-08-13T10:42:11.623Z"
   },
   {
    "duration": 9,
    "start_time": "2023-08-13T10:42:11.963Z"
   },
   {
    "duration": 4,
    "start_time": "2023-08-13T10:42:14.828Z"
   },
   {
    "duration": 6,
    "start_time": "2023-08-13T10:42:16.877Z"
   },
   {
    "duration": 17,
    "start_time": "2023-08-13T10:44:11.119Z"
   },
   {
    "duration": 8,
    "start_time": "2023-08-13T10:44:12.445Z"
   },
   {
    "duration": 3,
    "start_time": "2023-08-13T10:44:14.364Z"
   },
   {
    "duration": 3,
    "start_time": "2023-08-13T10:44:17.006Z"
   },
   {
    "duration": 16,
    "start_time": "2023-08-13T10:44:18.238Z"
   },
   {
    "duration": 5,
    "start_time": "2023-08-13T10:44:19.198Z"
   },
   {
    "duration": 13,
    "start_time": "2023-08-13T10:47:02.704Z"
   },
   {
    "duration": 3,
    "start_time": "2023-08-13T10:47:13.136Z"
   },
   {
    "duration": 44,
    "start_time": "2023-08-13T10:47:13.551Z"
   },
   {
    "duration": 43,
    "start_time": "2023-08-13T10:47:16.414Z"
   },
   {
    "duration": 46,
    "start_time": "2023-08-13T10:47:18.463Z"
   },
   {
    "duration": 2348,
    "start_time": "2023-08-13T11:04:59.064Z"
   },
   {
    "duration": 1838,
    "start_time": "2023-08-13T11:05:01.415Z"
   },
   {
    "duration": 62,
    "start_time": "2023-08-13T11:05:03.255Z"
   },
   {
    "duration": 29,
    "start_time": "2023-08-13T11:05:03.320Z"
   },
   {
    "duration": 19,
    "start_time": "2023-08-13T11:05:03.351Z"
   },
   {
    "duration": 64,
    "start_time": "2023-08-13T11:05:03.372Z"
   },
   {
    "duration": 3,
    "start_time": "2023-08-13T11:05:03.438Z"
   },
   {
    "duration": 11,
    "start_time": "2023-08-13T11:05:03.442Z"
   },
   {
    "duration": 10,
    "start_time": "2023-08-13T11:05:03.455Z"
   },
   {
    "duration": 23,
    "start_time": "2023-08-13T11:05:03.468Z"
   },
   {
    "duration": 24,
    "start_time": "2023-08-13T11:05:03.493Z"
   },
   {
    "duration": 9,
    "start_time": "2023-08-13T11:05:03.519Z"
   },
   {
    "duration": 35,
    "start_time": "2023-08-13T11:05:03.530Z"
   },
   {
    "duration": 18,
    "start_time": "2023-08-13T11:05:03.567Z"
   },
   {
    "duration": 23,
    "start_time": "2023-08-13T11:05:03.587Z"
   },
   {
    "duration": 9,
    "start_time": "2023-08-13T11:05:03.611Z"
   },
   {
    "duration": 20,
    "start_time": "2023-08-13T11:05:03.622Z"
   },
   {
    "duration": 31,
    "start_time": "2023-08-13T11:05:03.644Z"
   },
   {
    "duration": 10,
    "start_time": "2023-08-13T11:05:03.677Z"
   },
   {
    "duration": 31,
    "start_time": "2023-08-13T11:05:03.710Z"
   },
   {
    "duration": 32,
    "start_time": "2023-08-13T11:05:03.743Z"
   },
   {
    "duration": 31,
    "start_time": "2023-08-13T11:05:03.778Z"
   },
   {
    "duration": 37,
    "start_time": "2023-08-13T11:05:03.811Z"
   },
   {
    "duration": 29,
    "start_time": "2023-08-13T11:05:03.850Z"
   },
   {
    "duration": 31,
    "start_time": "2023-08-13T11:05:03.881Z"
   },
   {
    "duration": 15,
    "start_time": "2023-08-13T11:05:03.914Z"
   },
   {
    "duration": 224,
    "start_time": "2023-08-13T11:05:03.931Z"
   },
   {
    "duration": 206,
    "start_time": "2023-08-13T11:05:04.160Z"
   },
   {
    "duration": 149,
    "start_time": "2023-08-13T11:05:04.368Z"
   },
   {
    "duration": 190,
    "start_time": "2023-08-13T11:05:04.519Z"
   },
   {
    "duration": 290,
    "start_time": "2023-08-13T11:05:04.711Z"
   },
   {
    "duration": 495,
    "start_time": "2023-08-13T11:05:05.003Z"
   },
   {
    "duration": 437,
    "start_time": "2023-08-13T11:05:05.501Z"
   },
   {
    "duration": 1529,
    "start_time": "2023-08-13T11:05:05.941Z"
   },
   {
    "duration": 834,
    "start_time": "2023-08-13T11:05:07.472Z"
   },
   {
    "duration": 959,
    "start_time": "2023-08-13T11:05:08.308Z"
   },
   {
    "duration": 157,
    "start_time": "2023-08-13T11:05:09.269Z"
   },
   {
    "duration": 22,
    "start_time": "2023-08-13T11:05:09.429Z"
   },
   {
    "duration": 105,
    "start_time": "2023-08-13T11:05:09.454Z"
   },
   {
    "duration": 835,
    "start_time": "2023-08-13T11:05:09.561Z"
   },
   {
    "duration": 1537,
    "start_time": "2023-08-13T11:05:10.398Z"
   },
   {
    "duration": 300,
    "start_time": "2023-08-13T11:05:11.937Z"
   },
   {
    "duration": 18,
    "start_time": "2023-08-13T11:05:12.240Z"
   },
   {
    "duration": 49,
    "start_time": "2023-08-13T11:05:12.260Z"
   },
   {
    "duration": 21,
    "start_time": "2023-08-13T11:05:12.311Z"
   },
   {
    "duration": 20,
    "start_time": "2023-08-13T11:05:12.334Z"
   },
   {
    "duration": 40,
    "start_time": "2023-08-13T11:05:12.356Z"
   },
   {
    "duration": 137,
    "start_time": "2023-08-13T11:05:12.397Z"
   },
   {
    "duration": 0,
    "start_time": "2023-08-13T11:05:12.536Z"
   },
   {
    "duration": 0,
    "start_time": "2023-08-13T11:05:12.537Z"
   },
   {
    "duration": 0,
    "start_time": "2023-08-13T11:05:12.539Z"
   },
   {
    "duration": 1,
    "start_time": "2023-08-13T11:05:12.539Z"
   },
   {
    "duration": 0,
    "start_time": "2023-08-13T11:05:12.540Z"
   },
   {
    "duration": 0,
    "start_time": "2023-08-13T11:05:12.542Z"
   },
   {
    "duration": 0,
    "start_time": "2023-08-13T11:05:12.543Z"
   },
   {
    "duration": 0,
    "start_time": "2023-08-13T11:05:12.544Z"
   },
   {
    "duration": 0,
    "start_time": "2023-08-13T11:05:12.545Z"
   },
   {
    "duration": 0,
    "start_time": "2023-08-13T11:05:12.546Z"
   },
   {
    "duration": 0,
    "start_time": "2023-08-13T11:05:12.548Z"
   },
   {
    "duration": 0,
    "start_time": "2023-08-13T11:05:12.548Z"
   },
   {
    "duration": 0,
    "start_time": "2023-08-13T11:05:12.550Z"
   },
   {
    "duration": 0,
    "start_time": "2023-08-13T11:05:12.551Z"
   },
   {
    "duration": 0,
    "start_time": "2023-08-13T11:05:12.552Z"
   },
   {
    "duration": 0,
    "start_time": "2023-08-13T11:05:12.553Z"
   },
   {
    "duration": 13,
    "start_time": "2023-08-13T11:06:07.990Z"
   },
   {
    "duration": 13,
    "start_time": "2023-08-13T11:06:16.553Z"
   },
   {
    "duration": 9,
    "start_time": "2023-08-13T11:06:55.517Z"
   },
   {
    "duration": 19,
    "start_time": "2023-08-13T11:07:40.564Z"
   },
   {
    "duration": 8,
    "start_time": "2023-08-13T11:07:41.318Z"
   },
   {
    "duration": 3,
    "start_time": "2023-08-13T11:07:42.373Z"
   },
   {
    "duration": 8,
    "start_time": "2023-08-13T11:07:43.991Z"
   },
   {
    "duration": 20,
    "start_time": "2023-08-13T11:07:44.853Z"
   },
   {
    "duration": 7,
    "start_time": "2023-08-13T11:07:45.701Z"
   },
   {
    "duration": 23,
    "start_time": "2023-08-13T11:07:48.949Z"
   },
   {
    "duration": 9,
    "start_time": "2023-08-13T11:07:49.430Z"
   },
   {
    "duration": 4,
    "start_time": "2023-08-13T11:07:50.277Z"
   },
   {
    "duration": 7,
    "start_time": "2023-08-13T11:07:55.366Z"
   },
   {
    "duration": 10,
    "start_time": "2023-08-13T11:09:09.380Z"
   },
   {
    "duration": 3,
    "start_time": "2023-08-13T11:09:10.869Z"
   },
   {
    "duration": 45,
    "start_time": "2023-08-13T11:09:11.237Z"
   },
   {
    "duration": 45,
    "start_time": "2023-08-13T11:09:12.759Z"
   },
   {
    "duration": 43,
    "start_time": "2023-08-13T11:09:14.116Z"
   },
   {
    "duration": 10,
    "start_time": "2023-08-13T11:09:15.975Z"
   },
   {
    "duration": 141,
    "start_time": "2023-08-13T11:15:50.711Z"
   },
   {
    "duration": 123,
    "start_time": "2023-08-13T11:17:16.169Z"
   },
   {
    "duration": 250,
    "start_time": "2023-08-13T11:17:51.859Z"
   },
   {
    "duration": 127,
    "start_time": "2023-08-13T11:18:06.488Z"
   },
   {
    "duration": 149,
    "start_time": "2023-08-13T11:18:27.177Z"
   },
   {
    "duration": 149,
    "start_time": "2023-08-13T11:19:11.051Z"
   },
   {
    "duration": 135,
    "start_time": "2023-08-13T11:21:00.602Z"
   },
   {
    "duration": 132,
    "start_time": "2023-08-13T11:21:47.035Z"
   },
   {
    "duration": 138,
    "start_time": "2023-08-13T11:22:02.104Z"
   },
   {
    "duration": 133,
    "start_time": "2023-08-13T11:22:16.378Z"
   },
   {
    "duration": 141,
    "start_time": "2023-08-13T11:23:34.433Z"
   },
   {
    "duration": 138,
    "start_time": "2023-08-13T11:25:11.818Z"
   },
   {
    "duration": 165,
    "start_time": "2023-08-13T11:25:49.311Z"
   },
   {
    "duration": 137,
    "start_time": "2023-08-13T11:26:13.709Z"
   },
   {
    "duration": 286,
    "start_time": "2023-08-13T11:27:11.115Z"
   },
   {
    "duration": 145,
    "start_time": "2023-08-13T11:28:09.004Z"
   },
   {
    "duration": 3,
    "start_time": "2023-08-13T11:29:04.427Z"
   },
   {
    "duration": 139,
    "start_time": "2023-08-13T11:29:05.548Z"
   },
   {
    "duration": 133,
    "start_time": "2023-08-13T11:29:11.567Z"
   },
   {
    "duration": 167,
    "start_time": "2023-08-13T11:29:26.042Z"
   },
   {
    "duration": 144,
    "start_time": "2023-08-13T11:29:28.298Z"
   },
   {
    "duration": 2310,
    "start_time": "2023-08-13T11:29:54.673Z"
   },
   {
    "duration": 1588,
    "start_time": "2023-08-13T11:29:56.985Z"
   },
   {
    "duration": 126,
    "start_time": "2023-08-13T11:29:58.575Z"
   },
   {
    "duration": 27,
    "start_time": "2023-08-13T11:29:58.704Z"
   },
   {
    "duration": 15,
    "start_time": "2023-08-13T11:29:58.733Z"
   },
   {
    "duration": 51,
    "start_time": "2023-08-13T11:29:58.750Z"
   },
   {
    "duration": 18,
    "start_time": "2023-08-13T11:29:58.802Z"
   },
   {
    "duration": 26,
    "start_time": "2023-08-13T11:29:58.822Z"
   },
   {
    "duration": 16,
    "start_time": "2023-08-13T11:29:58.851Z"
   },
   {
    "duration": 35,
    "start_time": "2023-08-13T11:29:58.870Z"
   },
   {
    "duration": 27,
    "start_time": "2023-08-13T11:29:58.907Z"
   },
   {
    "duration": 9,
    "start_time": "2023-08-13T11:29:58.937Z"
   },
   {
    "duration": 23,
    "start_time": "2023-08-13T11:29:58.948Z"
   },
   {
    "duration": 9,
    "start_time": "2023-08-13T11:29:58.973Z"
   },
   {
    "duration": 23,
    "start_time": "2023-08-13T11:29:58.983Z"
   },
   {
    "duration": 20,
    "start_time": "2023-08-13T11:29:59.008Z"
   },
   {
    "duration": 20,
    "start_time": "2023-08-13T11:29:59.030Z"
   },
   {
    "duration": 63,
    "start_time": "2023-08-13T11:29:59.052Z"
   },
   {
    "duration": 8,
    "start_time": "2023-08-13T11:29:59.117Z"
   },
   {
    "duration": 49,
    "start_time": "2023-08-13T11:29:59.127Z"
   },
   {
    "duration": 31,
    "start_time": "2023-08-13T11:29:59.177Z"
   },
   {
    "duration": 8,
    "start_time": "2023-08-13T11:29:59.210Z"
   },
   {
    "duration": 36,
    "start_time": "2023-08-13T11:29:59.219Z"
   },
   {
    "duration": 68,
    "start_time": "2023-08-13T11:29:59.257Z"
   },
   {
    "duration": 8,
    "start_time": "2023-08-13T11:29:59.327Z"
   },
   {
    "duration": 9,
    "start_time": "2023-08-13T11:29:59.336Z"
   },
   {
    "duration": 311,
    "start_time": "2023-08-13T11:29:59.347Z"
   },
   {
    "duration": 3,
    "start_time": "2023-08-13T11:29:59.664Z"
   },
   {
    "duration": 166,
    "start_time": "2023-08-13T11:29:59.669Z"
   },
   {
    "duration": 157,
    "start_time": "2023-08-13T11:29:59.838Z"
   },
   {
    "duration": 160,
    "start_time": "2023-08-13T11:29:59.998Z"
   },
   {
    "duration": 250,
    "start_time": "2023-08-13T11:30:00.160Z"
   },
   {
    "duration": 456,
    "start_time": "2023-08-13T11:30:00.412Z"
   },
   {
    "duration": 358,
    "start_time": "2023-08-13T11:30:00.870Z"
   },
   {
    "duration": 1422,
    "start_time": "2023-08-13T11:30:01.231Z"
   },
   {
    "duration": 767,
    "start_time": "2023-08-13T11:30:02.656Z"
   },
   {
    "duration": 897,
    "start_time": "2023-08-13T11:30:03.425Z"
   },
   {
    "duration": 129,
    "start_time": "2023-08-13T11:30:04.324Z"
   },
   {
    "duration": 11,
    "start_time": "2023-08-13T11:30:04.454Z"
   },
   {
    "duration": 80,
    "start_time": "2023-08-13T11:30:04.467Z"
   },
   {
    "duration": 776,
    "start_time": "2023-08-13T11:30:04.549Z"
   },
   {
    "duration": 1504,
    "start_time": "2023-08-13T11:30:05.327Z"
   },
   {
    "duration": 286,
    "start_time": "2023-08-13T11:30:06.833Z"
   },
   {
    "duration": 17,
    "start_time": "2023-08-13T11:30:07.121Z"
   },
   {
    "duration": 267,
    "start_time": "2023-08-13T11:30:07.141Z"
   },
   {
    "duration": 159,
    "start_time": "2023-08-13T11:30:07.410Z"
   },
   {
    "duration": 188,
    "start_time": "2023-08-13T11:30:07.571Z"
   },
   {
    "duration": 165,
    "start_time": "2023-08-13T11:30:07.762Z"
   },
   {
    "duration": 41,
    "start_time": "2023-08-13T11:30:07.930Z"
   },
   {
    "duration": 174,
    "start_time": "2023-08-13T11:30:07.973Z"
   },
   {
    "duration": 258,
    "start_time": "2023-08-13T11:30:08.149Z"
   },
   {
    "duration": 98,
    "start_time": "2023-08-13T11:30:08.409Z"
   },
   {
    "duration": 70,
    "start_time": "2023-08-13T11:30:08.512Z"
   },
   {
    "duration": 129,
    "start_time": "2023-08-13T11:30:08.584Z"
   },
   {
    "duration": 24,
    "start_time": "2023-08-13T11:30:08.715Z"
   },
   {
    "duration": 35,
    "start_time": "2023-08-13T11:30:08.743Z"
   },
   {
    "duration": 8,
    "start_time": "2023-08-13T11:30:08.780Z"
   },
   {
    "duration": 80,
    "start_time": "2023-08-13T11:30:08.790Z"
   },
   {
    "duration": 37,
    "start_time": "2023-08-13T11:30:08.872Z"
   },
   {
    "duration": 33,
    "start_time": "2023-08-13T11:30:08.911Z"
   },
   {
    "duration": 16,
    "start_time": "2023-08-13T11:30:08.946Z"
   },
   {
    "duration": 67,
    "start_time": "2023-08-13T11:30:08.964Z"
   },
   {
    "duration": 44,
    "start_time": "2023-08-13T11:30:09.033Z"
   },
   {
    "duration": 57,
    "start_time": "2023-08-13T11:30:09.079Z"
   },
   {
    "duration": 54,
    "start_time": "2023-08-13T11:30:09.138Z"
   },
   {
    "duration": 148,
    "start_time": "2023-08-13T11:31:28.146Z"
   },
   {
    "duration": 162,
    "start_time": "2023-08-13T11:31:37.883Z"
   },
   {
    "duration": 2198,
    "start_time": "2023-08-13T11:34:17.789Z"
   },
   {
    "duration": 1604,
    "start_time": "2023-08-13T11:34:19.990Z"
   },
   {
    "duration": 79,
    "start_time": "2023-08-13T11:34:21.596Z"
   },
   {
    "duration": 27,
    "start_time": "2023-08-13T11:34:21.678Z"
   },
   {
    "duration": 18,
    "start_time": "2023-08-13T11:34:21.707Z"
   },
   {
    "duration": 51,
    "start_time": "2023-08-13T11:34:21.727Z"
   },
   {
    "duration": 3,
    "start_time": "2023-08-13T11:34:21.781Z"
   },
   {
    "duration": 5,
    "start_time": "2023-08-13T11:34:21.809Z"
   },
   {
    "duration": 13,
    "start_time": "2023-08-13T11:34:21.816Z"
   },
   {
    "duration": 9,
    "start_time": "2023-08-13T11:34:21.832Z"
   },
   {
    "duration": 9,
    "start_time": "2023-08-13T11:34:21.843Z"
   },
   {
    "duration": 7,
    "start_time": "2023-08-13T11:34:21.854Z"
   },
   {
    "duration": 46,
    "start_time": "2023-08-13T11:34:21.862Z"
   },
   {
    "duration": 7,
    "start_time": "2023-08-13T11:34:21.911Z"
   },
   {
    "duration": 12,
    "start_time": "2023-08-13T11:34:21.920Z"
   },
   {
    "duration": 6,
    "start_time": "2023-08-13T11:34:21.934Z"
   },
   {
    "duration": 19,
    "start_time": "2023-08-13T11:34:21.942Z"
   },
   {
    "duration": 56,
    "start_time": "2023-08-13T11:34:21.963Z"
   },
   {
    "duration": 12,
    "start_time": "2023-08-13T11:34:22.021Z"
   },
   {
    "duration": 29,
    "start_time": "2023-08-13T11:34:22.035Z"
   },
   {
    "duration": 43,
    "start_time": "2023-08-13T11:34:22.066Z"
   },
   {
    "duration": 9,
    "start_time": "2023-08-13T11:34:22.110Z"
   },
   {
    "duration": 29,
    "start_time": "2023-08-13T11:34:22.121Z"
   },
   {
    "duration": 27,
    "start_time": "2023-08-13T11:34:22.151Z"
   },
   {
    "duration": 35,
    "start_time": "2023-08-13T11:34:22.180Z"
   },
   {
    "duration": 11,
    "start_time": "2023-08-13T11:34:22.218Z"
   },
   {
    "duration": 187,
    "start_time": "2023-08-13T11:34:22.231Z"
   },
   {
    "duration": 3,
    "start_time": "2023-08-13T11:34:22.422Z"
   },
   {
    "duration": 150,
    "start_time": "2023-08-13T11:34:22.426Z"
   },
   {
    "duration": 150,
    "start_time": "2023-08-13T11:34:22.578Z"
   },
   {
    "duration": 165,
    "start_time": "2023-08-13T11:34:22.730Z"
   },
   {
    "duration": 257,
    "start_time": "2023-08-13T11:34:22.897Z"
   },
   {
    "duration": 457,
    "start_time": "2023-08-13T11:34:23.156Z"
   },
   {
    "duration": 360,
    "start_time": "2023-08-13T11:34:23.615Z"
   },
   {
    "duration": 1380,
    "start_time": "2023-08-13T11:34:23.977Z"
   },
   {
    "duration": 917,
    "start_time": "2023-08-13T11:34:25.359Z"
   },
   {
    "duration": 893,
    "start_time": "2023-08-13T11:34:26.279Z"
   },
   {
    "duration": 140,
    "start_time": "2023-08-13T11:34:27.174Z"
   },
   {
    "duration": 13,
    "start_time": "2023-08-13T11:34:27.316Z"
   },
   {
    "duration": 185,
    "start_time": "2023-08-13T11:34:27.331Z"
   },
   {
    "duration": 738,
    "start_time": "2023-08-13T11:34:27.519Z"
   },
   {
    "duration": 1500,
    "start_time": "2023-08-13T11:34:28.259Z"
   },
   {
    "duration": 278,
    "start_time": "2023-08-13T11:34:29.761Z"
   },
   {
    "duration": 17,
    "start_time": "2023-08-13T11:34:30.042Z"
   },
   {
    "duration": 35,
    "start_time": "2023-08-13T11:34:30.061Z"
   },
   {
    "duration": 32,
    "start_time": "2023-08-13T11:34:30.098Z"
   },
   {
    "duration": 28,
    "start_time": "2023-08-13T11:34:30.132Z"
   },
   {
    "duration": 40,
    "start_time": "2023-08-13T11:34:30.163Z"
   },
   {
    "duration": 7,
    "start_time": "2023-08-13T11:34:30.205Z"
   },
   {
    "duration": 47,
    "start_time": "2023-08-13T11:34:30.214Z"
   },
   {
    "duration": 18,
    "start_time": "2023-08-13T11:34:30.264Z"
   },
   {
    "duration": 29,
    "start_time": "2023-08-13T11:34:30.284Z"
   },
   {
    "duration": 55,
    "start_time": "2023-08-13T11:34:30.315Z"
   },
   {
    "duration": 85,
    "start_time": "2023-08-13T11:34:30.372Z"
   },
   {
    "duration": 111,
    "start_time": "2023-08-13T11:34:30.459Z"
   },
   {
    "duration": 40,
    "start_time": "2023-08-13T11:34:30.571Z"
   },
   {
    "duration": 22,
    "start_time": "2023-08-13T11:34:30.613Z"
   },
   {
    "duration": 30,
    "start_time": "2023-08-13T11:34:30.637Z"
   },
   {
    "duration": 79,
    "start_time": "2023-08-13T11:34:30.669Z"
   },
   {
    "duration": 74,
    "start_time": "2023-08-13T11:34:30.750Z"
   },
   {
    "duration": 42,
    "start_time": "2023-08-13T11:34:30.826Z"
   },
   {
    "duration": 74,
    "start_time": "2023-08-13T11:34:30.870Z"
   },
   {
    "duration": 44,
    "start_time": "2023-08-13T11:34:30.946Z"
   },
   {
    "duration": 63,
    "start_time": "2023-08-13T11:34:30.992Z"
   },
   {
    "duration": 9,
    "start_time": "2023-08-13T11:34:31.057Z"
   },
   {
    "duration": 43,
    "start_time": "2023-08-13T11:34:31.068Z"
   },
   {
    "duration": 3550,
    "start_time": "2023-08-14T04:45:08.605Z"
   },
   {
    "duration": 2152,
    "start_time": "2023-08-14T04:45:12.157Z"
   },
   {
    "duration": 118,
    "start_time": "2023-08-14T04:45:14.311Z"
   },
   {
    "duration": 24,
    "start_time": "2023-08-14T04:45:14.432Z"
   },
   {
    "duration": 12,
    "start_time": "2023-08-14T04:45:14.458Z"
   },
   {
    "duration": 46,
    "start_time": "2023-08-14T04:45:14.472Z"
   },
   {
    "duration": 2,
    "start_time": "2023-08-14T04:45:14.520Z"
   },
   {
    "duration": 13,
    "start_time": "2023-08-14T04:45:14.524Z"
   },
   {
    "duration": 11,
    "start_time": "2023-08-14T04:45:14.538Z"
   },
   {
    "duration": 7,
    "start_time": "2023-08-14T04:45:14.552Z"
   },
   {
    "duration": 9,
    "start_time": "2023-08-14T04:45:14.561Z"
   },
   {
    "duration": 26,
    "start_time": "2023-08-14T04:45:14.572Z"
   },
   {
    "duration": 22,
    "start_time": "2023-08-14T04:45:14.600Z"
   },
   {
    "duration": 17,
    "start_time": "2023-08-14T04:45:14.624Z"
   },
   {
    "duration": 12,
    "start_time": "2023-08-14T04:45:14.644Z"
   },
   {
    "duration": 6,
    "start_time": "2023-08-14T04:45:14.658Z"
   },
   {
    "duration": 39,
    "start_time": "2023-08-14T04:45:14.667Z"
   },
   {
    "duration": 20,
    "start_time": "2023-08-14T04:45:14.708Z"
   },
   {
    "duration": 27,
    "start_time": "2023-08-14T04:45:14.730Z"
   },
   {
    "duration": 30,
    "start_time": "2023-08-14T04:45:14.759Z"
   },
   {
    "duration": 25,
    "start_time": "2023-08-14T04:45:14.795Z"
   },
   {
    "duration": 8,
    "start_time": "2023-08-14T04:45:14.822Z"
   },
   {
    "duration": 32,
    "start_time": "2023-08-14T04:45:14.832Z"
   },
   {
    "duration": 51,
    "start_time": "2023-08-14T04:45:14.865Z"
   },
   {
    "duration": 7,
    "start_time": "2023-08-14T04:45:14.918Z"
   },
   {
    "duration": 14,
    "start_time": "2023-08-14T04:45:14.927Z"
   },
   {
    "duration": 190,
    "start_time": "2023-08-14T04:45:14.942Z"
   },
   {
    "duration": 3,
    "start_time": "2023-08-14T04:45:15.136Z"
   },
   {
    "duration": 168,
    "start_time": "2023-08-14T04:45:15.141Z"
   },
   {
    "duration": 172,
    "start_time": "2023-08-14T04:45:15.310Z"
   },
   {
    "duration": 174,
    "start_time": "2023-08-14T04:45:15.483Z"
   },
   {
    "duration": 250,
    "start_time": "2023-08-14T04:45:15.659Z"
   },
   {
    "duration": 504,
    "start_time": "2023-08-14T04:45:15.911Z"
   },
   {
    "duration": 506,
    "start_time": "2023-08-14T04:45:16.417Z"
   },
   {
    "duration": 1435,
    "start_time": "2023-08-14T04:45:16.925Z"
   },
   {
    "duration": 757,
    "start_time": "2023-08-14T04:45:18.362Z"
   },
   {
    "duration": 841,
    "start_time": "2023-08-14T04:45:19.121Z"
   },
   {
    "duration": 120,
    "start_time": "2023-08-14T04:45:19.964Z"
   },
   {
    "duration": 11,
    "start_time": "2023-08-14T04:45:20.096Z"
   },
   {
    "duration": 74,
    "start_time": "2023-08-14T04:45:20.108Z"
   },
   {
    "duration": 704,
    "start_time": "2023-08-14T04:45:20.184Z"
   },
   {
    "duration": 1422,
    "start_time": "2023-08-14T04:45:20.890Z"
   },
   {
    "duration": 281,
    "start_time": "2023-08-14T04:45:22.314Z"
   },
   {
    "duration": 15,
    "start_time": "2023-08-14T04:45:22.597Z"
   },
   {
    "duration": 7,
    "start_time": "2023-08-14T04:45:22.614Z"
   },
   {
    "duration": 18,
    "start_time": "2023-08-14T04:45:22.623Z"
   },
   {
    "duration": 6,
    "start_time": "2023-08-14T04:45:22.642Z"
   },
   {
    "duration": 17,
    "start_time": "2023-08-14T04:45:22.649Z"
   },
   {
    "duration": 5,
    "start_time": "2023-08-14T04:45:22.668Z"
   },
   {
    "duration": 19,
    "start_time": "2023-08-14T04:45:22.694Z"
   },
   {
    "duration": 7,
    "start_time": "2023-08-14T04:45:22.715Z"
   },
   {
    "duration": 2,
    "start_time": "2023-08-14T04:45:22.724Z"
   },
   {
    "duration": 169,
    "start_time": "2023-08-14T04:45:22.728Z"
   },
   {
    "duration": 20,
    "start_time": "2023-08-14T04:45:22.899Z"
   },
   {
    "duration": 10,
    "start_time": "2023-08-14T04:45:22.921Z"
   },
   {
    "duration": 21,
    "start_time": "2023-08-14T04:45:22.933Z"
   },
   {
    "duration": 7,
    "start_time": "2023-08-14T04:45:22.955Z"
   },
   {
    "duration": 16,
    "start_time": "2023-08-14T04:45:22.964Z"
   },
   {
    "duration": 17,
    "start_time": "2023-08-14T04:45:22.981Z"
   },
   {
    "duration": 12,
    "start_time": "2023-08-14T04:45:23.000Z"
   },
   {
    "duration": 8,
    "start_time": "2023-08-14T04:45:23.014Z"
   },
   {
    "duration": 43,
    "start_time": "2023-08-14T04:45:23.024Z"
   },
   {
    "duration": 58,
    "start_time": "2023-08-14T04:45:23.069Z"
   },
   {
    "duration": 43,
    "start_time": "2023-08-14T04:45:23.128Z"
   },
   {
    "duration": 23,
    "start_time": "2023-08-14T04:45:23.173Z"
   },
   {
    "duration": 14,
    "start_time": "2023-08-14T04:45:23.197Z"
   }
  ],
  "kernelspec": {
   "display_name": "Python 3 (ipykernel)",
   "language": "python",
   "name": "python3"
  },
  "language_info": {
   "codemirror_mode": {
    "name": "ipython",
    "version": 3
   },
   "file_extension": ".py",
   "mimetype": "text/x-python",
   "name": "python",
   "nbconvert_exporter": "python",
   "pygments_lexer": "ipython3",
   "version": "3.9.13"
  },
  "toc": {
   "base_numbering": 1,
   "nav_menu": {},
   "number_sections": true,
   "sideBar": true,
   "skip_h1_title": true,
   "title_cell": "Table of Contents",
   "title_sidebar": "Contents",
   "toc_cell": false,
   "toc_position": {},
   "toc_section_display": true,
   "toc_window_display": false
  }
 },
 "nbformat": 4,
 "nbformat_minor": 2
}
